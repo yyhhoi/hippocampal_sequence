{
 "cells": [
  {
   "cell_type": "markdown",
   "metadata": {
    "pycharm": {
     "name": "#%% md\n"
    }
   },
   "source": [
    "# Import libraries"
   ]
  },
  {
   "cell_type": "code",
   "execution_count": 1,
   "metadata": {
    "pycharm": {
     "is_executing": false,
     "name": "#%%\n"
    }
   },
   "outputs": [],
   "source": [
    "import numpy as np\n",
    "import pandas as pd\n",
    "import os\n",
    "import shutil\n",
    "import re\n",
    "import scipy.io\n",
    "import matplotlib.pyplot as plt\n",
    "from os.path import join\n",
    "from glob import glob\n",
    "from common.hc3_preprocess import crns_get, get_sess_dict, read_whl, get_sr_from_xml, process_position_df\n",
    "from common.preprocess import get_occupancy, placefield, get_occupancy_bins, placefield_bins, spatial_information, complete_contourline\n",
    "from common.utils import load_pickle\n",
    "from common.comput_utils import pair_diff, find_pair_times\n",
    "from scipy.interpolate import interp1d\n",
    "from scipy.signal import filtfilt, butter, hilbert\n",
    "from scipy.io import loadmat\n",
    "from skimage.measure import find_contours\n",
    "from skimage.draw import polygon2mask\n",
    "\n",
    "# Analysis\n",
    "from common.comput_utils import IndataProcessor, check_border\n",
    "\n",
    "\n",
    "data_dir = 'data/crcns-hc-3/'\n",
    "os.makedirs(data_dir, exist_ok=True)\n",
    "meta_dir = os.path.join(data_dir, 'crcns-hc3-metadata-tables')\n",
    "related_tasks = ['bigSquare', 'midSquare']\n",
    "download_dir = os.path.join(data_dir, 'data_zips-tables')\n",
    "os.makedirs(download_dir, exist_ok=True)\n",
    "session_df = pd.read_csv(os.path.join(meta_dir, 'hc3-session.csv'),\n",
    "                         names=['id', 'topdir', 'session', 'behavior', 'fam', 'duration']\n",
    "                         )\n",
    "cell_df = pd.read_csv(os.path.join(meta_dir, 'hc3-cell.csv'), \n",
    "                      names= ['matlab_id', 'topdir', 'animal', 'ele', 'clu', 'region', 'ne', 'ni', 'eg', 'ig', 'ed', 'id', 'fireRate', 'totalFireRate', 'type', 'eDist', 'RefracRatio', 'RefracViol']\n",
    "                      )"
   ]
  },
  {
   "cell_type": "markdown",
   "metadata": {
    "pycharm": {
     "name": "#%% md\n"
    }
   },
   "source": [
    "# Download\n",
    "\n",
    "Get data from CRCNS website. Downloaded data stored at data/crcns-hc-3\n",
    "\n",
    "Criteria: (1) behavioral tasks (free foraging), (2) pyramidal cells, (3) CA1 / CA3 regions"
   ]
  },
  {
   "cell_type": "code",
   "execution_count": 2,
   "metadata": {
    "jupyter": {
     "outputs_hidden": false
    },
    "pycharm": {
     "is_executing": false,
     "name": "#%%\n"
    }
   },
   "outputs": [],
   "source": [
    "delete_list = ['.*fet.*', '.*m1m2.*', '.*m1v', '.*mpg', '.*mpeg', '.*mm.*', '.*spk.*', '.*threshold.*', '.*tar.gz']\n",
    "\n",
    "# selection based on the criteria (CA1/3, pyramidal, free foraging)\n",
    "selected_topdir_df = cell_df[(cell_df.type == 'p') & ((cell_df.region == 'CA1') | (cell_df.region == 'CA3'))]\n",
    "selected_topdirs = selected_topdir_df.topdir.unique()\n",
    "\n",
    "task_mask = session_df.behavior.isin(related_tasks)\n",
    "topdir_mask = session_df.topdir.isin(selected_topdirs)\n",
    "data_to_download = session_df[topdir_mask & task_mask & fam_mask][['topdir', 'session']].reset_index(drop=True)\n",
    "\n"
   ]
  },
  {
   "cell_type": "code",
   "execution_count": null,
   "metadata": {
    "scrolled": true
   },
   "outputs": [],
   "source": [
    "# Download data from crnrs website\n",
    "username, password = None, None\n",
    "for i in range(data_to_download.shape[0]):\n",
    "    print('%d/%d' % (i, data_to_download.shape[0]))\n",
    "    topdir_each, session_each = data_to_download.iloc[i][['topdir', 'session']]\n",
    "    dataset_identifier = 'hc-3/%s/%s.tar.gz' % (topdir_each, session_each)\n",
    "    \n",
    "    if username is None:\n",
    "        raise ValueError(\"An account is required. You can register it in the CRNS website\")\n",
    "    filename = crns_get(dataset_identifier,\n",
    "                         username='',  # An account is required. You can register it in the CRNS website\n",
    "                         password='',  #\n",
    "                         dest_dir=download_dir)\n",
    "    print('Downloaded %s'%(filename))"
   ]
  },
  {
   "cell_type": "code",
   "execution_count": null,
   "metadata": {},
   "outputs": [],
   "source": [
    "\n",
    "\n",
    "# Extract downloaded data\n",
    "all_zips = glob(os.path.join(download_dir, '*.tar.gz'))\n",
    "for idx, zip in enumerate(all_zips):\n",
    "    print('\\rExtracting %d/%d: %s' % (idx, len(all_zips), zip))\n",
    "    shutil.unpack_archive(zip, data_dir)\n",
    "\n",
    "# Delete irrelevant data to save space (use with cautions)\n",
    "for x in os.walk(data_dir):\n",
    "    # print('Dir path = \\n', x[0])\n",
    "    # print('File names = \\n', x[2])\n",
    "    if len(x[2]) > 0:\n",
    "        for fn in x[2]:\n",
    "            for each_patten in delete_list:\n",
    "                match_obj = re.search(each_patten, fn)\n",
    "                if match_obj:\n",
    "                    file_to_rm_path = os.path.join(x[0], fn)\n",
    "                    os.remove(file_to_rm_path)\n",
    "                    print('Delete: ', file_to_rm_path)\n",
    "    "
   ]
  },
  {
   "cell_type": "code",
   "execution_count": null,
   "metadata": {},
   "outputs": [],
   "source": [
    "# Run the matlab script to convert the LFP data in .egg format to .mat\n",
    "# The script smaples 30 channels (seeded) for their lfp, and save them as .mat\n",
    "# /home/yiu/projects/hippocampus/matlab/hc3_preprocessing.m"
   ]
  },
  {
   "cell_type": "markdown",
   "metadata": {
    "pycharm": {
     "is_executing": false,
     "name": "#%% md\n"
    }
   },
   "source": [
    "# Organize into dataframe\n",
    "\n",
    "Organize and SAVE all data into a dataframe\n",
    "\n",
    "Saved dataframe is located at data/dataframes/hc3data_df.pickle"
   ]
  },
  {
   "cell_type": "code",
   "execution_count": 2,
   "metadata": {
    "jupyter": {
     "outputs_hidden": false
    },
    "pycharm": {
     "is_executing": false,
     "name": "#%%\n"
    }
   },
   "outputs": [
    {
     "name": "stdout",
     "output_type": "stream",
     "text": [
      "38)i01_maze15/i01_maze15_MS.001 .whl or . mat not found\n",
      "48)Skip data/crcns-hc-3/hc3data_df_raw3.pickle\n",
      "59)Skip data/crcns-hc-3/hc3data_df_raw4.pickle\n",
      "62)Skip data/crcns-hc-3/hc3data_df_raw2.pickle\n",
      "64)Skip data/crcns-hc-3/hc3data_df_raw1.pickle\n",
      "76)"
     ]
    }
   ],
   "source": [
    "data_dir = 'data/crcns-hc-3/'\n",
    "position_fs = 39.06  # See dataset description from crcns\n",
    "excluded_dirs = ['data_zips-tables', 'crcns-hc3-metadata-tables']\n",
    "sess2topdir, sess2animal, sess2behavior, sess2duration = get_sess_dict(cell_df, session_df)\n",
    "\n",
    "df_dict = dict(\n",
    "    animal=[],\n",
    "    topdir=[],\n",
    "    session=[],\n",
    "    duration=[],\n",
    "    behavior=[],\n",
    "    position=[],\n",
    "    CA1_spdf=[],\n",
    "    CA3_spdf=[],\n",
    "    wave=[],\n",
    "    spike_samplingrate=[],\n",
    "    lfp_samplingrate=[],\n",
    "    position_samplingrate=[]\n",
    ")\n",
    "progress_idx = 0\n",
    "\n",
    "# Loop topdir\n",
    "for topdir_each in os.listdir(data_dir):\n",
    "    if topdir_each in excluded_dirs:\n",
    "        continue\n",
    "    nextdir = os.path.join(data_dir, topdir_each)\n",
    "    if os.path.isdir(nextdir) is False:\n",
    "        print('Skip', nextdir)\n",
    "        continue\n",
    "\n",
    "    # Loop session\n",
    "    for sess_folder in os.listdir(os.path.join(data_dir, topdir_each)):\n",
    "        progress_idx += 1\n",
    "        print('\\r%d)' % progress_idx, end='', flush=True)\n",
    "        sess_dir = os.path.join(data_dir, topdir_each, sess_folder)\n",
    "\n",
    "        # Rat's position and LFP\n",
    "        position_file_path = os.path.join(os.path.join(sess_dir, '%s.whl' % sess_folder))\n",
    "        lfp_path = os.path.join(os.path.join(sess_dir, '%s.mat' % sess_folder))\n",
    "        if (os.path.isfile(position_file_path)) and (os.path.isfile(lfp_path)):\n",
    "            position_df = read_whl(position_file_path)\n",
    "            lfp_allch = loadmat(lfp_path)['sesslfp']\n",
    "        else:\n",
    "            print('%s/%s .whl or . mat not found' % (topdir_each, sess_folder))\n",
    "            continue  # spike data without position is not needed\n",
    "        topdir, animal, behavior, duration = sess2topdir[sess_folder], sess2animal[sess_folder], sess2behavior[\n",
    "            sess_folder], sess2duration[sess_folder]\n",
    "\n",
    "        # Get sampling rate\n",
    "        xml_path = os.path.join(sess_dir, '%s.xml' % (sess_folder))\n",
    "        spike_sr, lfp_sr = get_sr_from_xml(xml_path)\n",
    "\n",
    "        # Process theta wave\n",
    "        dt = 1 / lfp_sr\n",
    "        thetaband = np.array([5, 12]) * dt * 2\n",
    "        deltaband = np.array([1, 4]) * dt * 2\n",
    "        B, A = butter(4, thetaband, btype='band')\n",
    "        Bd, Ad = butter(2, deltaband, btype='band')\n",
    "        num_chs = lfp_allch.shape[0]\n",
    "        thetadeltaratio = np.zeros(num_chs)\n",
    "        for nch in range(num_chs):\n",
    "            lfp_eachch = lfp_allch[nch, :]\n",
    "            theta_filt = filtfilt(B, A, lfp_eachch)\n",
    "            delta_filt = filtfilt(Bd, Ad, lfp_eachch)\n",
    "            thetadeltaratio[nch] = np.sum(theta_filt ** 2) / np.sum(delta_filt ** 2)\n",
    "        maxchid = np.argmax(thetadeltaratio)\n",
    "        lfp_selected = lfp_allch[maxchid, :]\n",
    "        tax = np.arange(lfp_selected.shape[0]) / lfp_sr\n",
    "        theta_selected = filtfilt(B, A, lfp_selected)\n",
    "        phase = np.angle(hilbert(theta_selected))\n",
    "\n",
    "        wave_dict = dict()\n",
    "        wave_dict['theta'] = theta_selected\n",
    "        wave_dict['lfp'] = lfp_selected\n",
    "        wave_dict['tax'] = tax\n",
    "        wave_dict['phase'] = phase\n",
    "        wavedf = pd.DataFrame(wave_dict)\n",
    "\n",
    "        # Spike informations\n",
    "        tsp_dict = {'CA1': {'ele': [], 'clu': [], 'tsp': []},\n",
    "                    'CA3': {'ele': [], 'clu': [], 'tsp': []}}\n",
    "\n",
    "        for region in ['CA1', 'CA3']:\n",
    "            filtered_cell_df = cell_df[\n",
    "                (cell_df.topdir == topdir) & (cell_df.animal == animal) & (cell_df.region == region) & (\n",
    "                            cell_df.type == 'p')]\n",
    "            region_ele_list = filtered_cell_df.ele.unique()\n",
    "\n",
    "            for ele in region_ele_list:\n",
    "                all_clu_list = filtered_cell_df[(filtered_cell_df.ele == ele) & (filtered_cell_df.type == 'p') & (\n",
    "                            filtered_cell_df.fireRate < 7)].clu.unique()\n",
    "                res_path = os.path.join(sess_dir, '%s.res.%d' % (sess_folder, ele))\n",
    "                clu_path = os.path.join(sess_dir, '%s.clu.%d' % (sess_folder, ele))\n",
    "                res = pd.read_csv(res_path, names=['tidx'])\n",
    "                clu = pd.read_csv(clu_path, header=0, names=['clu_class'])\n",
    "                res['time'] = res.tidx / spike_sr\n",
    "                for clu_num_each in all_clu_list:\n",
    "                    tsp = res.loc[clu.clu_class == clu_num_each, 'time'].to_numpy()\n",
    "                    if tsp.shape[0] > 0:\n",
    "                        tsp_dict[region]['ele'].append(ele)\n",
    "                        tsp_dict[region]['clu'].append(clu_num_each)\n",
    "                        tsp_dict[region]['tsp'].append(tsp)\n",
    "\n",
    "        CA1_spdf = pd.DataFrame(tsp_dict['CA1'])\n",
    "        CA3_spdf = pd.DataFrame(tsp_dict['CA3'])\n",
    "\n",
    "        df_dict['animal'].append(animal)\n",
    "        df_dict['topdir'].append(topdir)\n",
    "        df_dict['session'].append(sess_folder)\n",
    "        df_dict['duration'].append(duration)\n",
    "        df_dict['behavior'].append(behavior)\n",
    "        df_dict['position'].append(position_df)\n",
    "        df_dict['CA1_spdf'].append(CA1_spdf)\n",
    "        df_dict['CA3_spdf'].append(CA3_spdf)\n",
    "        df_dict['wave'].append(wavedf)\n",
    "        df_dict['spike_samplingrate'].append(spike_sr)\n",
    "        df_dict['lfp_samplingrate'].append(lfp_sr)\n",
    "        df_dict['position_samplingrate'].append(position_fs)\n",
    "\n",
    "hc3data_df = pd.DataFrame(df_dict)\n",
    "hc3data_df.to_pickle('data/crcns-hc-3/hc3data_df_raw.pickle')"
   ]
  },
  {
   "cell_type": "markdown",
   "metadata": {},
   "source": [
    "# Cleaning\n",
    "1. Check sampling rates by duration, positions by pixel\n",
    "2. Interpolate missing positions\n",
    "3. Convert x, y coordinates from pixel to cm \n",
    "4. Concatenate sessions within topdir (Optional)\n"
   ]
  },
  {
   "cell_type": "code",
   "execution_count": 3,
   "metadata": {},
   "outputs": [
    {
     "name": "stdout",
     "output_type": "stream",
     "text": [
      "With unique topdir, num CA1 = 1115, num CA3 = 345\n",
      "Unique clu:  [ 2  3  4  5  6  7  8  9 10 11 12 13 14 15 16 17 18 19 20 21 22 23 24 25]\n"
     ]
    }
   ],
   "source": [
    "# 1. Check sampling rates by duration, positions by pixel\n",
    "check_dict = dict(beh=[], xmax=[], ymax=[], xrange=[], yrange=[], duration=[], tmaxRun=[], tspmaxCA1=[],\n",
    "                  tspmaxCA3=[], tmaxWave=[])\n",
    "count_dict = dict(topdir=[], session=[], CA1_ncells=[], CA3_ncells=[])\n",
    "clu_all = []\n",
    "for i in range(hc3data_df.shape[0]):\n",
    "\n",
    "    posdf = hc3data_df.loc[i, 'position']\n",
    "    enclosure, duration = hc3data_df.loc[i, ['behavior', 'duration']]\n",
    "    topdir, session = hc3data_df.loc[i, ['topdir', 'session']]\n",
    "\n",
    "    wave = hc3data_df.loc[i, 'wave']\n",
    "\n",
    "    wave_tmax, wave_tmin = wave['tax'].max(), wave['tax'].min()\n",
    "\n",
    "    xmax, ymax, tmax = posdf['x'].max(), posdf['y'].max(), posdf['t'].max()\n",
    "\n",
    "    nonnanmask = (posdf['x'] > -1) & (posdf['y'] > -1)\n",
    "\n",
    "    xmin, ymin = posdf.loc[nonnanmask, 'x'].min(), posdf.loc[nonnanmask, 'y'].min()\n",
    "\n",
    "    CA1spdf, CA3spdf = hc3data_df.loc[i, ['CA1_spdf', 'CA3_spdf']]\n",
    "\n",
    "    if CA1spdf.shape[0] > 0:\n",
    "        tmaxCA1 = np.concatenate(CA1spdf['tsp'].to_list()).max()\n",
    "\n",
    "        clu_all.extend(CA1spdf['clu'].to_list())\n",
    "\n",
    "    else:\n",
    "        tmaxCA1 = np.nan\n",
    "    if CA3spdf.shape[0] > 0:\n",
    "        tmaxCA3 = np.concatenate(CA3spdf['tsp'].to_list()).max()\n",
    "        clu_all.extend(CA1spdf['clu'].to_list())\n",
    "    else:\n",
    "        tmaxCA3 = np.nan\n",
    "\n",
    "    check_dict['beh'].append(enclosure)\n",
    "    check_dict['xmax'].append((xmin, xmax))\n",
    "    check_dict['ymax'].append((ymin, ymax))\n",
    "    check_dict['xrange'].append(xmax - xmin)\n",
    "    check_dict['yrange'].append(ymax - ymin)\n",
    "    check_dict['duration'].append(duration)\n",
    "    check_dict['tmaxRun'].append(tmax)\n",
    "    check_dict['tspmaxCA1'].append(tmaxCA1)\n",
    "    check_dict['tspmaxCA3'].append(tmaxCA3)\n",
    "    check_dict['tmaxWave'].append(wave_tmax)\n",
    "    count_dict['topdir'].append(topdir)\n",
    "    count_dict['session'].append(session)\n",
    "    count_dict['CA1_ncells'].append(CA1spdf.shape[0])\n",
    "    count_dict['CA3_ncells'].append(CA3spdf.shape[0])\n",
    "\n",
    "check_df = pd.DataFrame(check_dict)\n",
    "count_df = pd.DataFrame(count_dict)\n",
    "\n",
    "unique_topdirs = count_df.topdir.unique()\n",
    "selected_idx = []\n",
    "for topdir in unique_topdirs:\n",
    "    tmpdf = count_df[count_df['topdir'] == topdir]\n",
    "    maxidx = tmpdf[tmpdf['CA3_ncells'] == tmpdf['CA3_ncells'].max()].index\n",
    "    if maxidx.shape[0] > 1:\n",
    "        maxidx = [maxidx[0]]\n",
    "\n",
    "    selected_idx.extend(maxidx)\n",
    "\n",
    "num_allCA1 = count_df.loc[selected_idx, 'CA1_ncells'].sum()\n",
    "num_allCA3 = count_df.loc[selected_idx, 'CA3_ncells'].sum()\n",
    "\n",
    "print('With unique topdir, num CA1 = %d, num CA3 = %d' % (num_allCA1, num_allCA3))\n",
    "print('Unique clu: ', np.unique(clu_all))\n",
    "print(check_df)"
   ]
  },
  {
   "cell_type": "code",
   "execution_count": null,
   "metadata": {},
   "outputs": [],
   "source": [
    "hc3data_df = pd.read_pickle('data/crcns-hc-3/hc3data_df_raw.pickle')"
   ]
  },
  {
   "cell_type": "code",
   "execution_count": 4,
   "metadata": {},
   "outputs": [],
   "source": [
    "# 1. Interpolate missing positions\n",
    "# 2. rescale x, y coordinates from pixel to cm\n",
    "print('Cleaning position data')\n",
    "arena_l = {'bigSquare': 180, 'midSquare': 120}\n",
    "new_posdf_list = []\n",
    "for i in range(hc3data_df.shape[0]):\n",
    "    posdf = hc3data_df.loc[i, 'position']\n",
    "    beh = hc3data_df.loc[i, 'behavior']\n",
    "    new_posdf = process_position_df(posdf, arena_l=arena_l[beh])\n",
    "    new_posdf_list.append(new_posdf)\n",
    "hc3data_df['posdf'] = new_posdf_list\n"
   ]
  },
  {
   "cell_type": "code",
   "execution_count": 146,
   "metadata": {},
   "outputs": [],
   "source": [
    "# 4. Concatenate sessions within topdir (Optional)\n",
    "combined_df_dict = dict(animal=[],\n",
    "                        topdir=[],\n",
    "                        session=[],\n",
    "                        duration=[],\n",
    "                        behavior=[],\n",
    "                        CA1_spdf=[],\n",
    "                        CA3_spdf=[],\n",
    "                        wave=[],\n",
    "                        posdf=[],\n",
    "                        spike_samplingrate=[],\n",
    "                        lfp_samplingrate=[],\n",
    "                        position_samplingrate=[])\n",
    "\n",
    "\n",
    "for topdir, topdf in hc3data_df.groupby('topdir'):\n",
    "    if topdf.shape[0] < 2:  # Nothing to combine\n",
    "        for col in combined_df_dict.keys():\n",
    "            combined_df_dict[col].append(topdf.iloc[0][col])\n",
    "    else:\n",
    "        topdf = topdf.sort_values('session').reset_index(drop=True)\n",
    "        num_sess = topdf.shape[0]\n",
    "        animal, beh, ssr, lsr, psr = topdf.loc[0, ['animal', 'behavior' , 'spike_samplingrate', 'lfp_samplingrate', 'position_samplingrate']]\n",
    "        \n",
    "        \n",
    "        # Shift time\n",
    "        posdf_list, wave_list, CA1_spdf_list, CA3_spdf_list = [], [], [], []\n",
    "        shifttime = 0\n",
    "        for nsess in range(num_sess):\n",
    "            posdf, CA1_spdf, CA3_spdf, wave = topdf.loc[nsess, ['posdf', 'CA1_spdf', 'CA3_spdf', 'wave']]\n",
    "            pos_tmin, pos_tmax = posdf['t'].min(), posdf['t'].max()\n",
    "            wave = wave[(wave['tax']>pos_tmin) & (wave['tax']< pos_tmax)].reset_index(drop=True)\n",
    "            \n",
    "            posdf['t'] = posdf['t'] - pos_tmin + shifttime\n",
    "            wave['tax'] = wave['tax'] - pos_tmin + shifttime\n",
    "            \n",
    "            \n",
    "            CA1nums, CA3nums = CA1_spdf.shape[0], CA3_spdf.shape[0]\n",
    "            tspca1_list, tspca3_list = [], []\n",
    "            for ica1 in range(CA1nums):\n",
    "                tspca1 = CA1_spdf.loc[ica1, 'tsp']\n",
    "                tspca1 = tspca1[(tspca1 > pos_tmin) & (tspca1 < pos_tmax)]\n",
    "                tspca1 = tspca1 - pos_tmin + shifttime\n",
    "                tspca1_list.append(tspca1)\n",
    "                \n",
    "            for ica3 in range(CA3nums):\n",
    "                tspca3 = CA3_spdf.loc[ica3, 'tsp']\n",
    "                tspca3 = tspca3[(tspca3 > pos_tmin) & (tspca3 < pos_tmax)]\n",
    "                tspca3 = tspca3 - pos_tmin + shifttime\n",
    "                tspca3_list.append(tspca3)\n",
    "            CA1_spdf['tsp'] = tspca1_list\n",
    "            CA3_spdf['tsp'] = tspca3_list\n",
    "            \n",
    "            posdf_list.append(posdf)\n",
    "            wave_list.append(wave)            \n",
    "            CA1_spdf_list.append(CA1_spdf)\n",
    "            CA3_spdf_list.append(CA3_spdf)\n",
    "            \n",
    "            shifttime = posdf['t'].max() + (1/psr)\n",
    "            \n",
    "        # Concatenate\n",
    "        poscat = pd.concat(posdf_list, ignore_index=True, axis=0)\n",
    "        wavecat = pd.concat(wave_list, ignore_index=True, axis=0)\n",
    "        duration = poscat['t'].max() - poscat['t'].min()\n",
    "        ca1dict = {'ele':[], 'clu':[], 'tsp':[]}\n",
    "        CA1_spdf_cat = pd.concat(CA1_spdf_list, ignore_index=True, axis=0)\n",
    "        CA1_spdf_cat['cell_code'] = CA1_spdf_cat['ele']*1000 + CA1_spdf_cat['clu']\n",
    "        for cell_code, codedf in CA1_spdf_cat.groupby('cell_code'):\n",
    "            ele = codedf.iloc[0]['ele']\n",
    "            clu = codedf.iloc[0]['clu']\n",
    "            tsp_cat = np.concatenate(codedf['tsp'].to_list())\n",
    "            ca1dict['ele'].append(ele)\n",
    "            ca1dict['clu'].append(clu)\n",
    "            ca1dict['tsp'].append(tsp_cat)\n",
    "            \n",
    "        new_CA1_spdf = pd.DataFrame(ca1dict)\n",
    "        \n",
    "        ca3dict = {'ele':[], 'clu':[], 'tsp':[]}\n",
    "        CA3_spdf_cat = pd.concat(CA3_spdf_list, ignore_index=True, axis=0)\n",
    "        CA3_spdf_cat['cell_code'] = CA3_spdf_cat['ele']*1000 + CA3_spdf_cat['clu']\n",
    "        for cell_code, codedf in CA3_spdf_cat.groupby('cell_code'):\n",
    "            ele = codedf.iloc[0]['ele']\n",
    "            clu = codedf.iloc[0]['clu']\n",
    "            tsp_cat = np.concatenate(codedf['tsp'].to_list())\n",
    "            ca3dict['ele'].append(ele)\n",
    "            ca3dict['clu'].append(clu)\n",
    "            ca3dict['tsp'].append(tsp_cat)\n",
    "            \n",
    "        new_CA3_spdf = pd.DataFrame(ca1dict)\n",
    "\n",
    "        \n",
    "        combined_df_dict['animal'].append(animal)\n",
    "        combined_df_dict['topdir'].append(topdir)\n",
    "        combined_df_dict['session'].append('+'.join(topdf.session.to_list()))\n",
    "        combined_df_dict['duration'].append(duration)\n",
    "        combined_df_dict['behavior'].append(beh)\n",
    "        combined_df_dict['CA1_spdf'].append(new_CA1_spdf)\n",
    "        combined_df_dict['CA3_spdf'].append(new_CA3_spdf)\n",
    "        combined_df_dict['wave'].append(wavecat)\n",
    "        combined_df_dict['posdf'].append(poscat)\n",
    "        combined_df_dict['spike_samplingrate'].append(ssr)\n",
    "        combined_df_dict['lfp_samplingrate'].append(lsr)\n",
    "        combined_df_dict['position_samplingrate'].append(psr)\n",
    "        \n",
    "combined_df = pd.DataFrame(combined_df_dict) \n",
    "        "
   ]
  },
  {
   "cell_type": "code",
   "execution_count": 148,
   "metadata": {
    "scrolled": true
   },
   "outputs": [],
   "source": [
    "combined_df.to_pickle('data/crcns-hc-3/hc3data_df_raw1.pickle')"
   ]
  },
  {
   "cell_type": "markdown",
   "metadata": {},
   "source": [
    "# Compute occupancy\n"
   ]
  },
  {
   "cell_type": "code",
   "execution_count": 2,
   "metadata": {},
   "outputs": [],
   "source": [
    "hc3data_df = pd.read_pickle('data/crcns-hc-3/hc3data_df_raw1.pickle')"
   ]
  },
  {
   "cell_type": "code",
   "execution_count": null,
   "metadata": {
    "scrolled": true
   },
   "outputs": [],
   "source": [
    "# Compute occupancy\n",
    "print('Compute occupancy')\n",
    "# # Compute occupancy\n",
    "# It takes ~4 hours. Recommend saving the result as checkpoint.\n",
    "num_sess = hc3data_df.shape[0]\n",
    "occ_list = []\n",
    "for nsess in range(num_sess):\n",
    "    print(\"%d/%d Session - Computing occupancy\" % (nsess, num_sess))\n",
    "\n",
    "    posdf = hc3data_df.loc[nsess, 'posdf']\n",
    "    x, y, t = posdf.x.to_numpy(), posdf.y.to_numpy(), posdf.t.to_numpy()\n",
    "    xx, yy, occupancy = get_occupancy(x, y, t)\n",
    "    occ_list.append(dict(xx=xx, yy=yy, occ=occupancy))\n",
    "hc3data_df['occ_dict'] = occ_list"
   ]
  },
  {
   "cell_type": "code",
   "execution_count": null,
   "metadata": {},
   "outputs": [],
   "source": [
    "hc3data_df = pd.to_pickle('data/crcns-hc-3/hc3data_df_raw2.pickle')"
   ]
  },
  {
   "cell_type": "markdown",
   "metadata": {},
   "source": [
    "# Shuffle Spatial information & Create Rate map"
   ]
  },
  {
   "cell_type": "code",
   "execution_count": 7,
   "metadata": {},
   "outputs": [],
   "source": [
    "hc3data_df = pd.read_pickle('data/crcns-hc-3/hc3data_df_raw2.pickle')\n"
   ]
  },
  {
   "cell_type": "code",
   "execution_count": null,
   "metadata": {
    "scrolled": true
   },
   "outputs": [],
   "source": [
    "print('Compute rate map and shuffle spatial information')\n",
    "\n",
    "# Shuffling\n",
    "Nshuffle = 1000\n",
    "seed = 0\n",
    "num_sess = hc3data_df.shape[0]\n",
    "for nsess in range(num_sess):\n",
    "\n",
    "    posdf = hc3data_df.loc[nsess, 'posdf']\n",
    "    x, y, t = posdf.x.to_numpy(), posdf.y.to_numpy(), posdf.t.to_numpy()\n",
    "    trange = (t.max(), t.min())\n",
    "    x_interp = interp1d(t, x)\n",
    "    y_interp = interp1d(t, y)\n",
    "    x_ax, y_ax, occupancy = get_occupancy_bins(x, y, t, binstep=10)\n",
    "\n",
    "    occ_kde_dict = hc3data_df.loc[nsess, 'occ_dict']\n",
    "    xx_kde, yy_kde, occupancy_kde = occ_kde_dict['xx'], occ_kde_dict['yy'], occ_kde_dict['occ']\n",
    "\n",
    "    for ca in ['CA1', 'CA3']:\n",
    "        info_list = []\n",
    "        info_shuf_list = []\n",
    "        info_pval_list = []\n",
    "        pf_list = []\n",
    "\n",
    "        spdf = hc3data_df.loc[nsess, '%s_spdf' % (ca)]\n",
    "        if spdf.shape[0] < 1:\n",
    "            spdf['spatialinfo_perspike'] = info_list\n",
    "            spdf['spatialinfo_perspike_shuf'] = info_shuf_list\n",
    "            spdf['spatialinfo_pval'] = info_pval_list\n",
    "            spdf['pf'] = pf_list\n",
    "            continue\n",
    "\n",
    "        num_cells = spdf.shape[0]\n",
    "        for ncell in range(num_cells):\n",
    "            print('%d/%d Session, %s %d/%d cell ' % (nsess, num_sess, ca, ncell, num_cells), end='')\n",
    "            tsp = spdf.loc[ncell, 'tsp']\n",
    "            tsp_in = tsp[(tsp < trange[0]) & (tsp > trange[1])]\n",
    "            if tsp_in.shape[0] < 2:\n",
    "                print('Skip, tsp.shape[0]=%d' % (tsp_in.shape[0]))\n",
    "                info_list.append(np.nan)\n",
    "                info_shuf_list.append(np.nan)\n",
    "                info_pval_list.append(np.nan)\n",
    "                pf_list.append(np.nan)\n",
    "                continue\n",
    "\n",
    "            xsp_in = x_interp(tsp_in)\n",
    "            ysp_in = y_interp(tsp_in)\n",
    "            freq, rate = placefield_bins(x_ax, y_ax, occupancy, xsp_in, ysp_in)\n",
    "            info_persecond, info_perspike = spatial_information(rate, occupancy)\n",
    "\n",
    "            freq_kde, rate_kde = placefield(xx_kde, yy_kde, occupancy_kde, xsp_in, ysp_in, tsp_in)\n",
    "\n",
    "            # Shuffling\n",
    "            info_perspike_shuffleds = np.zeros(Nshuffle)\n",
    "            for nshuf in range(Nshuffle):\n",
    "                tsp_in_min = tsp_in.min()\n",
    "                tsp_in_offseted = tsp_in - tsp_in_min\n",
    "                maxtsp_offseted = tsp_in_offseted.max()\n",
    "                np.random.seed(seed)\n",
    "                shiftamount = np.random.uniform(0, maxtsp_offseted)\n",
    "                tsp_in_shuffled_offseted = np.mod(tsp_in_offseted + shiftamount, maxtsp_offseted)\n",
    "                tsp_in_shuffled = tsp_in_shuffled_offseted + tsp_in_min\n",
    "\n",
    "                tsp_in_shuffled = tsp_in_shuffled[(tsp_in_shuffled < trange[0]) & (tsp_in_shuffled > trange[1])]\n",
    "                xsp_in_shuffled = x_interp(tsp_in_shuffled)\n",
    "                ysp_in_shuffled = y_interp(tsp_in_shuffled)\n",
    "                freq_shuffled, rate_shuffled = placefield_bins(x_ax, y_ax, occupancy, xsp_in_shuffled,\n",
    "                                                               ysp_in_shuffled)\n",
    "                _, info_perspike_shuffleds[nshuf] = spatial_information(rate_shuffled, occupancy)\n",
    "\n",
    "                seed += 1\n",
    "\n",
    "            try:\n",
    "                pval = 1 - (info_perspike > info_perspike_shuffleds).mean()\n",
    "            except:\n",
    "                pval = 1\n",
    "\n",
    "            info_list.append(info_perspike)\n",
    "            info_shuf_list.append(info_perspike_shuffleds)\n",
    "            info_pval_list.append(pval)\n",
    "            pf_list.append(dict(freq=freq_kde, rate=rate_kde))\n",
    "            print('pval=%0.4f' % (pval))\n",
    "        spdf['spatialinfo_perspike'] = info_list\n",
    "        spdf['spatialinfo_perspike_shuf'] = info_shuf_list\n",
    "        spdf['spatialinfo_pval'] = info_pval_list\n",
    "        spdf['pf'] = pf_list\n",
    "\n"
   ]
  },
  {
   "cell_type": "code",
   "execution_count": null,
   "metadata": {},
   "outputs": [],
   "source": [
    "hc3data_df.to_pickle('data/crcns-hc-3/hc3data_df_raw3.pickle')"
   ]
  },
  {
   "cell_type": "markdown",
   "metadata": {},
   "source": [
    "# Segment and filter fields"
   ]
  },
  {
   "cell_type": "code",
   "execution_count": 8,
   "metadata": {},
   "outputs": [],
   "source": [
    "hc3data_df = pd.read_pickle('data/crcns-hc-3/hc3data_df_raw3.pickle')\n"
   ]
  },
  {
   "cell_type": "code",
   "execution_count": 9,
   "metadata": {
    "scrolled": true
   },
   "outputs": [
    {
     "name": "stdout",
     "output_type": "stream",
     "text": [
      "0/47 Session\n",
      "1/47 Session\n",
      "2/47 Session\n",
      "3/47 Session\n",
      "4/47 Session\n",
      "5/47 Session\n",
      "6/47 Session\n",
      "7/47 Session\n",
      "8/47 Session\n",
      "9/47 Session\n",
      "10/47 Session\n",
      "11/47 Session\n",
      "12/47 Session\n",
      "13/47 Session\n",
      "14/47 Session\n",
      "15/47 Session\n",
      "16/47 Session\n",
      "17/47 Session\n",
      "18/47 Session\n",
      "19/47 Session\n",
      "20/47 Session\n",
      "21/47 Session\n",
      "22/47 Session\n",
      "23/47 Session\n",
      "24/47 Session\n",
      "25/47 Session\n",
      "26/47 Session\n",
      "27/47 Session\n",
      "28/47 Session\n",
      "29/47 Session\n",
      "30/47 Session\n",
      "31/47 Session\n",
      "32/47 Session\n",
      "33/47 Session\n",
      "34/47 Session\n",
      "35/47 Session\n",
      "36/47 Session\n",
      "37/47 Session\n",
      "38/47 Session\n",
      "39/47 Session\n",
      "40/47 Session\n",
      "41/47 Session\n",
      "42/47 Session\n",
      "43/47 Session\n",
      "44/47 Session\n",
      "45/47 Session\n",
      "46/47 Session\n"
     ]
    }
   ],
   "source": [
    "# # Segment place fields & Filter place fields\n",
    "\n",
    "print('Segment and filter single fields')\n",
    "# # Segment place fields & Filter place fields\n",
    "bounddict = dict(bigSquare=(0, 180), midSquare=(0, 120))\n",
    "areathresh_dict = dict(bigSquare=200, midSquare=120)\n",
    "num_sess = hc3data_df.shape[0]\n",
    "\n",
    "CA_fielddf_list = dict(CA1=[], CA3=[])\n",
    "for nsess in range(num_sess):\n",
    "    print('%d/%d Session' % (nsess, num_sess))\n",
    "\n",
    "    behavior = hc3data_df.loc[nsess, 'behavior']\n",
    "    xybound = bounddict[behavior]\n",
    "    occ_dict = hc3data_df.loc[nsess, 'occ_dict']\n",
    "    xx, yy, occ = occ_dict['xx'], occ_dict['yy'], occ_dict['occ']\n",
    "\n",
    "    for ca in ['CA1', 'CA3']:\n",
    "\n",
    "        fielddf_dict = dict(cellid=[], mask=[], xyval=[])\n",
    "        spdf = hc3data_df.loc[nsess, '%s_spdf' % (ca)]\n",
    "        drop_mask = (spdf['spatialinfo_pval'] > 0.05) | (spdf['pf'].isna())\n",
    "        spdf.drop(index=spdf[drop_mask].index, axis=0, inplace=True)\n",
    "        spdf.index = np.arange(spdf.shape[0])\n",
    "\n",
    "        num_cells = spdf.shape[0]\n",
    "\n",
    "        for ncell in range(num_cells):\n",
    "            rate = spdf.loc[ncell, 'pf']['rate']\n",
    "            normmap = rate / rate.max()\n",
    "            contours = find_contours(normmap, level=0.2)\n",
    "            field_dict = dict(mask=[], xyval=[])\n",
    "\n",
    "            for c_each in contours:\n",
    "                c_rowi = c_each[:, 0]  # y\n",
    "                c_coli = c_each[:, 1]  # x\n",
    "\n",
    "                c_coli, c_rowi, case = complete_contourline(c_coli, c_rowi, xybound, xybound)\n",
    "\n",
    "                mask = polygon2mask(xx.shape, np.stack([c_rowi, c_coli]).T)  # Remember to transpose!\n",
    "\n",
    "                c_rowi = np.around(c_rowi).astype(int)\n",
    "                c_coli = np.around(c_coli).astype(int)\n",
    "                c_x = xx[c_rowi, c_coli]\n",
    "                c_y = yy[c_rowi, c_coli]\n",
    "                xyval = np.stack([c_x, c_y]).T\n",
    "\n",
    "                area = mask.sum()\n",
    "                if area < 1:\n",
    "                    continue\n",
    "                masked_rate = rate[mask]\n",
    "                meanrate_in = np.mean(masked_rate)\n",
    "                meanrate_out = np.mean(rate[np.invert(mask)])\n",
    "                peak_rate_in = masked_rate.max()\n",
    "\n",
    "                if (area > areathresh_dict[behavior]) and (meanrate_in > meanrate_out) and (peak_rate_in > 1):\n",
    "                    fielddf_dict['cellid'].append(ncell)\n",
    "                    fielddf_dict['mask'].append(mask)\n",
    "                    fielddf_dict['xyval'].append(xyval)\n",
    "\n",
    "        CA_fielddf_list[ca].append(pd.DataFrame(fielddf_dict))\n",
    "\n",
    "hc3data_df['CA1fields'] = CA_fielddf_list['CA1']\n",
    "hc3data_df['CA3fields'] = CA_fielddf_list['CA3']\n",
    "\n"
   ]
  },
  {
   "cell_type": "code",
   "execution_count": null,
   "metadata": {},
   "outputs": [],
   "source": [
    "print('Choose one sessions within each topdir')\n",
    "# # (Optional) if you didn't concatenate the sub-sessions, then choose one session from each topdir, or do nothing\n",
    "# # Choose one session from each topdir, based on max CA3 field count, otherwise max CA1 field count\n",
    "selected_dfindex = []\n",
    "for topdir_each in hc3data_df.topdir.unique():\n",
    "    topdirdf = hc3data_df[hc3data_df['topdir'] == topdir_each]\n",
    "    num_sess = topdirdf.shape[0]\n",
    "    idx_arr = np.zeros(num_sess)\n",
    "    count1_arr = np.zeros(num_sess)\n",
    "    count3_arr = np.zeros(num_sess)\n",
    "    for arri, dfidx in enumerate(topdirdf.index):\n",
    "        ca1spdf = topdirdf.loc[dfidx, 'CA1fields']\n",
    "        ca3spdf = topdirdf.loc[dfidx, 'CA3fields']\n",
    "\n",
    "        count_ca1 = ca1spdf.shape[0]\n",
    "        count_ca3 = ca3spdf.shape[0]\n",
    "\n",
    "        idx_arr[arri] = dfidx\n",
    "        count1_arr[arri] = count_ca1\n",
    "        count3_arr[arri] = count_ca3\n",
    "\n",
    "    maxcount3 = np.max(count3_arr)\n",
    "    if maxcount3 < 1:\n",
    "        maxarrid = np.argmax(count1_arr)\n",
    "    else:\n",
    "        maxarrid = np.argmax(count3_arr)\n",
    "\n",
    "    maxdfid = idx_arr[maxarrid]\n",
    "    selected_dfindex.append(int(maxdfid))\n",
    "\n",
    "hc3data_df = hc3data_df.loc[selected_dfindex].reset_index(drop=True)\n",
    "\n",
    "# Show field counts\n",
    "CA1spdf = pd.concat(hc3data_df['CA1fields'].to_list(), axis=0, ignore_index=True)\n",
    "CA3spdf = pd.concat(hc3data_df['CA3fields'].to_list(), axis=0, ignore_index=True)\n",
    "print('Field count CA1 = %d, CA3 = %d' % (CA1spdf.shape[0], CA3spdf.shape[0]))"
   ]
  },
  {
   "cell_type": "code",
   "execution_count": null,
   "metadata": {},
   "outputs": [],
   "source": [
    "hc3data_df.to_pickle('data/crcns-hc-3/hc3data_df_raw4.pickle')"
   ]
  },
  {
   "cell_type": "markdown",
   "metadata": {},
   "source": [
    "# Identify pairs"
   ]
  },
  {
   "cell_type": "code",
   "execution_count": 3,
   "metadata": {},
   "outputs": [],
   "source": [
    "hc3data_df = pd.read_pickle('data/crcns-hc-3/hc3data_df_raw4.pickle')"
   ]
  },
  {
   "cell_type": "code",
   "execution_count": 4,
   "metadata": {},
   "outputs": [
    {
     "name": "stdout",
     "output_type": "stream",
     "text": [
      "46/47 Session Pair 26 - 2713(4910, 2)\n",
      "(2366, 2)\n"
     ]
    }
   ],
   "source": [
    "print('Identify pairs')\n",
    "num_sess = hc3data_df.shape[0]\n",
    "\n",
    "CA1pairs_list = []\n",
    "CA3pairs_list = []\n",
    "\n",
    "for nsess in range(num_sess):\n",
    "\n",
    "    posdf, occ_dict = hc3data_df.loc[nsess, ['posdf', 'occ_dict']]\n",
    "    x, y, t = posdf['x'].to_numpy(), posdf['y'].to_numpy(), posdf['t'].to_numpy()\n",
    "    trange = (t.max(), t.min())\n",
    "    xinterp, yinterp = interp1d(t, x), interp1d(t, y)\n",
    "    xx, yy = occ_dict['xx'], occ_dict['yy']\n",
    "    x_ax, y_ax = xx[0, :], yy[:, 0]\n",
    "    pair_dict = dict(CA1=dict(field1_id=[], field2_id=[]),\n",
    "                     CA3=dict(field1_id=[], field2_id=[]))\n",
    "    for ca in ['CA1', 'CA3']:\n",
    "        fielddf = hc3data_df.loc[nsess, '%sfields' % ca]\n",
    "        spdf = hc3data_df.loc[nsess, '%s_spdf' % ca]\n",
    "\n",
    "        num_fields = fielddf.shape[0]\n",
    "        if num_fields < 0:\n",
    "            continue\n",
    "\n",
    "        for fieldid1 in range(num_fields):\n",
    "            for fieldid2 in range(fieldid1 + 1, num_fields):\n",
    "                print('\\r%d/%d Session Pair %d - %d' % (nsess, num_sess, fieldid1, fieldid2), flush=True, end='')\n",
    "                cellid1, mask1 = fielddf.loc[fieldid1, ['cellid', 'mask']]\n",
    "                tsp1, pf1 = spdf.loc[cellid1, ['tsp', 'pf']]\n",
    "                tsp_in1 = tsp1[(tsp1 < trange[0]) & (tsp1 > trange[1])]\n",
    "                xsp_in1, ysp_in1 = xinterp(tsp_in1), yinterp(tsp_in1)\n",
    "                ind_x1 = np.argmin(np.square(pair_diff(xsp_in1, x_ax)), axis=1)\n",
    "                ind_y1 = np.argmin(np.square(pair_diff(ysp_in1, y_ax)), axis=1)\n",
    "                tok1 = np.zeros(ind_x1.shape[0]).astype(bool)\n",
    "                for i in range(ind_x1.shape[0]):\n",
    "                    tok1[i] = mask1[ind_y1[i], ind_x1[i]]\n",
    "                tsp_inmask1 = tsp_in1[tok1]\n",
    "\n",
    "                cellid2, mask2 = fielddf.loc[fieldid2, ['cellid', 'mask']]\n",
    "                tsp2, pf2 = spdf.loc[cellid2, ['tsp', 'pf']]\n",
    "                tsp_in2 = tsp2[(tsp2 < trange[0]) & (tsp2 > trange[1])]\n",
    "                xsp_in2, ysp_in2 = xinterp(tsp_in2), yinterp(tsp_in2)\n",
    "                ind_x2 = np.argmin(np.square(pair_diff(xsp_in2, x_ax)), axis=1)\n",
    "                ind_y2 = np.argmin(np.square(pair_diff(ysp_in2, y_ax)), axis=1)\n",
    "                tok2 = np.zeros(ind_x2.shape[0]).astype(bool)\n",
    "                for i in range(ind_x2.shape[0]):\n",
    "                    tok2[i] = mask2[ind_y2[i], ind_x2[i]]\n",
    "                tsp_inmask2 = tsp_in2[tok2]\n",
    "\n",
    "                pairtsp_idx1, pairtsp_idx2 = find_pair_times(tsp_inmask1, tsp_inmask2)\n",
    "\n",
    "                num_pairedspikes = pairtsp_idx1.shape[0] + pairtsp_idx2.shape[0]\n",
    "                mask_and = mask1 & mask2\n",
    "                if (num_pairedspikes > 16) & (mask_and.sum() > 0):\n",
    "                    pair_dict[ca]['field1_id'].append(fieldid1)\n",
    "                    pair_dict[ca]['field2_id'].append(fieldid2)\n",
    "\n",
    "    CA1pairs_list.append(pd.DataFrame(pair_dict['CA1']))\n",
    "    CA3pairs_list.append(pd.DataFrame(pair_dict['CA3']))\n",
    "\n",
    "hc3data_df['CA1pairs'] = CA1pairs_list\n",
    "hc3data_df['CA3pairs'] = CA3pairs_list\n",
    "print()\n",
    "print('Number of pairs in CA1 = %s' % pd.concat(hc3data_df['CA1pairs'].to_list(), axis=0).shape[0])\n",
    "print('Number of pairs in CA3 = %s' % pd.concat(hc3data_df['CA3pairs'].to_list(), axis=0).shape[0])"
   ]
  },
  {
   "cell_type": "code",
   "execution_count": 30,
   "metadata": {},
   "outputs": [],
   "source": [
    "hc3data_df.to_pickle('data/crcns-hc-3/hc3data_df_processed.pickle')"
   ]
  },
  {
   "cell_type": "markdown",
   "metadata": {},
   "source": [
    "# Check fields and pairs"
   ]
  },
  {
   "cell_type": "code",
   "execution_count": 2,
   "metadata": {},
   "outputs": [],
   "source": [
    "hc3rawdf = pd.read_pickle('data/crcns-hc-3/hc3data_df_raw.pickle')"
   ]
  },
  {
   "cell_type": "code",
   "execution_count": null,
   "metadata": {},
   "outputs": [],
   "source": []
  },
  {
   "cell_type": "code",
   "execution_count": 4,
   "metadata": {},
   "outputs": [
    {
     "data": {
      "text/html": [
       "<div>\n",
       "<style scoped>\n",
       "    .dataframe tbody tr th:only-of-type {\n",
       "        vertical-align: middle;\n",
       "    }\n",
       "\n",
       "    .dataframe tbody tr th {\n",
       "        vertical-align: top;\n",
       "    }\n",
       "\n",
       "    .dataframe thead th {\n",
       "        text-align: right;\n",
       "    }\n",
       "</style>\n",
       "<table border=\"1\" class=\"dataframe\">\n",
       "  <thead>\n",
       "    <tr style=\"text-align: right;\">\n",
       "      <th></th>\n",
       "      <th>ele</th>\n",
       "      <th>clu</th>\n",
       "      <th>tsp</th>\n",
       "    </tr>\n",
       "  </thead>\n",
       "  <tbody>\n",
       "    <tr>\n",
       "      <th>0</th>\n",
       "      <td>1</td>\n",
       "      <td>2</td>\n",
       "      <td>[2.0528, 3.4549, 6.4071, 6.43055, 68.62355, 72...</td>\n",
       "    </tr>\n",
       "    <tr>\n",
       "      <th>1</th>\n",
       "      <td>1</td>\n",
       "      <td>3</td>\n",
       "      <td>[7.29045, 36.1801, 51.1306, 79.27325, 87.58035...</td>\n",
       "    </tr>\n",
       "    <tr>\n",
       "      <th>2</th>\n",
       "      <td>1</td>\n",
       "      <td>4</td>\n",
       "      <td>[176.143, 181.24785, 192.94745, 192.95255, 192...</td>\n",
       "    </tr>\n",
       "    <tr>\n",
       "      <th>3</th>\n",
       "      <td>1</td>\n",
       "      <td>5</td>\n",
       "      <td>[0.16345, 0.25915, 0.2653, 0.6112, 0.6169, 0.7...</td>\n",
       "    </tr>\n",
       "    <tr>\n",
       "      <th>4</th>\n",
       "      <td>1</td>\n",
       "      <td>6</td>\n",
       "      <td>[8.4167, 14.83185, 14.8395, 14.8454, 14.85525,...</td>\n",
       "    </tr>\n",
       "    <tr>\n",
       "      <th>5</th>\n",
       "      <td>1</td>\n",
       "      <td>7</td>\n",
       "      <td>[28.97045, 29.1192, 35.5983, 47.31515, 75.5565...</td>\n",
       "    </tr>\n",
       "    <tr>\n",
       "      <th>6</th>\n",
       "      <td>1</td>\n",
       "      <td>8</td>\n",
       "      <td>[24.0364, 24.04135, 24.04545, 24.0491, 24.055,...</td>\n",
       "    </tr>\n",
       "    <tr>\n",
       "      <th>7</th>\n",
       "      <td>1</td>\n",
       "      <td>9</td>\n",
       "      <td>[147.42405, 147.6226, 151.02665, 165.6056, 165...</td>\n",
       "    </tr>\n",
       "    <tr>\n",
       "      <th>8</th>\n",
       "      <td>1</td>\n",
       "      <td>11</td>\n",
       "      <td>[4.9391, 13.9483, 24.9444, 25.95865, 26.1235, ...</td>\n",
       "    </tr>\n",
       "    <tr>\n",
       "      <th>9</th>\n",
       "      <td>1</td>\n",
       "      <td>12</td>\n",
       "      <td>[35.62525, 81.41815, 81.42615, 81.57765, 81.65...</td>\n",
       "    </tr>\n",
       "    <tr>\n",
       "      <th>10</th>\n",
       "      <td>2</td>\n",
       "      <td>2</td>\n",
       "      <td>[5.94345, 6.352, 7.56735, 7.6177, 42.52145, 54...</td>\n",
       "    </tr>\n",
       "    <tr>\n",
       "      <th>11</th>\n",
       "      <td>2</td>\n",
       "      <td>3</td>\n",
       "      <td>[48.2267, 48.29565, 50.57375, 75.58155, 76.042...</td>\n",
       "    </tr>\n",
       "    <tr>\n",
       "      <th>12</th>\n",
       "      <td>2</td>\n",
       "      <td>4</td>\n",
       "      <td>[20.8053, 38.30055, 40.0472, 52.08645, 52.2631...</td>\n",
       "    </tr>\n",
       "    <tr>\n",
       "      <th>13</th>\n",
       "      <td>2</td>\n",
       "      <td>5</td>\n",
       "      <td>[28.98605, 89.70455, 170.0148, 170.0201, 170.2...</td>\n",
       "    </tr>\n",
       "    <tr>\n",
       "      <th>14</th>\n",
       "      <td>2</td>\n",
       "      <td>6</td>\n",
       "      <td>[1.1078, 1.70555, 3.27785, 3.7435, 3.7535, 5.9...</td>\n",
       "    </tr>\n",
       "    <tr>\n",
       "      <th>15</th>\n",
       "      <td>2</td>\n",
       "      <td>7</td>\n",
       "      <td>[16.9724, 24.08625, 25.499, 26.6668, 28.65035,...</td>\n",
       "    </tr>\n",
       "    <tr>\n",
       "      <th>16</th>\n",
       "      <td>2</td>\n",
       "      <td>8</td>\n",
       "      <td>[14.99175, 15.01755, 16.74105, 16.7519, 21.724...</td>\n",
       "    </tr>\n",
       "    <tr>\n",
       "      <th>17</th>\n",
       "      <td>2</td>\n",
       "      <td>9</td>\n",
       "      <td>[63.702, 89.1233, 90.28585, 90.50335, 144.0183...</td>\n",
       "    </tr>\n",
       "    <tr>\n",
       "      <th>18</th>\n",
       "      <td>2</td>\n",
       "      <td>10</td>\n",
       "      <td>[657.8636, 2147.3342, 2147.34145, 4191.3293]</td>\n",
       "    </tr>\n",
       "    <tr>\n",
       "      <th>19</th>\n",
       "      <td>2</td>\n",
       "      <td>11</td>\n",
       "      <td>[2.13075, 11.28875, 11.42405, 11.787, 11.96965...</td>\n",
       "    </tr>\n",
       "    <tr>\n",
       "      <th>20</th>\n",
       "      <td>2</td>\n",
       "      <td>12</td>\n",
       "      <td>[10.5367, 10.54735, 10.77385, 10.798, 10.81275...</td>\n",
       "    </tr>\n",
       "    <tr>\n",
       "      <th>21</th>\n",
       "      <td>2</td>\n",
       "      <td>13</td>\n",
       "      <td>[9.30415, 9.31835, 9.32295, 21.8982, 22.15805,...</td>\n",
       "    </tr>\n",
       "    <tr>\n",
       "      <th>22</th>\n",
       "      <td>2</td>\n",
       "      <td>14</td>\n",
       "      <td>[17.2363, 17.26985, 33.52485, 97.25275, 336.73...</td>\n",
       "    </tr>\n",
       "    <tr>\n",
       "      <th>23</th>\n",
       "      <td>2</td>\n",
       "      <td>15</td>\n",
       "      <td>[7.382, 9.84405, 9.85385, 9.86035, 10.0665, 10...</td>\n",
       "    </tr>\n",
       "    <tr>\n",
       "      <th>24</th>\n",
       "      <td>2</td>\n",
       "      <td>16</td>\n",
       "      <td>[4.4657, 21.6505, 22.31565, 22.72015, 22.8267,...</td>\n",
       "    </tr>\n",
       "    <tr>\n",
       "      <th>25</th>\n",
       "      <td>2</td>\n",
       "      <td>17</td>\n",
       "      <td>[16.99865, 17.88315, 21.64915, 21.66555, 21.76...</td>\n",
       "    </tr>\n",
       "    <tr>\n",
       "      <th>26</th>\n",
       "      <td>3</td>\n",
       "      <td>2</td>\n",
       "      <td>[4.9798, 14.81765, 25.4728, 25.4774, 25.49245,...</td>\n",
       "    </tr>\n",
       "    <tr>\n",
       "      <th>27</th>\n",
       "      <td>3</td>\n",
       "      <td>3</td>\n",
       "      <td>[3.45375, 3.46645, 3.478, 3.4871, 4.21915, 4.9...</td>\n",
       "    </tr>\n",
       "    <tr>\n",
       "      <th>28</th>\n",
       "      <td>3</td>\n",
       "      <td>4</td>\n",
       "      <td>[4.95925, 6.49545, 17.31875, 17.3362, 17.34425...</td>\n",
       "    </tr>\n",
       "    <tr>\n",
       "      <th>29</th>\n",
       "      <td>3</td>\n",
       "      <td>5</td>\n",
       "      <td>[11.183, 11.29815, 11.93925, 23.19375, 25.6638...</td>\n",
       "    </tr>\n",
       "    <tr>\n",
       "      <th>30</th>\n",
       "      <td>3</td>\n",
       "      <td>6</td>\n",
       "      <td>[17.7791, 21.78855, 29.77605, 29.98955, 30.083...</td>\n",
       "    </tr>\n",
       "    <tr>\n",
       "      <th>31</th>\n",
       "      <td>3</td>\n",
       "      <td>7</td>\n",
       "      <td>[16.57905, 25.54785, 25.5663, 31.16645, 49.728...</td>\n",
       "    </tr>\n",
       "    <tr>\n",
       "      <th>32</th>\n",
       "      <td>3</td>\n",
       "      <td>8</td>\n",
       "      <td>[12.307, 14.07515, 16.78015, 16.80995, 17.1740...</td>\n",
       "    </tr>\n",
       "    <tr>\n",
       "      <th>33</th>\n",
       "      <td>3</td>\n",
       "      <td>9</td>\n",
       "      <td>[0.30145, 0.3187, 0.4294, 0.43915, 0.7664, 0.7...</td>\n",
       "    </tr>\n",
       "    <tr>\n",
       "      <th>34</th>\n",
       "      <td>3</td>\n",
       "      <td>10</td>\n",
       "      <td>[9.86975, 491.1706, 531.44915, 731.21305, 902....</td>\n",
       "    </tr>\n",
       "    <tr>\n",
       "      <th>35</th>\n",
       "      <td>3</td>\n",
       "      <td>11</td>\n",
       "      <td>[58.23675, 58.3366, 58.3405, 58.445, 58.4484, ...</td>\n",
       "    </tr>\n",
       "    <tr>\n",
       "      <th>36</th>\n",
       "      <td>3</td>\n",
       "      <td>12</td>\n",
       "      <td>[60.64615, 62.27225, 62.61545, 86.67995, 92.30...</td>\n",
       "    </tr>\n",
       "    <tr>\n",
       "      <th>37</th>\n",
       "      <td>3</td>\n",
       "      <td>13</td>\n",
       "      <td>[12.81175, 12.9218, 13.88615, 15.68465, 15.694...</td>\n",
       "    </tr>\n",
       "    <tr>\n",
       "      <th>38</th>\n",
       "      <td>3</td>\n",
       "      <td>14</td>\n",
       "      <td>[5.15385, 7.3831, 8.56175, 10.061, 10.0651, 10...</td>\n",
       "    </tr>\n",
       "    <tr>\n",
       "      <th>39</th>\n",
       "      <td>3</td>\n",
       "      <td>15</td>\n",
       "      <td>[14.57765, 14.69705, 14.70145, 14.7692, 14.773...</td>\n",
       "    </tr>\n",
       "    <tr>\n",
       "      <th>40</th>\n",
       "      <td>3</td>\n",
       "      <td>16</td>\n",
       "      <td>[27.59705, 27.9404, 27.95365, 39.4965, 43.0886...</td>\n",
       "    </tr>\n",
       "    <tr>\n",
       "      <th>41</th>\n",
       "      <td>4</td>\n",
       "      <td>2</td>\n",
       "      <td>[1840.384, 1890.96465, 1891.6956, 1892.17065, ...</td>\n",
       "    </tr>\n",
       "    <tr>\n",
       "      <th>42</th>\n",
       "      <td>4</td>\n",
       "      <td>3</td>\n",
       "      <td>[1.01005, 1.018, 6.13425, 8.60855, 10.07235, 1...</td>\n",
       "    </tr>\n",
       "    <tr>\n",
       "      <th>43</th>\n",
       "      <td>5</td>\n",
       "      <td>2</td>\n",
       "      <td>[31.1561, 39.3678, 39.38045, 78.4567, 78.8557,...</td>\n",
       "    </tr>\n",
       "    <tr>\n",
       "      <th>44</th>\n",
       "      <td>5</td>\n",
       "      <td>3</td>\n",
       "      <td>[10.7912, 10.98825, 11.56825, 11.9142, 12.11, ...</td>\n",
       "    </tr>\n",
       "    <tr>\n",
       "      <th>45</th>\n",
       "      <td>5</td>\n",
       "      <td>4</td>\n",
       "      <td>[10.835, 11.3366, 13.01125, 15.58595, 20.6352,...</td>\n",
       "    </tr>\n",
       "    <tr>\n",
       "      <th>46</th>\n",
       "      <td>5</td>\n",
       "      <td>5</td>\n",
       "      <td>[10.41445, 10.7774, 10.79865, 10.8093, 10.9096...</td>\n",
       "    </tr>\n",
       "    <tr>\n",
       "      <th>47</th>\n",
       "      <td>5</td>\n",
       "      <td>6</td>\n",
       "      <td>[15.77185, 27.596, 31.06005, 31.08775, 31.0979...</td>\n",
       "    </tr>\n",
       "    <tr>\n",
       "      <th>48</th>\n",
       "      <td>5</td>\n",
       "      <td>7</td>\n",
       "      <td>[3.4372, 3.458, 3.48635, 3.49415, 3.50525, 14....</td>\n",
       "    </tr>\n",
       "    <tr>\n",
       "      <th>49</th>\n",
       "      <td>5</td>\n",
       "      <td>8</td>\n",
       "      <td>[34.6581, 34.6666, 123.22945, 287.67455, 609.6...</td>\n",
       "    </tr>\n",
       "    <tr>\n",
       "      <th>50</th>\n",
       "      <td>5</td>\n",
       "      <td>9</td>\n",
       "      <td>[2.04105, 2.0502, 6.3927, 6.4003, 6.8875, 12.9...</td>\n",
       "    </tr>\n",
       "    <tr>\n",
       "      <th>51</th>\n",
       "      <td>5</td>\n",
       "      <td>10</td>\n",
       "      <td>[0.6533, 0.65835, 5.3383, 7.1091, 7.31285, 11....</td>\n",
       "    </tr>\n",
       "  </tbody>\n",
       "</table>\n",
       "</div>"
      ],
      "text/plain": [
       "    ele  clu                                                tsp\n",
       "0     1    2  [2.0528, 3.4549, 6.4071, 6.43055, 68.62355, 72...\n",
       "1     1    3  [7.29045, 36.1801, 51.1306, 79.27325, 87.58035...\n",
       "2     1    4  [176.143, 181.24785, 192.94745, 192.95255, 192...\n",
       "3     1    5  [0.16345, 0.25915, 0.2653, 0.6112, 0.6169, 0.7...\n",
       "4     1    6  [8.4167, 14.83185, 14.8395, 14.8454, 14.85525,...\n",
       "5     1    7  [28.97045, 29.1192, 35.5983, 47.31515, 75.5565...\n",
       "6     1    8  [24.0364, 24.04135, 24.04545, 24.0491, 24.055,...\n",
       "7     1    9  [147.42405, 147.6226, 151.02665, 165.6056, 165...\n",
       "8     1   11  [4.9391, 13.9483, 24.9444, 25.95865, 26.1235, ...\n",
       "9     1   12  [35.62525, 81.41815, 81.42615, 81.57765, 81.65...\n",
       "10    2    2  [5.94345, 6.352, 7.56735, 7.6177, 42.52145, 54...\n",
       "11    2    3  [48.2267, 48.29565, 50.57375, 75.58155, 76.042...\n",
       "12    2    4  [20.8053, 38.30055, 40.0472, 52.08645, 52.2631...\n",
       "13    2    5  [28.98605, 89.70455, 170.0148, 170.0201, 170.2...\n",
       "14    2    6  [1.1078, 1.70555, 3.27785, 3.7435, 3.7535, 5.9...\n",
       "15    2    7  [16.9724, 24.08625, 25.499, 26.6668, 28.65035,...\n",
       "16    2    8  [14.99175, 15.01755, 16.74105, 16.7519, 21.724...\n",
       "17    2    9  [63.702, 89.1233, 90.28585, 90.50335, 144.0183...\n",
       "18    2   10       [657.8636, 2147.3342, 2147.34145, 4191.3293]\n",
       "19    2   11  [2.13075, 11.28875, 11.42405, 11.787, 11.96965...\n",
       "20    2   12  [10.5367, 10.54735, 10.77385, 10.798, 10.81275...\n",
       "21    2   13  [9.30415, 9.31835, 9.32295, 21.8982, 22.15805,...\n",
       "22    2   14  [17.2363, 17.26985, 33.52485, 97.25275, 336.73...\n",
       "23    2   15  [7.382, 9.84405, 9.85385, 9.86035, 10.0665, 10...\n",
       "24    2   16  [4.4657, 21.6505, 22.31565, 22.72015, 22.8267,...\n",
       "25    2   17  [16.99865, 17.88315, 21.64915, 21.66555, 21.76...\n",
       "26    3    2  [4.9798, 14.81765, 25.4728, 25.4774, 25.49245,...\n",
       "27    3    3  [3.45375, 3.46645, 3.478, 3.4871, 4.21915, 4.9...\n",
       "28    3    4  [4.95925, 6.49545, 17.31875, 17.3362, 17.34425...\n",
       "29    3    5  [11.183, 11.29815, 11.93925, 23.19375, 25.6638...\n",
       "30    3    6  [17.7791, 21.78855, 29.77605, 29.98955, 30.083...\n",
       "31    3    7  [16.57905, 25.54785, 25.5663, 31.16645, 49.728...\n",
       "32    3    8  [12.307, 14.07515, 16.78015, 16.80995, 17.1740...\n",
       "33    3    9  [0.30145, 0.3187, 0.4294, 0.43915, 0.7664, 0.7...\n",
       "34    3   10  [9.86975, 491.1706, 531.44915, 731.21305, 902....\n",
       "35    3   11  [58.23675, 58.3366, 58.3405, 58.445, 58.4484, ...\n",
       "36    3   12  [60.64615, 62.27225, 62.61545, 86.67995, 92.30...\n",
       "37    3   13  [12.81175, 12.9218, 13.88615, 15.68465, 15.694...\n",
       "38    3   14  [5.15385, 7.3831, 8.56175, 10.061, 10.0651, 10...\n",
       "39    3   15  [14.57765, 14.69705, 14.70145, 14.7692, 14.773...\n",
       "40    3   16  [27.59705, 27.9404, 27.95365, 39.4965, 43.0886...\n",
       "41    4    2  [1840.384, 1890.96465, 1891.6956, 1892.17065, ...\n",
       "42    4    3  [1.01005, 1.018, 6.13425, 8.60855, 10.07235, 1...\n",
       "43    5    2  [31.1561, 39.3678, 39.38045, 78.4567, 78.8557,...\n",
       "44    5    3  [10.7912, 10.98825, 11.56825, 11.9142, 12.11, ...\n",
       "45    5    4  [10.835, 11.3366, 13.01125, 15.58595, 20.6352,...\n",
       "46    5    5  [10.41445, 10.7774, 10.79865, 10.8093, 10.9096...\n",
       "47    5    6  [15.77185, 27.596, 31.06005, 31.08775, 31.0979...\n",
       "48    5    7  [3.4372, 3.458, 3.48635, 3.49415, 3.50525, 14....\n",
       "49    5    8  [34.6581, 34.6666, 123.22945, 287.67455, 609.6...\n",
       "50    5    9  [2.04105, 2.0502, 6.3927, 6.4003, 6.8875, 12.9...\n",
       "51    5   10  [0.6533, 0.65835, 5.3383, 7.1091, 7.31285, 11...."
      ]
     },
     "execution_count": 4,
     "metadata": {},
     "output_type": "execute_result"
    }
   ],
   "source": [
    "hc3rawdf.loc[0, 'CA1_spdf']"
   ]
  },
  {
   "cell_type": "code",
   "execution_count": null,
   "metadata": {},
   "outputs": [],
   "source": [
    "hc3data_df = pd.read_pickle('data/crcns-hc-3/hc3processed_chooseOneSession.pickle')"
   ]
  },
  {
   "cell_type": "code",
   "execution_count": null,
   "metadata": {
    "scrolled": true
   },
   "outputs": [],
   "source": [
    "# Check single\n",
    "\n",
    "# Check pairs\n",
    "nsess = 0\n",
    "ca = 'CA1'\n",
    "\n",
    "num_sess = hc3data_df.shape[0]\n",
    "\n",
    "\n",
    "for nsess in range(num_sess):\n",
    "    posdf, occ_dict = hc3data_df.loc[nsess, ['posdf', 'occ_dict']]\n",
    "    x, y, t = posdf['x'].to_numpy(), posdf['y'].to_numpy(), posdf['t'].to_numpy()\n",
    "    trange = (t.max(), t.min())\n",
    "    xinterp, yinterp = interp1d(t, x), interp1d(t, y)\n",
    "    xx, yy = occ_dict['xx'], occ_dict['yy']\n",
    "    x_ax, y_ax = xx[0, :], yy[:, 0]\n",
    "    pair_dict = dict(CA1=dict(field1_id=[], field2_id=[]),\n",
    "                     CA3=dict(field1_id=[], field2_id=[]))\n",
    "    fielddf = hc3data_df.loc[nsess, '%sfields'%ca]\n",
    "    spdf = hc3data_df.loc[nsess, '%s_spdf'%ca]\n",
    "    \n",
    "    for nfield in range(fielddf.shape[0]):\n",
    "        cellid, mask, xyval = fielddf.loc[nfield, ['cellid', 'mask', 'xyval']]\n",
    "        \n",
    "        pf, spinfo, pval = spdf.loc[cellid, ['pf', 'spatialinfo_perspike', 'spatialinfo_pval']]\n",
    "        \n",
    "        \n",
    "        \n",
    "        \n",
    "        fig, ax = plt.subplots(1, 3, figsize=(15, 5))\n",
    "        ax[0].pcolormesh(xx, yy, pf['rate'], shading='auto')\n",
    "        ax[1].pcolormesh(xx, yy, mask, shading='auto')\n",
    "        ax[0].plot(xyval[:, 0], xyval[:, 1], c='r')\n",
    "        ax[1].plot(xyval[:, 0], xyval[:, 1], c='r')\n",
    "        \n",
    "        \n",
    "        \n",
    "        fig.suptitle('%s session, field %d (cell %d) spinfo=%0.2f(p=%0.4f)'%(nsess, nfield, cellid, spinfo, pval))\n",
    "        \n",
    "        "
   ]
  },
  {
   "cell_type": "code",
   "execution_count": null,
   "metadata": {
    "scrolled": true
   },
   "outputs": [],
   "source": [
    "# Check pairs\n",
    "nsess = 26\n",
    "ca = 'CA3'\n",
    "\n",
    "num_sess = hc3data_df.shape[0]\n",
    "\n",
    "\n",
    "for nsess in range(num_sess):\n",
    "    posdf, occ_dict = hc3data_df.loc[nsess, ['posdf', 'occ_dict']]\n",
    "    x, y, t = posdf['x'].to_numpy(), posdf['y'].to_numpy(), posdf['t'].to_numpy()\n",
    "    trange = (t.max(), t.min())\n",
    "    xinterp, yinterp = interp1d(t, x), interp1d(t, y)\n",
    "    xx, yy = occ_dict['xx'], occ_dict['yy']\n",
    "    x_ax, y_ax = xx[0, :], yy[:, 0]\n",
    "    pair_dict = dict(CA1=dict(field1_id=[], field2_id=[]),\n",
    "                     CA3=dict(field1_id=[], field2_id=[]))\n",
    "    fielddf = hc3data_df.loc[nsess, '%sfields'%ca]\n",
    "    spdf = hc3data_df.loc[nsess, '%s_spdf'%ca]\n",
    "    pairdf = hc3data_df.loc[nsess, '%spairs'%ca]\n",
    "\n",
    "    num_pairs = pairdf.shape[0]\n",
    "    for npair in range(num_pairs):\n",
    "        if npair > 20:\n",
    "            raise\n",
    "        f1id, f2id = pairdf.loc[npair, ['field1_id', 'field2_id']]\n",
    "\n",
    "        cellid1, mask1, xyval1 = fielddf.loc[f1id, ['cellid', 'mask', 'xyval']]\n",
    "        cellid2, mask2, xyval2 = fielddf.loc[f2id, ['cellid', 'mask', 'xyval']]\n",
    "\n",
    "        fig, ax = plt.subplots(1, 3, figsize=(15, 5))\n",
    "        ax[0].pcolormesh(xx, yy, mask1, shading='auto')\n",
    "        ax[1].pcolormesh(xx, yy, mask2, shading='auto')\n",
    "        ax[2].pcolormesh(xx, yy, mask1 & mask2, shading='auto')\n",
    "        ax[2].plot(xyval1[:, 0], xyval1[:, 1], c='r')\n",
    "        ax[2].plot(xyval2[:, 0], xyval2[:, 1], c='b')\n",
    "        fig.suptitle('%s session, pair %d (field %d & %d) (cell %d & %d)'%(nsess, npair, f1id, f2id, cellid1, cellid2))\n"
   ]
  },
  {
   "cell_type": "code",
   "execution_count": 10,
   "metadata": {
    "scrolled": true
   },
   "outputs": [],
   "source": [
    "df = hc3data_df"
   ]
  },
  {
   "cell_type": "code",
   "execution_count": 56,
   "metadata": {
    "scrolled": true
   },
   "outputs": [
    {
     "name": "stdout",
     "output_type": "stream",
     "text": [
      "1/47 trial, CA1, 0/21 field\n",
      "1/47 trial, CA1, 1/21 field\n",
      "1/47 trial, CA1, 2/21 field\n",
      "1/47 trial, CA1, 3/21 field\n",
      "1/47 trial, CA1, 4/21 field\n",
      "1/47 trial, CA1, 5/21 field\n",
      "1/47 trial, CA1, 6/21 field\n",
      "1/47 trial, CA1, 7/21 field\n",
      "1/47 trial, CA1, 8/21 field\n",
      "1/47 trial, CA1, 9/21 field\n",
      "1/47 trial, CA1, 10/21 field\n",
      "1/47 trial, CA1, 11/21 field\n",
      "1/47 trial, CA1, 12/21 field\n",
      "1/47 trial, CA1, 13/21 field\n",
      "1/47 trial, CA1, 14/21 field\n",
      "1/47 trial, CA1, 15/21 field\n",
      "1/47 trial, CA1, 16/21 field\n",
      "1/47 trial, CA1, 17/21 field\n",
      "1/47 trial, CA1, 18/21 field\n",
      "1/47 trial, CA1, 19/21 field\n",
      "1/47 trial, CA1, 20/21 field\n",
      "1/47 trial, CA3, 0/25 field\n",
      "1/47 trial, CA3, 1/25 field\n",
      "1/47 trial, CA3, 2/25 field\n",
      "1/47 trial, CA3, 3/25 field\n",
      "1/47 trial, CA3, 4/25 field\n",
      "1/47 trial, CA3, 5/25 field\n",
      "1/47 trial, CA3, 6/25 field\n",
      "1/47 trial, CA3, 7/25 field\n",
      "1/47 trial, CA3, 8/25 field\n",
      "1/47 trial, CA3, 9/25 field\n",
      "1/47 trial, CA3, 10/25 field\n",
      "1/47 trial, CA3, 11/25 field\n",
      "1/47 trial, CA3, 12/25 field\n",
      "1/47 trial, CA3, 13/25 field\n",
      "1/47 trial, CA3, 14/25 field\n",
      "1/47 trial, CA3, 15/25 field\n",
      "1/47 trial, CA3, 16/25 field\n"
     ]
    },
    {
     "name": "stderr",
     "output_type": "stream",
     "text": [
      "/home/yiu/projects/hippocampus/common/comput_utils.py:1372: UserWarning: Shuffling window is smaller than the spike train! Using window size = range/5 instead.\n",
      "  warnings.warn(\"Shuffling window is smaller than the spike train! Using window size = range/5 instead.\")\n",
      "/home/yiu/projects/hippocampus/common/comput_utils.py:1217: RuntimeWarning: Mean of empty slice\n",
      "  errd = np.nanmean(directionality - dtmp_norm) ** 2\n",
      "/home/yiu/projects/hippocampus/common/comput_utils.py:1218: RuntimeWarning: Mean of empty slice\n",
      "  errp = np.nanmean(positionality - ptmp_norm) ** 2\n"
     ]
    },
    {
     "name": "stdout",
     "output_type": "stream",
     "text": [
      "1/47 trial, CA3, 17/25 field\n",
      "1/47 trial, CA3, 18/25 field\n",
      "1/47 trial, CA3, 19/25 field\n",
      "1/47 trial, CA3, 20/25 field\n",
      "1/47 trial, CA3, 21/25 field\n",
      "1/47 trial, CA3, 22/25 field\n",
      "1/47 trial, CA3, 23/25 field\n",
      "1/47 trial, CA3, 24/25 field\n",
      "2/47 trial, CA1, 0/35 field\n",
      "2/47 trial, CA1, 1/35 field\n",
      "2/47 trial, CA1, 2/35 field\n",
      "2/47 trial, CA1, 3/35 field\n",
      "2/47 trial, CA1, 4/35 field\n",
      "2/47 trial, CA1, 5/35 field\n",
      "2/47 trial, CA1, 6/35 field\n",
      "2/47 trial, CA1, 7/35 field\n",
      "2/47 trial, CA1, 8/35 field\n",
      "2/47 trial, CA1, 9/35 field\n",
      "2/47 trial, CA1, 10/35 field\n",
      "2/47 trial, CA1, 11/35 field\n",
      "2/47 trial, CA1, 12/35 field\n",
      "2/47 trial, CA1, 13/35 field\n",
      "2/47 trial, CA1, 14/35 field\n",
      "2/47 trial, CA1, 15/35 field\n",
      "2/47 trial, CA1, 16/35 field\n",
      "2/47 trial, CA1, 17/35 field\n",
      "2/47 trial, CA1, 18/35 field\n",
      "2/47 trial, CA1, 19/35 field\n",
      "2/47 trial, CA1, 20/35 field\n"
     ]
    },
    {
     "name": "stderr",
     "output_type": "stream",
     "text": [
      "/home/yiu/projects/hippocampus/common/comput_utils.py:1372: UserWarning: Shuffling window is smaller than the spike train! Using window size = range/5 instead.\n",
      "  warnings.warn(\"Shuffling window is smaller than the spike train! Using window size = range/5 instead.\")\n"
     ]
    },
    {
     "name": "stdout",
     "output_type": "stream",
     "text": [
      "2/47 trial, CA1, 21/35 field\n",
      "2/47 trial, CA1, 22/35 field\n",
      "2/47 trial, CA1, 23/35 field\n",
      "2/47 trial, CA1, 24/35 field\n",
      "2/47 trial, CA1, 25/35 field\n",
      "2/47 trial, CA1, 26/35 field\n",
      "2/47 trial, CA1, 27/35 field\n"
     ]
    },
    {
     "name": "stderr",
     "output_type": "stream",
     "text": [
      "/home/yiu/projects/hippocampus/common/comput_utils.py:1372: UserWarning: Shuffling window is smaller than the spike train! Using window size = range/5 instead.\n",
      "  warnings.warn(\"Shuffling window is smaller than the spike train! Using window size = range/5 instead.\")\n",
      "/home/yiu/projects/hippocampus/common/comput_utils.py:1217: RuntimeWarning: Mean of empty slice\n",
      "  errd = np.nanmean(directionality - dtmp_norm) ** 2\n"
     ]
    },
    {
     "name": "stdout",
     "output_type": "stream",
     "text": [
      "2/47 trial, CA1, 28/35 field\n",
      "2/47 trial, CA1, 29/35 field\n"
     ]
    },
    {
     "name": "stderr",
     "output_type": "stream",
     "text": [
      "/home/yiu/projects/hippocampus/common/comput_utils.py:1372: UserWarning: Shuffling window is smaller than the spike train! Using window size = range/5 instead.\n",
      "  warnings.warn(\"Shuffling window is smaller than the spike train! Using window size = range/5 instead.\")\n",
      "/home/yiu/projects/hippocampus/common/comput_utils.py:1217: RuntimeWarning: Mean of empty slice\n",
      "  errd = np.nanmean(directionality - dtmp_norm) ** 2\n"
     ]
    },
    {
     "name": "stdout",
     "output_type": "stream",
     "text": [
      "2/47 trial, CA1, 30/35 field\n",
      "2/47 trial, CA1, 31/35 field\n",
      "2/47 trial, CA1, 32/35 field\n",
      "2/47 trial, CA1, 33/35 field\n",
      "2/47 trial, CA1, 34/35 field\n",
      "2/47 trial, CA3, 0/35 field\n",
      "2/47 trial, CA3, 1/35 field\n",
      "2/47 trial, CA3, 2/35 field\n",
      "2/47 trial, CA3, 3/35 field\n",
      "2/47 trial, CA3, 4/35 field\n",
      "2/47 trial, CA3, 5/35 field\n",
      "2/47 trial, CA3, 6/35 field\n",
      "2/47 trial, CA3, 7/35 field\n",
      "2/47 trial, CA3, 8/35 field\n",
      "2/47 trial, CA3, 9/35 field\n",
      "2/47 trial, CA3, 10/35 field\n",
      "2/47 trial, CA3, 11/35 field\n",
      "2/47 trial, CA3, 12/35 field\n",
      "2/47 trial, CA3, 13/35 field\n",
      "2/47 trial, CA3, 14/35 field\n",
      "2/47 trial, CA3, 15/35 field\n",
      "2/47 trial, CA3, 16/35 field\n",
      "2/47 trial, CA3, 17/35 field\n",
      "2/47 trial, CA3, 18/35 field\n",
      "2/47 trial, CA3, 19/35 field\n",
      "2/47 trial, CA3, 20/35 field\n"
     ]
    },
    {
     "name": "stderr",
     "output_type": "stream",
     "text": [
      "/home/yiu/projects/hippocampus/common/comput_utils.py:1372: UserWarning: Shuffling window is smaller than the spike train! Using window size = range/5 instead.\n",
      "  warnings.warn(\"Shuffling window is smaller than the spike train! Using window size = range/5 instead.\")\n"
     ]
    },
    {
     "name": "stdout",
     "output_type": "stream",
     "text": [
      "2/47 trial, CA3, 21/35 field\n",
      "2/47 trial, CA3, 22/35 field\n",
      "2/47 trial, CA3, 23/35 field\n",
      "2/47 trial, CA3, 24/35 field\n",
      "2/47 trial, CA3, 25/35 field\n",
      "2/47 trial, CA3, 26/35 field\n",
      "2/47 trial, CA3, 27/35 field\n"
     ]
    },
    {
     "name": "stderr",
     "output_type": "stream",
     "text": [
      "/home/yiu/projects/hippocampus/common/comput_utils.py:1372: UserWarning: Shuffling window is smaller than the spike train! Using window size = range/5 instead.\n",
      "  warnings.warn(\"Shuffling window is smaller than the spike train! Using window size = range/5 instead.\")\n",
      "/home/yiu/projects/hippocampus/common/comput_utils.py:1217: RuntimeWarning: Mean of empty slice\n",
      "  errd = np.nanmean(directionality - dtmp_norm) ** 2\n"
     ]
    },
    {
     "name": "stdout",
     "output_type": "stream",
     "text": [
      "2/47 trial, CA3, 28/35 field\n",
      "2/47 trial, CA3, 29/35 field\n"
     ]
    },
    {
     "name": "stderr",
     "output_type": "stream",
     "text": [
      "/home/yiu/projects/hippocampus/common/comput_utils.py:1372: UserWarning: Shuffling window is smaller than the spike train! Using window size = range/5 instead.\n",
      "  warnings.warn(\"Shuffling window is smaller than the spike train! Using window size = range/5 instead.\")\n",
      "/home/yiu/projects/hippocampus/common/comput_utils.py:1217: RuntimeWarning: Mean of empty slice\n",
      "  errd = np.nanmean(directionality - dtmp_norm) ** 2\n"
     ]
    },
    {
     "name": "stdout",
     "output_type": "stream",
     "text": [
      "2/47 trial, CA3, 30/35 field\n",
      "2/47 trial, CA3, 31/35 field\n",
      "2/47 trial, CA3, 32/35 field\n",
      "2/47 trial, CA3, 33/35 field\n",
      "2/47 trial, CA3, 34/35 field\n",
      "3/47 trial, CA1, 0/51 field\n"
     ]
    },
    {
     "name": "stderr",
     "output_type": "stream",
     "text": [
      "/home/yiu/projects/hippocampus/common/comput_utils.py:1372: UserWarning: Shuffling window is smaller than the spike train! Using window size = range/5 instead.\n",
      "  warnings.warn(\"Shuffling window is smaller than the spike train! Using window size = range/5 instead.\")\n"
     ]
    },
    {
     "name": "stdout",
     "output_type": "stream",
     "text": [
      "3/47 trial, CA1, 1/51 field\n",
      "3/47 trial, CA1, 2/51 field\n",
      "3/47 trial, CA1, 3/51 field\n",
      "3/47 trial, CA1, 4/51 field\n",
      "3/47 trial, CA1, 5/51 field\n",
      "3/47 trial, CA1, 6/51 field\n",
      "3/47 trial, CA1, 7/51 field\n",
      "3/47 trial, CA1, 8/51 field\n",
      "3/47 trial, CA1, 9/51 field\n",
      "3/47 trial, CA1, 10/51 field\n",
      "3/47 trial, CA1, 11/51 field\n",
      "3/47 trial, CA1, 12/51 field\n",
      "3/47 trial, CA1, 13/51 field\n",
      "3/47 trial, CA1, 14/51 field\n",
      "3/47 trial, CA1, 15/51 field\n",
      "3/47 trial, CA1, 16/51 field\n",
      "3/47 trial, CA1, 17/51 field\n",
      "3/47 trial, CA1, 18/51 field\n",
      "3/47 trial, CA1, 19/51 field\n",
      "3/47 trial, CA1, 20/51 field\n",
      "3/47 trial, CA1, 21/51 field\n",
      "3/47 trial, CA1, 22/51 field\n",
      "3/47 trial, CA1, 23/51 field\n",
      "3/47 trial, CA1, 24/51 field\n",
      "3/47 trial, CA1, 25/51 field\n",
      "3/47 trial, CA1, 26/51 field\n",
      "3/47 trial, CA1, 27/51 field\n",
      "3/47 trial, CA1, 28/51 field\n",
      "3/47 trial, CA1, 29/51 field\n",
      "3/47 trial, CA1, 30/51 field\n",
      "3/47 trial, CA1, 31/51 field\n",
      "3/47 trial, CA1, 32/51 field\n",
      "3/47 trial, CA1, 33/51 field\n",
      "3/47 trial, CA1, 34/51 field\n",
      "3/47 trial, CA1, 35/51 field\n",
      "3/47 trial, CA1, 36/51 field\n",
      "3/47 trial, CA1, 37/51 field\n",
      "3/47 trial, CA1, 38/51 field\n",
      "3/47 trial, CA1, 39/51 field\n",
      "3/47 trial, CA1, 40/51 field\n",
      "3/47 trial, CA1, 41/51 field\n",
      "3/47 trial, CA1, 42/51 field\n",
      "3/47 trial, CA1, 43/51 field\n",
      "3/47 trial, CA1, 44/51 field\n",
      "3/47 trial, CA1, 45/51 field\n",
      "3/47 trial, CA1, 46/51 field\n",
      "3/47 trial, CA1, 47/51 field\n",
      "3/47 trial, CA1, 48/51 field\n",
      "3/47 trial, CA1, 49/51 field\n",
      "3/47 trial, CA1, 50/51 field\n",
      "3/47 trial, CA3, 0/51 field\n"
     ]
    },
    {
     "name": "stderr",
     "output_type": "stream",
     "text": [
      "/home/yiu/projects/hippocampus/common/comput_utils.py:1372: UserWarning: Shuffling window is smaller than the spike train! Using window size = range/5 instead.\n",
      "  warnings.warn(\"Shuffling window is smaller than the spike train! Using window size = range/5 instead.\")\n"
     ]
    },
    {
     "name": "stdout",
     "output_type": "stream",
     "text": [
      "3/47 trial, CA3, 1/51 field\n",
      "3/47 trial, CA3, 2/51 field\n",
      "3/47 trial, CA3, 3/51 field\n",
      "3/47 trial, CA3, 4/51 field\n",
      "3/47 trial, CA3, 5/51 field\n",
      "3/47 trial, CA3, 6/51 field\n",
      "3/47 trial, CA3, 7/51 field\n",
      "3/47 trial, CA3, 8/51 field\n",
      "3/47 trial, CA3, 9/51 field\n",
      "3/47 trial, CA3, 10/51 field\n",
      "3/47 trial, CA3, 11/51 field\n",
      "3/47 trial, CA3, 12/51 field\n",
      "3/47 trial, CA3, 13/51 field\n",
      "3/47 trial, CA3, 14/51 field\n",
      "3/47 trial, CA3, 15/51 field\n",
      "3/47 trial, CA3, 16/51 field\n",
      "3/47 trial, CA3, 17/51 field\n",
      "3/47 trial, CA3, 18/51 field\n",
      "3/47 trial, CA3, 19/51 field\n",
      "3/47 trial, CA3, 20/51 field\n",
      "3/47 trial, CA3, 21/51 field\n",
      "3/47 trial, CA3, 22/51 field\n",
      "3/47 trial, CA3, 23/51 field\n",
      "3/47 trial, CA3, 24/51 field\n",
      "3/47 trial, CA3, 25/51 field\n",
      "3/47 trial, CA3, 26/51 field\n",
      "3/47 trial, CA3, 27/51 field\n",
      "3/47 trial, CA3, 28/51 field\n",
      "3/47 trial, CA3, 29/51 field\n",
      "3/47 trial, CA3, 30/51 field\n",
      "3/47 trial, CA3, 31/51 field\n",
      "3/47 trial, CA3, 32/51 field\n",
      "3/47 trial, CA3, 33/51 field\n",
      "3/47 trial, CA3, 34/51 field\n",
      "3/47 trial, CA3, 35/51 field\n",
      "3/47 trial, CA3, 36/51 field\n",
      "3/47 trial, CA3, 37/51 field\n",
      "3/47 trial, CA3, 38/51 field\n",
      "3/47 trial, CA3, 39/51 field\n",
      "3/47 trial, CA3, 40/51 field\n",
      "3/47 trial, CA3, 41/51 field\n",
      "3/47 trial, CA3, 42/51 field\n",
      "3/47 trial, CA3, 43/51 field\n",
      "3/47 trial, CA3, 44/51 field\n",
      "3/47 trial, CA3, 45/51 field\n",
      "3/47 trial, CA3, 46/51 field\n",
      "3/47 trial, CA3, 47/51 field\n",
      "3/47 trial, CA3, 48/51 field\n",
      "3/47 trial, CA3, 49/51 field\n",
      "3/47 trial, CA3, 50/51 field\n",
      "4/47 trial, CA1, 0/62 field\n"
     ]
    },
    {
     "name": "stderr",
     "output_type": "stream",
     "text": [
      "/home/yiu/projects/hippocampus/common/comput_utils.py:1372: UserWarning: Shuffling window is smaller than the spike train! Using window size = range/5 instead.\n",
      "  warnings.warn(\"Shuffling window is smaller than the spike train! Using window size = range/5 instead.\")\n",
      "/home/yiu/projects/hippocampus/common/comput_utils.py:1217: RuntimeWarning: Mean of empty slice\n",
      "  errd = np.nanmean(directionality - dtmp_norm) ** 2\n",
      "/home/yiu/projects/hippocampus/common/comput_utils.py:1218: RuntimeWarning: Mean of empty slice\n",
      "  errp = np.nanmean(positionality - ptmp_norm) ** 2\n"
     ]
    },
    {
     "name": "stdout",
     "output_type": "stream",
     "text": [
      "4/47 trial, CA1, 1/62 field\n",
      "4/47 trial, CA1, 2/62 field\n",
      "4/47 trial, CA1, 3/62 field\n",
      "4/47 trial, CA1, 4/62 field\n"
     ]
    },
    {
     "name": "stderr",
     "output_type": "stream",
     "text": [
      "/home/yiu/projects/hippocampus/common/comput_utils.py:1372: UserWarning: Shuffling window is smaller than the spike train! Using window size = range/5 instead.\n",
      "  warnings.warn(\"Shuffling window is smaller than the spike train! Using window size = range/5 instead.\")\n"
     ]
    },
    {
     "name": "stdout",
     "output_type": "stream",
     "text": [
      "4/47 trial, CA1, 5/62 field\n"
     ]
    },
    {
     "name": "stderr",
     "output_type": "stream",
     "text": [
      "/home/yiu/projects/hippocampus/common/comput_utils.py:1372: UserWarning: Shuffling window is smaller than the spike train! Using window size = range/5 instead.\n",
      "  warnings.warn(\"Shuffling window is smaller than the spike train! Using window size = range/5 instead.\")\n"
     ]
    },
    {
     "name": "stdout",
     "output_type": "stream",
     "text": [
      "4/47 trial, CA1, 6/62 field\n",
      "4/47 trial, CA1, 7/62 field\n",
      "4/47 trial, CA1, 8/62 field\n",
      "4/47 trial, CA1, 9/62 field\n",
      "4/47 trial, CA1, 10/62 field\n",
      "4/47 trial, CA1, 11/62 field\n",
      "4/47 trial, CA1, 12/62 field\n",
      "4/47 trial, CA1, 13/62 field\n",
      "4/47 trial, CA1, 14/62 field\n",
      "4/47 trial, CA1, 15/62 field\n",
      "4/47 trial, CA1, 16/62 field\n",
      "4/47 trial, CA1, 17/62 field\n",
      "4/47 trial, CA1, 18/62 field\n",
      "4/47 trial, CA1, 19/62 field\n",
      "4/47 trial, CA1, 20/62 field\n",
      "4/47 trial, CA1, 21/62 field\n",
      "4/47 trial, CA1, 22/62 field\n",
      "4/47 trial, CA1, 23/62 field\n",
      "4/47 trial, CA1, 24/62 field\n",
      "4/47 trial, CA1, 25/62 field\n",
      "4/47 trial, CA1, 26/62 field\n",
      "4/47 trial, CA1, 27/62 field\n",
      "4/47 trial, CA1, 28/62 field\n",
      "4/47 trial, CA1, 29/62 field\n",
      "4/47 trial, CA1, 30/62 field\n",
      "4/47 trial, CA1, 31/62 field\n",
      "4/47 trial, CA1, 32/62 field\n",
      "4/47 trial, CA1, 33/62 field\n",
      "4/47 trial, CA1, 34/62 field\n",
      "4/47 trial, CA1, 35/62 field\n",
      "4/47 trial, CA1, 36/62 field\n",
      "4/47 trial, CA1, 37/62 field\n",
      "4/47 trial, CA1, 38/62 field\n",
      "4/47 trial, CA1, 39/62 field\n",
      "4/47 trial, CA1, 40/62 field\n",
      "4/47 trial, CA1, 41/62 field\n",
      "4/47 trial, CA1, 42/62 field\n",
      "4/47 trial, CA1, 43/62 field\n"
     ]
    },
    {
     "name": "stderr",
     "output_type": "stream",
     "text": [
      "/home/yiu/projects/hippocampus/common/comput_utils.py:1372: UserWarning: Shuffling window is smaller than the spike train! Using window size = range/5 instead.\n",
      "  warnings.warn(\"Shuffling window is smaller than the spike train! Using window size = range/5 instead.\")\n",
      "/home/yiu/projects/hippocampus/common/comput_utils.py:1217: RuntimeWarning: Mean of empty slice\n",
      "  errd = np.nanmean(directionality - dtmp_norm) ** 2\n",
      "/home/yiu/projects/hippocampus/common/comput_utils.py:1218: RuntimeWarning: Mean of empty slice\n",
      "  errp = np.nanmean(positionality - ptmp_norm) ** 2\n"
     ]
    },
    {
     "name": "stdout",
     "output_type": "stream",
     "text": [
      "4/47 trial, CA1, 44/62 field\n",
      "4/47 trial, CA1, 45/62 field\n",
      "4/47 trial, CA1, 46/62 field\n",
      "4/47 trial, CA1, 47/62 field\n",
      "4/47 trial, CA1, 48/62 field\n",
      "4/47 trial, CA1, 49/62 field\n",
      "4/47 trial, CA1, 50/62 field\n",
      "4/47 trial, CA1, 51/62 field\n",
      "4/47 trial, CA1, 52/62 field\n",
      "4/47 trial, CA1, 53/62 field\n",
      "4/47 trial, CA1, 54/62 field\n"
     ]
    },
    {
     "name": "stderr",
     "output_type": "stream",
     "text": [
      "/home/yiu/projects/hippocampus/common/comput_utils.py:1372: UserWarning: Shuffling window is smaller than the spike train! Using window size = range/5 instead.\n",
      "  warnings.warn(\"Shuffling window is smaller than the spike train! Using window size = range/5 instead.\")\n",
      "/home/yiu/projects/hippocampus/common/comput_utils.py:1217: RuntimeWarning: Mean of empty slice\n",
      "  errd = np.nanmean(directionality - dtmp_norm) ** 2\n",
      "/home/yiu/projects/hippocampus/common/comput_utils.py:1218: RuntimeWarning: Mean of empty slice\n",
      "  errp = np.nanmean(positionality - ptmp_norm) ** 2\n"
     ]
    },
    {
     "name": "stdout",
     "output_type": "stream",
     "text": [
      "4/47 trial, CA1, 55/62 field\n",
      "4/47 trial, CA1, 56/62 field\n",
      "4/47 trial, CA1, 57/62 field\n",
      "4/47 trial, CA1, 58/62 field\n",
      "4/47 trial, CA1, 59/62 field\n",
      "4/47 trial, CA1, 60/62 field\n",
      "4/47 trial, CA1, 61/62 field\n",
      "4/47 trial, CA3, 0/62 field\n"
     ]
    },
    {
     "name": "stderr",
     "output_type": "stream",
     "text": [
      "/home/yiu/projects/hippocampus/common/comput_utils.py:1372: UserWarning: Shuffling window is smaller than the spike train! Using window size = range/5 instead.\n",
      "  warnings.warn(\"Shuffling window is smaller than the spike train! Using window size = range/5 instead.\")\n",
      "/home/yiu/projects/hippocampus/common/comput_utils.py:1217: RuntimeWarning: Mean of empty slice\n",
      "  errd = np.nanmean(directionality - dtmp_norm) ** 2\n",
      "/home/yiu/projects/hippocampus/common/comput_utils.py:1218: RuntimeWarning: Mean of empty slice\n",
      "  errp = np.nanmean(positionality - ptmp_norm) ** 2\n"
     ]
    },
    {
     "name": "stdout",
     "output_type": "stream",
     "text": [
      "4/47 trial, CA3, 1/62 field\n",
      "4/47 trial, CA3, 2/62 field\n",
      "4/47 trial, CA3, 3/62 field\n",
      "4/47 trial, CA3, 4/62 field\n"
     ]
    },
    {
     "name": "stderr",
     "output_type": "stream",
     "text": [
      "/home/yiu/projects/hippocampus/common/comput_utils.py:1372: UserWarning: Shuffling window is smaller than the spike train! Using window size = range/5 instead.\n",
      "  warnings.warn(\"Shuffling window is smaller than the spike train! Using window size = range/5 instead.\")\n"
     ]
    },
    {
     "name": "stdout",
     "output_type": "stream",
     "text": [
      "4/47 trial, CA3, 5/62 field\n"
     ]
    },
    {
     "name": "stderr",
     "output_type": "stream",
     "text": [
      "/home/yiu/projects/hippocampus/common/comput_utils.py:1372: UserWarning: Shuffling window is smaller than the spike train! Using window size = range/5 instead.\n",
      "  warnings.warn(\"Shuffling window is smaller than the spike train! Using window size = range/5 instead.\")\n"
     ]
    },
    {
     "name": "stdout",
     "output_type": "stream",
     "text": [
      "4/47 trial, CA3, 6/62 field\n",
      "4/47 trial, CA3, 7/62 field\n",
      "4/47 trial, CA3, 8/62 field\n",
      "4/47 trial, CA3, 9/62 field\n",
      "4/47 trial, CA3, 10/62 field\n",
      "4/47 trial, CA3, 11/62 field\n",
      "4/47 trial, CA3, 12/62 field\n",
      "4/47 trial, CA3, 13/62 field\n",
      "4/47 trial, CA3, 14/62 field\n",
      "4/47 trial, CA3, 15/62 field\n",
      "4/47 trial, CA3, 16/62 field\n",
      "4/47 trial, CA3, 17/62 field\n",
      "4/47 trial, CA3, 18/62 field\n",
      "4/47 trial, CA3, 19/62 field\n",
      "4/47 trial, CA3, 20/62 field\n",
      "4/47 trial, CA3, 21/62 field\n",
      "4/47 trial, CA3, 22/62 field\n",
      "4/47 trial, CA3, 23/62 field\n",
      "4/47 trial, CA3, 24/62 field\n",
      "4/47 trial, CA3, 25/62 field\n",
      "4/47 trial, CA3, 26/62 field\n",
      "4/47 trial, CA3, 27/62 field\n",
      "4/47 trial, CA3, 28/62 field\n",
      "4/47 trial, CA3, 29/62 field\n",
      "4/47 trial, CA3, 30/62 field\n",
      "4/47 trial, CA3, 31/62 field\n",
      "4/47 trial, CA3, 32/62 field\n",
      "4/47 trial, CA3, 33/62 field\n",
      "4/47 trial, CA3, 34/62 field\n",
      "4/47 trial, CA3, 35/62 field\n",
      "4/47 trial, CA3, 36/62 field\n",
      "4/47 trial, CA3, 37/62 field\n",
      "4/47 trial, CA3, 38/62 field\n",
      "4/47 trial, CA3, 39/62 field\n",
      "4/47 trial, CA3, 40/62 field\n",
      "4/47 trial, CA3, 41/62 field\n",
      "4/47 trial, CA3, 42/62 field\n",
      "4/47 trial, CA3, 43/62 field\n"
     ]
    },
    {
     "name": "stderr",
     "output_type": "stream",
     "text": [
      "/home/yiu/projects/hippocampus/common/comput_utils.py:1372: UserWarning: Shuffling window is smaller than the spike train! Using window size = range/5 instead.\n",
      "  warnings.warn(\"Shuffling window is smaller than the spike train! Using window size = range/5 instead.\")\n",
      "/home/yiu/projects/hippocampus/common/comput_utils.py:1217: RuntimeWarning: Mean of empty slice\n",
      "  errd = np.nanmean(directionality - dtmp_norm) ** 2\n",
      "/home/yiu/projects/hippocampus/common/comput_utils.py:1218: RuntimeWarning: Mean of empty slice\n",
      "  errp = np.nanmean(positionality - ptmp_norm) ** 2\n"
     ]
    },
    {
     "name": "stdout",
     "output_type": "stream",
     "text": [
      "4/47 trial, CA3, 44/62 field\n",
      "4/47 trial, CA3, 45/62 field\n",
      "4/47 trial, CA3, 46/62 field\n",
      "4/47 trial, CA3, 47/62 field\n",
      "4/47 trial, CA3, 48/62 field\n",
      "4/47 trial, CA3, 49/62 field\n",
      "4/47 trial, CA3, 50/62 field\n",
      "4/47 trial, CA3, 51/62 field\n",
      "4/47 trial, CA3, 52/62 field\n",
      "4/47 trial, CA3, 53/62 field\n",
      "4/47 trial, CA3, 54/62 field\n"
     ]
    },
    {
     "name": "stderr",
     "output_type": "stream",
     "text": [
      "/home/yiu/projects/hippocampus/common/comput_utils.py:1372: UserWarning: Shuffling window is smaller than the spike train! Using window size = range/5 instead.\n",
      "  warnings.warn(\"Shuffling window is smaller than the spike train! Using window size = range/5 instead.\")\n",
      "/home/yiu/projects/hippocampus/common/comput_utils.py:1217: RuntimeWarning: Mean of empty slice\n",
      "  errd = np.nanmean(directionality - dtmp_norm) ** 2\n",
      "/home/yiu/projects/hippocampus/common/comput_utils.py:1218: RuntimeWarning: Mean of empty slice\n",
      "  errp = np.nanmean(positionality - ptmp_norm) ** 2\n"
     ]
    },
    {
     "name": "stdout",
     "output_type": "stream",
     "text": [
      "4/47 trial, CA3, 55/62 field\n",
      "4/47 trial, CA3, 56/62 field\n",
      "4/47 trial, CA3, 57/62 field\n",
      "4/47 trial, CA3, 58/62 field\n",
      "4/47 trial, CA3, 59/62 field\n",
      "4/47 trial, CA3, 60/62 field\n",
      "4/47 trial, CA3, 61/62 field\n",
      "5/47 trial, CA1, 0/9 field\n",
      "5/47 trial, CA1, 1/9 field\n",
      "5/47 trial, CA1, 2/9 field\n",
      "5/47 trial, CA1, 3/9 field\n",
      "5/47 trial, CA1, 4/9 field\n",
      "5/47 trial, CA1, 5/9 field\n",
      "5/47 trial, CA1, 6/9 field\n",
      "5/47 trial, CA1, 7/9 field\n",
      "5/47 trial, CA1, 8/9 field\n",
      "6/47 trial, CA1, 0/54 field\n",
      "6/47 trial, CA1, 1/54 field\n",
      "6/47 trial, CA1, 2/54 field\n",
      "6/47 trial, CA1, 3/54 field\n",
      "6/47 trial, CA1, 4/54 field\n",
      "6/47 trial, CA1, 5/54 field\n",
      "6/47 trial, CA1, 6/54 field\n",
      "6/47 trial, CA1, 7/54 field\n",
      "6/47 trial, CA1, 8/54 field\n",
      "6/47 trial, CA1, 9/54 field\n",
      "6/47 trial, CA1, 10/54 field\n",
      "6/47 trial, CA1, 11/54 field\n",
      "6/47 trial, CA1, 12/54 field\n",
      "6/47 trial, CA1, 13/54 field\n",
      "6/47 trial, CA1, 14/54 field\n",
      "6/47 trial, CA1, 15/54 field\n",
      "6/47 trial, CA1, 16/54 field\n",
      "6/47 trial, CA1, 17/54 field\n",
      "6/47 trial, CA1, 18/54 field\n",
      "6/47 trial, CA1, 19/54 field\n",
      "6/47 trial, CA1, 20/54 field\n",
      "6/47 trial, CA1, 21/54 field\n",
      "6/47 trial, CA1, 22/54 field\n",
      "6/47 trial, CA1, 23/54 field\n"
     ]
    },
    {
     "name": "stderr",
     "output_type": "stream",
     "text": [
      "/home/yiu/projects/hippocampus/common/comput_utils.py:1372: UserWarning: Shuffling window is smaller than the spike train! Using window size = range/5 instead.\n",
      "  warnings.warn(\"Shuffling window is smaller than the spike train! Using window size = range/5 instead.\")\n"
     ]
    },
    {
     "name": "stdout",
     "output_type": "stream",
     "text": [
      "6/47 trial, CA1, 24/54 field\n",
      "6/47 trial, CA1, 25/54 field\n",
      "6/47 trial, CA1, 26/54 field\n",
      "6/47 trial, CA1, 27/54 field\n",
      "6/47 trial, CA1, 28/54 field\n",
      "6/47 trial, CA1, 29/54 field\n",
      "6/47 trial, CA1, 30/54 field\n",
      "6/47 trial, CA1, 31/54 field\n",
      "6/47 trial, CA1, 32/54 field\n",
      "6/47 trial, CA1, 33/54 field\n",
      "6/47 trial, CA1, 34/54 field\n",
      "6/47 trial, CA1, 35/54 field\n",
      "6/47 trial, CA1, 36/54 field\n",
      "6/47 trial, CA1, 37/54 field\n",
      "6/47 trial, CA1, 38/54 field\n",
      "6/47 trial, CA1, 39/54 field\n",
      "6/47 trial, CA1, 40/54 field\n",
      "6/47 trial, CA1, 41/54 field\n",
      "6/47 trial, CA1, 42/54 field\n",
      "6/47 trial, CA1, 43/54 field\n"
     ]
    },
    {
     "name": "stderr",
     "output_type": "stream",
     "text": [
      "/home/yiu/projects/hippocampus/common/comput_utils.py:1217: RuntimeWarning: Mean of empty slice\n",
      "  errd = np.nanmean(directionality - dtmp_norm) ** 2\n",
      "/home/yiu/projects/hippocampus/common/comput_utils.py:1218: RuntimeWarning: Mean of empty slice\n",
      "  errp = np.nanmean(positionality - ptmp_norm) ** 2\n"
     ]
    },
    {
     "name": "stdout",
     "output_type": "stream",
     "text": [
      "6/47 trial, CA1, 44/54 field\n",
      "6/47 trial, CA1, 45/54 field\n",
      "6/47 trial, CA1, 46/54 field\n",
      "6/47 trial, CA1, 47/54 field\n",
      "6/47 trial, CA1, 48/54 field\n",
      "6/47 trial, CA1, 49/54 field\n",
      "6/47 trial, CA1, 50/54 field\n",
      "6/47 trial, CA1, 51/54 field\n",
      "6/47 trial, CA1, 52/54 field\n",
      "6/47 trial, CA1, 53/54 field\n",
      "6/47 trial, CA3, 0/55 field\n",
      "6/47 trial, CA3, 1/55 field\n",
      "6/47 trial, CA3, 2/55 field\n",
      "6/47 trial, CA3, 3/55 field\n",
      "6/47 trial, CA3, 4/55 field\n",
      "6/47 trial, CA3, 5/55 field\n",
      "6/47 trial, CA3, 6/55 field\n",
      "6/47 trial, CA3, 7/55 field\n",
      "6/47 trial, CA3, 8/55 field\n",
      "6/47 trial, CA3, 9/55 field\n",
      "6/47 trial, CA3, 10/55 field\n",
      "6/47 trial, CA3, 11/55 field\n",
      "6/47 trial, CA3, 12/55 field\n",
      "6/47 trial, CA3, 13/55 field\n",
      "6/47 trial, CA3, 14/55 field\n",
      "6/47 trial, CA3, 15/55 field\n",
      "6/47 trial, CA3, 16/55 field\n",
      "6/47 trial, CA3, 17/55 field\n",
      "6/47 trial, CA3, 18/55 field\n",
      "6/47 trial, CA3, 19/55 field\n",
      "6/47 trial, CA3, 20/55 field\n",
      "6/47 trial, CA3, 21/55 field\n",
      "6/47 trial, CA3, 22/55 field\n",
      "6/47 trial, CA3, 23/55 field\n",
      "6/47 trial, CA3, 24/55 field\n"
     ]
    },
    {
     "name": "stderr",
     "output_type": "stream",
     "text": [
      "/home/yiu/projects/hippocampus/common/comput_utils.py:1372: UserWarning: Shuffling window is smaller than the spike train! Using window size = range/5 instead.\n",
      "  warnings.warn(\"Shuffling window is smaller than the spike train! Using window size = range/5 instead.\")\n"
     ]
    },
    {
     "name": "stdout",
     "output_type": "stream",
     "text": [
      "6/47 trial, CA3, 25/55 field\n",
      "6/47 trial, CA3, 26/55 field\n",
      "6/47 trial, CA3, 27/55 field\n",
      "6/47 trial, CA3, 28/55 field\n",
      "6/47 trial, CA3, 29/55 field\n",
      "6/47 trial, CA3, 30/55 field\n",
      "6/47 trial, CA3, 31/55 field\n",
      "6/47 trial, CA3, 32/55 field\n",
      "6/47 trial, CA3, 33/55 field\n",
      "6/47 trial, CA3, 34/55 field\n",
      "6/47 trial, CA3, 35/55 field\n",
      "6/47 trial, CA3, 36/55 field\n",
      "6/47 trial, CA3, 37/55 field\n",
      "6/47 trial, CA3, 38/55 field\n",
      "6/47 trial, CA3, 39/55 field\n",
      "6/47 trial, CA3, 40/55 field\n",
      "6/47 trial, CA3, 41/55 field\n",
      "6/47 trial, CA3, 42/55 field\n",
      "6/47 trial, CA3, 43/55 field\n",
      "6/47 trial, CA3, 44/55 field\n"
     ]
    },
    {
     "name": "stderr",
     "output_type": "stream",
     "text": [
      "/home/yiu/projects/hippocampus/common/comput_utils.py:1217: RuntimeWarning: Mean of empty slice\n",
      "  errd = np.nanmean(directionality - dtmp_norm) ** 2\n",
      "/home/yiu/projects/hippocampus/common/comput_utils.py:1218: RuntimeWarning: Mean of empty slice\n",
      "  errp = np.nanmean(positionality - ptmp_norm) ** 2\n"
     ]
    },
    {
     "name": "stdout",
     "output_type": "stream",
     "text": [
      "6/47 trial, CA3, 45/55 field\n",
      "6/47 trial, CA3, 46/55 field\n",
      "6/47 trial, CA3, 47/55 field\n",
      "6/47 trial, CA3, 48/55 field\n",
      "6/47 trial, CA3, 49/55 field\n",
      "6/47 trial, CA3, 50/55 field\n",
      "6/47 trial, CA3, 51/55 field\n",
      "6/47 trial, CA3, 52/55 field\n",
      "6/47 trial, CA3, 53/55 field\n",
      "6/47 trial, CA3, 54/55 field\n",
      "7/47 trial, CA1, 0/35 field\n"
     ]
    },
    {
     "name": "stderr",
     "output_type": "stream",
     "text": [
      "/home/yiu/projects/hippocampus/common/comput_utils.py:1372: UserWarning: Shuffling window is smaller than the spike train! Using window size = range/5 instead.\n",
      "  warnings.warn(\"Shuffling window is smaller than the spike train! Using window size = range/5 instead.\")\n"
     ]
    },
    {
     "name": "stdout",
     "output_type": "stream",
     "text": [
      "7/47 trial, CA1, 1/35 field\n",
      "7/47 trial, CA1, 2/35 field\n",
      "7/47 trial, CA1, 3/35 field\n",
      "7/47 trial, CA1, 4/35 field\n",
      "7/47 trial, CA1, 5/35 field\n",
      "7/47 trial, CA1, 6/35 field\n",
      "7/47 trial, CA1, 7/35 field\n"
     ]
    },
    {
     "name": "stderr",
     "output_type": "stream",
     "text": [
      "/home/yiu/projects/hippocampus/common/comput_utils.py:1372: UserWarning: Shuffling window is smaller than the spike train! Using window size = range/5 instead.\n",
      "  warnings.warn(\"Shuffling window is smaller than the spike train! Using window size = range/5 instead.\")\n"
     ]
    },
    {
     "name": "stdout",
     "output_type": "stream",
     "text": [
      "7/47 trial, CA1, 8/35 field\n"
     ]
    },
    {
     "name": "stderr",
     "output_type": "stream",
     "text": [
      "/home/yiu/projects/hippocampus/common/comput_utils.py:1372: UserWarning: Shuffling window is smaller than the spike train! Using window size = range/5 instead.\n",
      "  warnings.warn(\"Shuffling window is smaller than the spike train! Using window size = range/5 instead.\")\n",
      "/home/yiu/projects/hippocampus/common/comput_utils.py:1217: RuntimeWarning: Mean of empty slice\n",
      "  errd = np.nanmean(directionality - dtmp_norm) ** 2\n",
      "/home/yiu/projects/hippocampus/common/comput_utils.py:1218: RuntimeWarning: Mean of empty slice\n",
      "  errp = np.nanmean(positionality - ptmp_norm) ** 2\n"
     ]
    },
    {
     "name": "stdout",
     "output_type": "stream",
     "text": [
      "7/47 trial, CA1, 9/35 field\n",
      "7/47 trial, CA1, 10/35 field\n",
      "7/47 trial, CA1, 11/35 field\n",
      "7/47 trial, CA1, 12/35 field\n",
      "7/47 trial, CA1, 13/35 field\n",
      "7/47 trial, CA1, 14/35 field\n",
      "7/47 trial, CA1, 15/35 field\n",
      "7/47 trial, CA1, 16/35 field\n",
      "7/47 trial, CA1, 17/35 field\n",
      "7/47 trial, CA1, 18/35 field\n",
      "7/47 trial, CA1, 19/35 field\n",
      "7/47 trial, CA1, 20/35 field\n",
      "7/47 trial, CA1, 21/35 field\n",
      "7/47 trial, CA1, 22/35 field\n",
      "7/47 trial, CA1, 23/35 field\n",
      "7/47 trial, CA1, 24/35 field\n",
      "7/47 trial, CA1, 25/35 field\n",
      "7/47 trial, CA1, 26/35 field\n",
      "7/47 trial, CA1, 27/35 field\n",
      "7/47 trial, CA1, 28/35 field\n",
      "7/47 trial, CA1, 29/35 field\n",
      "7/47 trial, CA1, 30/35 field\n",
      "7/47 trial, CA1, 31/35 field\n"
     ]
    },
    {
     "name": "stderr",
     "output_type": "stream",
     "text": [
      "/home/yiu/projects/hippocampus/common/comput_utils.py:1372: UserWarning: Shuffling window is smaller than the spike train! Using window size = range/5 instead.\n",
      "  warnings.warn(\"Shuffling window is smaller than the spike train! Using window size = range/5 instead.\")\n"
     ]
    },
    {
     "name": "stdout",
     "output_type": "stream",
     "text": [
      "7/47 trial, CA1, 32/35 field\n"
     ]
    },
    {
     "name": "stderr",
     "output_type": "stream",
     "text": [
      "/home/yiu/projects/hippocampus/common/comput_utils.py:1372: UserWarning: Shuffling window is smaller than the spike train! Using window size = range/5 instead.\n",
      "  warnings.warn(\"Shuffling window is smaller than the spike train! Using window size = range/5 instead.\")\n"
     ]
    },
    {
     "name": "stdout",
     "output_type": "stream",
     "text": [
      "7/47 trial, CA1, 33/35 field\n",
      "7/47 trial, CA1, 34/35 field\n",
      "8/47 trial, CA1, 0/18 field\n"
     ]
    },
    {
     "name": "stderr",
     "output_type": "stream",
     "text": [
      "/home/yiu/projects/hippocampus/common/comput_utils.py:1372: UserWarning: Shuffling window is smaller than the spike train! Using window size = range/5 instead.\n",
      "  warnings.warn(\"Shuffling window is smaller than the spike train! Using window size = range/5 instead.\")\n"
     ]
    },
    {
     "name": "stdout",
     "output_type": "stream",
     "text": [
      "8/47 trial, CA1, 1/18 field\n",
      "8/47 trial, CA1, 2/18 field\n",
      "8/47 trial, CA1, 3/18 field\n",
      "8/47 trial, CA1, 4/18 field\n",
      "8/47 trial, CA1, 5/18 field\n",
      "8/47 trial, CA1, 6/18 field\n",
      "8/47 trial, CA1, 7/18 field\n",
      "8/47 trial, CA1, 8/18 field\n",
      "8/47 trial, CA1, 9/18 field\n",
      "8/47 trial, CA1, 10/18 field\n",
      "8/47 trial, CA1, 11/18 field\n",
      "8/47 trial, CA1, 12/18 field\n",
      "8/47 trial, CA1, 13/18 field\n",
      "8/47 trial, CA1, 14/18 field\n",
      "8/47 trial, CA1, 15/18 field\n",
      "8/47 trial, CA1, 16/18 field\n",
      "8/47 trial, CA1, 17/18 field\n",
      "9/47 trial, CA1, 0/27 field\n",
      "9/47 trial, CA1, 1/27 field\n",
      "9/47 trial, CA1, 2/27 field\n",
      "9/47 trial, CA1, 3/27 field\n",
      "9/47 trial, CA1, 4/27 field\n",
      "9/47 trial, CA1, 5/27 field\n",
      "9/47 trial, CA1, 6/27 field\n",
      "9/47 trial, CA1, 7/27 field\n",
      "9/47 trial, CA1, 8/27 field\n"
     ]
    },
    {
     "name": "stderr",
     "output_type": "stream",
     "text": [
      "/home/yiu/projects/hippocampus/common/comput_utils.py:1372: UserWarning: Shuffling window is smaller than the spike train! Using window size = range/5 instead.\n",
      "  warnings.warn(\"Shuffling window is smaller than the spike train! Using window size = range/5 instead.\")\n"
     ]
    },
    {
     "name": "stdout",
     "output_type": "stream",
     "text": [
      "9/47 trial, CA1, 9/27 field\n"
     ]
    },
    {
     "name": "stderr",
     "output_type": "stream",
     "text": [
      "/home/yiu/projects/hippocampus/common/comput_utils.py:1372: UserWarning: Shuffling window is smaller than the spike train! Using window size = range/5 instead.\n",
      "  warnings.warn(\"Shuffling window is smaller than the spike train! Using window size = range/5 instead.\")\n"
     ]
    },
    {
     "name": "stdout",
     "output_type": "stream",
     "text": [
      "9/47 trial, CA1, 10/27 field\n",
      "9/47 trial, CA1, 11/27 field\n",
      "9/47 trial, CA1, 12/27 field\n",
      "9/47 trial, CA1, 13/27 field\n",
      "9/47 trial, CA1, 14/27 field\n",
      "9/47 trial, CA1, 15/27 field\n",
      "9/47 trial, CA1, 16/27 field\n",
      "9/47 trial, CA1, 17/27 field\n",
      "9/47 trial, CA1, 18/27 field\n",
      "9/47 trial, CA1, 19/27 field\n",
      "9/47 trial, CA1, 20/27 field\n",
      "9/47 trial, CA1, 21/27 field\n",
      "9/47 trial, CA1, 22/27 field\n"
     ]
    },
    {
     "name": "stderr",
     "output_type": "stream",
     "text": [
      "/home/yiu/projects/hippocampus/common/comput_utils.py:1372: UserWarning: Shuffling window is smaller than the spike train! Using window size = range/5 instead.\n",
      "  warnings.warn(\"Shuffling window is smaller than the spike train! Using window size = range/5 instead.\")\n",
      "/home/yiu/projects/hippocampus/common/comput_utils.py:1217: RuntimeWarning: Mean of empty slice\n",
      "  errd = np.nanmean(directionality - dtmp_norm) ** 2\n",
      "/home/yiu/projects/hippocampus/common/comput_utils.py:1218: RuntimeWarning: Mean of empty slice\n",
      "  errp = np.nanmean(positionality - ptmp_norm) ** 2\n"
     ]
    },
    {
     "name": "stdout",
     "output_type": "stream",
     "text": [
      "9/47 trial, CA1, 23/27 field\n",
      "9/47 trial, CA1, 24/27 field\n",
      "9/47 trial, CA1, 25/27 field\n",
      "9/47 trial, CA1, 26/27 field\n",
      "10/47 trial, CA1, 0/56 field\n",
      "10/47 trial, CA1, 1/56 field\n",
      "10/47 trial, CA1, 2/56 field\n",
      "10/47 trial, CA1, 3/56 field\n",
      "10/47 trial, CA1, 4/56 field\n",
      "10/47 trial, CA1, 5/56 field\n",
      "10/47 trial, CA1, 6/56 field\n",
      "10/47 trial, CA1, 7/56 field\n",
      "10/47 trial, CA1, 8/56 field\n",
      "10/47 trial, CA1, 9/56 field\n",
      "10/47 trial, CA1, 10/56 field\n",
      "10/47 trial, CA1, 11/56 field\n",
      "10/47 trial, CA1, 12/56 field\n",
      "10/47 trial, CA1, 13/56 field\n",
      "10/47 trial, CA1, 14/56 field\n",
      "10/47 trial, CA1, 15/56 field\n",
      "10/47 trial, CA1, 16/56 field\n",
      "10/47 trial, CA1, 17/56 field\n",
      "10/47 trial, CA1, 18/56 field\n",
      "10/47 trial, CA1, 19/56 field\n",
      "10/47 trial, CA1, 20/56 field\n",
      "10/47 trial, CA1, 21/56 field\n",
      "10/47 trial, CA1, 22/56 field\n",
      "10/47 trial, CA1, 23/56 field\n",
      "10/47 trial, CA1, 24/56 field\n",
      "10/47 trial, CA1, 25/56 field\n",
      "10/47 trial, CA1, 26/56 field\n",
      "10/47 trial, CA1, 27/56 field\n",
      "10/47 trial, CA1, 28/56 field\n",
      "10/47 trial, CA1, 29/56 field\n",
      "10/47 trial, CA1, 30/56 field\n"
     ]
    },
    {
     "name": "stderr",
     "output_type": "stream",
     "text": [
      "/home/yiu/projects/hippocampus/common/comput_utils.py:1372: UserWarning: Shuffling window is smaller than the spike train! Using window size = range/5 instead.\n",
      "  warnings.warn(\"Shuffling window is smaller than the spike train! Using window size = range/5 instead.\")\n",
      "/home/yiu/projects/hippocampus/common/comput_utils.py:1217: RuntimeWarning: Mean of empty slice\n",
      "  errd = np.nanmean(directionality - dtmp_norm) ** 2\n",
      "/home/yiu/projects/hippocampus/common/comput_utils.py:1218: RuntimeWarning: Mean of empty slice\n",
      "  errp = np.nanmean(positionality - ptmp_norm) ** 2\n"
     ]
    },
    {
     "name": "stdout",
     "output_type": "stream",
     "text": [
      "10/47 trial, CA1, 31/56 field\n",
      "10/47 trial, CA1, 32/56 field\n",
      "10/47 trial, CA1, 33/56 field\n",
      "10/47 trial, CA1, 34/56 field\n",
      "10/47 trial, CA1, 35/56 field\n",
      "10/47 trial, CA1, 36/56 field\n",
      "10/47 trial, CA1, 37/56 field\n",
      "10/47 trial, CA1, 38/56 field\n",
      "10/47 trial, CA1, 39/56 field\n",
      "10/47 trial, CA1, 40/56 field\n",
      "10/47 trial, CA1, 41/56 field\n",
      "10/47 trial, CA1, 42/56 field\n",
      "10/47 trial, CA1, 43/56 field\n",
      "10/47 trial, CA1, 44/56 field\n",
      "10/47 trial, CA1, 45/56 field\n",
      "10/47 trial, CA1, 46/56 field\n",
      "10/47 trial, CA1, 47/56 field\n",
      "10/47 trial, CA1, 48/56 field\n",
      "10/47 trial, CA1, 49/56 field\n",
      "10/47 trial, CA1, 50/56 field\n",
      "10/47 trial, CA1, 51/56 field\n",
      "10/47 trial, CA1, 52/56 field\n",
      "10/47 trial, CA1, 53/56 field\n",
      "10/47 trial, CA1, 54/56 field\n"
     ]
    },
    {
     "name": "stderr",
     "output_type": "stream",
     "text": [
      "/home/yiu/projects/hippocampus/common/comput_utils.py:1372: UserWarning: Shuffling window is smaller than the spike train! Using window size = range/5 instead.\n",
      "  warnings.warn(\"Shuffling window is smaller than the spike train! Using window size = range/5 instead.\")\n",
      "/home/yiu/projects/hippocampus/common/comput_utils.py:1217: RuntimeWarning: Mean of empty slice\n",
      "  errd = np.nanmean(directionality - dtmp_norm) ** 2\n"
     ]
    },
    {
     "name": "stdout",
     "output_type": "stream",
     "text": [
      "10/47 trial, CA1, 55/56 field\n",
      "10/47 trial, CA3, 0/56 field\n",
      "10/47 trial, CA3, 1/56 field\n",
      "10/47 trial, CA3, 2/56 field\n",
      "10/47 trial, CA3, 3/56 field\n",
      "10/47 trial, CA3, 4/56 field\n",
      "10/47 trial, CA3, 5/56 field\n",
      "10/47 trial, CA3, 6/56 field\n",
      "10/47 trial, CA3, 7/56 field\n",
      "10/47 trial, CA3, 8/56 field\n",
      "10/47 trial, CA3, 9/56 field\n",
      "10/47 trial, CA3, 10/56 field\n",
      "10/47 trial, CA3, 11/56 field\n",
      "10/47 trial, CA3, 12/56 field\n",
      "10/47 trial, CA3, 13/56 field\n",
      "10/47 trial, CA3, 14/56 field\n",
      "10/47 trial, CA3, 15/56 field\n",
      "10/47 trial, CA3, 16/56 field\n",
      "10/47 trial, CA3, 17/56 field\n",
      "10/47 trial, CA3, 18/56 field\n",
      "10/47 trial, CA3, 19/56 field\n",
      "10/47 trial, CA3, 20/56 field\n",
      "10/47 trial, CA3, 21/56 field\n",
      "10/47 trial, CA3, 22/56 field\n",
      "10/47 trial, CA3, 23/56 field\n",
      "10/47 trial, CA3, 24/56 field\n",
      "10/47 trial, CA3, 25/56 field\n",
      "10/47 trial, CA3, 26/56 field\n",
      "10/47 trial, CA3, 27/56 field\n",
      "10/47 trial, CA3, 28/56 field\n",
      "10/47 trial, CA3, 29/56 field\n",
      "10/47 trial, CA3, 30/56 field\n"
     ]
    },
    {
     "name": "stderr",
     "output_type": "stream",
     "text": [
      "/home/yiu/projects/hippocampus/common/comput_utils.py:1372: UserWarning: Shuffling window is smaller than the spike train! Using window size = range/5 instead.\n",
      "  warnings.warn(\"Shuffling window is smaller than the spike train! Using window size = range/5 instead.\")\n",
      "/home/yiu/projects/hippocampus/common/comput_utils.py:1217: RuntimeWarning: Mean of empty slice\n",
      "  errd = np.nanmean(directionality - dtmp_norm) ** 2\n",
      "/home/yiu/projects/hippocampus/common/comput_utils.py:1218: RuntimeWarning: Mean of empty slice\n",
      "  errp = np.nanmean(positionality - ptmp_norm) ** 2\n"
     ]
    },
    {
     "name": "stdout",
     "output_type": "stream",
     "text": [
      "10/47 trial, CA3, 31/56 field\n",
      "10/47 trial, CA3, 32/56 field\n",
      "10/47 trial, CA3, 33/56 field\n",
      "10/47 trial, CA3, 34/56 field\n",
      "10/47 trial, CA3, 35/56 field\n",
      "10/47 trial, CA3, 36/56 field\n",
      "10/47 trial, CA3, 37/56 field\n",
      "10/47 trial, CA3, 38/56 field\n",
      "10/47 trial, CA3, 39/56 field\n",
      "10/47 trial, CA3, 40/56 field\n",
      "10/47 trial, CA3, 41/56 field\n",
      "10/47 trial, CA3, 42/56 field\n",
      "10/47 trial, CA3, 43/56 field\n",
      "10/47 trial, CA3, 44/56 field\n",
      "10/47 trial, CA3, 45/56 field\n",
      "10/47 trial, CA3, 46/56 field\n",
      "10/47 trial, CA3, 47/56 field\n",
      "10/47 trial, CA3, 48/56 field\n",
      "10/47 trial, CA3, 49/56 field\n",
      "10/47 trial, CA3, 50/56 field\n",
      "10/47 trial, CA3, 51/56 field\n",
      "10/47 trial, CA3, 52/56 field\n",
      "10/47 trial, CA3, 53/56 field\n",
      "10/47 trial, CA3, 54/56 field\n"
     ]
    },
    {
     "name": "stderr",
     "output_type": "stream",
     "text": [
      "/home/yiu/projects/hippocampus/common/comput_utils.py:1372: UserWarning: Shuffling window is smaller than the spike train! Using window size = range/5 instead.\n",
      "  warnings.warn(\"Shuffling window is smaller than the spike train! Using window size = range/5 instead.\")\n",
      "/home/yiu/projects/hippocampus/common/comput_utils.py:1217: RuntimeWarning: Mean of empty slice\n",
      "  errd = np.nanmean(directionality - dtmp_norm) ** 2\n"
     ]
    },
    {
     "name": "stdout",
     "output_type": "stream",
     "text": [
      "10/47 trial, CA3, 55/56 field\n",
      "11/47 trial, CA1, 0/46 field\n",
      "11/47 trial, CA1, 1/46 field\n",
      "11/47 trial, CA1, 2/46 field\n"
     ]
    },
    {
     "name": "stderr",
     "output_type": "stream",
     "text": [
      "/home/yiu/projects/hippocampus/common/comput_utils.py:1372: UserWarning: Shuffling window is smaller than the spike train! Using window size = range/5 instead.\n",
      "  warnings.warn(\"Shuffling window is smaller than the spike train! Using window size = range/5 instead.\")\n"
     ]
    },
    {
     "name": "stdout",
     "output_type": "stream",
     "text": [
      "11/47 trial, CA1, 3/46 field\n",
      "11/47 trial, CA1, 4/46 field\n",
      "11/47 trial, CA1, 5/46 field\n",
      "11/47 trial, CA1, 6/46 field\n",
      "11/47 trial, CA1, 7/46 field\n",
      "11/47 trial, CA1, 8/46 field\n",
      "11/47 trial, CA1, 9/46 field\n",
      "11/47 trial, CA1, 10/46 field\n"
     ]
    },
    {
     "name": "stderr",
     "output_type": "stream",
     "text": [
      "/home/yiu/projects/hippocampus/common/comput_utils.py:1372: UserWarning: Shuffling window is smaller than the spike train! Using window size = range/5 instead.\n",
      "  warnings.warn(\"Shuffling window is smaller than the spike train! Using window size = range/5 instead.\")\n"
     ]
    },
    {
     "name": "stdout",
     "output_type": "stream",
     "text": [
      "11/47 trial, CA1, 11/46 field\n",
      "11/47 trial, CA1, 12/46 field\n",
      "11/47 trial, CA1, 13/46 field\n",
      "11/47 trial, CA1, 14/46 field\n",
      "11/47 trial, CA1, 15/46 field\n",
      "11/47 trial, CA1, 16/46 field\n",
      "11/47 trial, CA1, 17/46 field\n",
      "11/47 trial, CA1, 18/46 field\n",
      "11/47 trial, CA1, 19/46 field\n",
      "11/47 trial, CA1, 20/46 field\n",
      "11/47 trial, CA1, 21/46 field\n",
      "11/47 trial, CA1, 22/46 field\n",
      "11/47 trial, CA1, 23/46 field\n",
      "11/47 trial, CA1, 24/46 field\n",
      "11/47 trial, CA1, 25/46 field\n",
      "11/47 trial, CA1, 26/46 field\n",
      "11/47 trial, CA1, 27/46 field\n",
      "11/47 trial, CA1, 28/46 field\n"
     ]
    },
    {
     "name": "stderr",
     "output_type": "stream",
     "text": [
      "/home/yiu/projects/hippocampus/common/comput_utils.py:1372: UserWarning: Shuffling window is smaller than the spike train! Using window size = range/5 instead.\n",
      "  warnings.warn(\"Shuffling window is smaller than the spike train! Using window size = range/5 instead.\")\n"
     ]
    },
    {
     "name": "stdout",
     "output_type": "stream",
     "text": [
      "11/47 trial, CA1, 29/46 field\n",
      "11/47 trial, CA1, 30/46 field\n"
     ]
    },
    {
     "name": "stderr",
     "output_type": "stream",
     "text": [
      "/home/yiu/projects/hippocampus/common/comput_utils.py:1372: UserWarning: Shuffling window is smaller than the spike train! Using window size = range/5 instead.\n",
      "  warnings.warn(\"Shuffling window is smaller than the spike train! Using window size = range/5 instead.\")\n"
     ]
    },
    {
     "name": "stdout",
     "output_type": "stream",
     "text": [
      "11/47 trial, CA1, 31/46 field\n",
      "11/47 trial, CA1, 32/46 field\n",
      "11/47 trial, CA1, 33/46 field\n",
      "11/47 trial, CA1, 34/46 field\n",
      "11/47 trial, CA1, 35/46 field\n",
      "11/47 trial, CA1, 36/46 field\n",
      "11/47 trial, CA1, 37/46 field\n",
      "11/47 trial, CA1, 38/46 field\n",
      "11/47 trial, CA1, 39/46 field\n",
      "11/47 trial, CA1, 40/46 field\n",
      "11/47 trial, CA1, 41/46 field\n",
      "11/47 trial, CA1, 42/46 field\n",
      "11/47 trial, CA1, 43/46 field\n",
      "11/47 trial, CA1, 44/46 field\n",
      "11/47 trial, CA1, 45/46 field\n",
      "11/47 trial, CA3, 0/46 field\n",
      "11/47 trial, CA3, 1/46 field\n",
      "11/47 trial, CA3, 2/46 field\n"
     ]
    },
    {
     "name": "stderr",
     "output_type": "stream",
     "text": [
      "/home/yiu/projects/hippocampus/common/comput_utils.py:1372: UserWarning: Shuffling window is smaller than the spike train! Using window size = range/5 instead.\n",
      "  warnings.warn(\"Shuffling window is smaller than the spike train! Using window size = range/5 instead.\")\n"
     ]
    },
    {
     "name": "stdout",
     "output_type": "stream",
     "text": [
      "11/47 trial, CA3, 3/46 field\n",
      "11/47 trial, CA3, 4/46 field\n",
      "11/47 trial, CA3, 5/46 field\n",
      "11/47 trial, CA3, 6/46 field\n",
      "11/47 trial, CA3, 7/46 field\n",
      "11/47 trial, CA3, 8/46 field\n",
      "11/47 trial, CA3, 9/46 field\n",
      "11/47 trial, CA3, 10/46 field\n"
     ]
    },
    {
     "name": "stderr",
     "output_type": "stream",
     "text": [
      "/home/yiu/projects/hippocampus/common/comput_utils.py:1372: UserWarning: Shuffling window is smaller than the spike train! Using window size = range/5 instead.\n",
      "  warnings.warn(\"Shuffling window is smaller than the spike train! Using window size = range/5 instead.\")\n"
     ]
    },
    {
     "name": "stdout",
     "output_type": "stream",
     "text": [
      "11/47 trial, CA3, 11/46 field\n",
      "11/47 trial, CA3, 12/46 field\n",
      "11/47 trial, CA3, 13/46 field\n",
      "11/47 trial, CA3, 14/46 field\n",
      "11/47 trial, CA3, 15/46 field\n",
      "11/47 trial, CA3, 16/46 field\n",
      "11/47 trial, CA3, 17/46 field\n",
      "11/47 trial, CA3, 18/46 field\n",
      "11/47 trial, CA3, 19/46 field\n",
      "11/47 trial, CA3, 20/46 field\n",
      "11/47 trial, CA3, 21/46 field\n",
      "11/47 trial, CA3, 22/46 field\n",
      "11/47 trial, CA3, 23/46 field\n",
      "11/47 trial, CA3, 24/46 field\n",
      "11/47 trial, CA3, 25/46 field\n",
      "11/47 trial, CA3, 26/46 field\n",
      "11/47 trial, CA3, 27/46 field\n",
      "11/47 trial, CA3, 28/46 field\n"
     ]
    },
    {
     "name": "stderr",
     "output_type": "stream",
     "text": [
      "/home/yiu/projects/hippocampus/common/comput_utils.py:1372: UserWarning: Shuffling window is smaller than the spike train! Using window size = range/5 instead.\n",
      "  warnings.warn(\"Shuffling window is smaller than the spike train! Using window size = range/5 instead.\")\n"
     ]
    },
    {
     "name": "stdout",
     "output_type": "stream",
     "text": [
      "11/47 trial, CA3, 29/46 field\n",
      "11/47 trial, CA3, 30/46 field\n"
     ]
    },
    {
     "name": "stderr",
     "output_type": "stream",
     "text": [
      "/home/yiu/projects/hippocampus/common/comput_utils.py:1372: UserWarning: Shuffling window is smaller than the spike train! Using window size = range/5 instead.\n",
      "  warnings.warn(\"Shuffling window is smaller than the spike train! Using window size = range/5 instead.\")\n"
     ]
    },
    {
     "name": "stdout",
     "output_type": "stream",
     "text": [
      "11/47 trial, CA3, 31/46 field\n",
      "11/47 trial, CA3, 32/46 field\n",
      "11/47 trial, CA3, 33/46 field\n",
      "11/47 trial, CA3, 34/46 field\n",
      "11/47 trial, CA3, 35/46 field\n",
      "11/47 trial, CA3, 36/46 field\n",
      "11/47 trial, CA3, 37/46 field\n",
      "11/47 trial, CA3, 38/46 field\n",
      "11/47 trial, CA3, 39/46 field\n",
      "11/47 trial, CA3, 40/46 field\n",
      "11/47 trial, CA3, 41/46 field\n",
      "11/47 trial, CA3, 42/46 field\n",
      "11/47 trial, CA3, 43/46 field\n",
      "11/47 trial, CA3, 44/46 field\n",
      "11/47 trial, CA3, 45/46 field\n",
      "12/47 trial, CA1, 0/44 field\n",
      "12/47 trial, CA1, 1/44 field\n",
      "12/47 trial, CA1, 2/44 field\n",
      "12/47 trial, CA1, 3/44 field\n",
      "12/47 trial, CA1, 4/44 field\n",
      "12/47 trial, CA1, 5/44 field\n",
      "12/47 trial, CA1, 6/44 field\n",
      "12/47 trial, CA1, 7/44 field\n",
      "12/47 trial, CA1, 8/44 field\n",
      "12/47 trial, CA1, 9/44 field\n",
      "12/47 trial, CA1, 10/44 field\n"
     ]
    },
    {
     "name": "stderr",
     "output_type": "stream",
     "text": [
      "/home/yiu/projects/hippocampus/common/comput_utils.py:1217: RuntimeWarning: Mean of empty slice\n",
      "  errd = np.nanmean(directionality - dtmp_norm) ** 2\n",
      "/home/yiu/projects/hippocampus/common/comput_utils.py:1218: RuntimeWarning: Mean of empty slice\n",
      "  errp = np.nanmean(positionality - ptmp_norm) ** 2\n"
     ]
    },
    {
     "name": "stdout",
     "output_type": "stream",
     "text": [
      "12/47 trial, CA1, 11/44 field\n",
      "12/47 trial, CA1, 12/44 field\n",
      "12/47 trial, CA1, 13/44 field\n",
      "12/47 trial, CA1, 14/44 field\n",
      "12/47 trial, CA1, 15/44 field\n",
      "12/47 trial, CA1, 16/44 field\n",
      "12/47 trial, CA1, 17/44 field\n",
      "12/47 trial, CA1, 18/44 field\n",
      "12/47 trial, CA1, 19/44 field\n",
      "12/47 trial, CA1, 20/44 field\n",
      "12/47 trial, CA1, 21/44 field\n",
      "12/47 trial, CA1, 22/44 field\n",
      "12/47 trial, CA1, 23/44 field\n",
      "12/47 trial, CA1, 24/44 field\n",
      "12/47 trial, CA1, 25/44 field\n",
      "12/47 trial, CA1, 26/44 field\n",
      "12/47 trial, CA1, 27/44 field\n",
      "12/47 trial, CA1, 28/44 field\n",
      "12/47 trial, CA1, 29/44 field\n",
      "12/47 trial, CA1, 30/44 field\n"
     ]
    },
    {
     "name": "stderr",
     "output_type": "stream",
     "text": [
      "/home/yiu/projects/hippocampus/common/comput_utils.py:1372: UserWarning: Shuffling window is smaller than the spike train! Using window size = range/5 instead.\n",
      "  warnings.warn(\"Shuffling window is smaller than the spike train! Using window size = range/5 instead.\")\n"
     ]
    },
    {
     "name": "stdout",
     "output_type": "stream",
     "text": [
      "12/47 trial, CA1, 31/44 field\n",
      "12/47 trial, CA1, 32/44 field\n",
      "12/47 trial, CA1, 33/44 field\n",
      "12/47 trial, CA1, 34/44 field\n",
      "12/47 trial, CA1, 35/44 field\n",
      "12/47 trial, CA1, 36/44 field\n",
      "12/47 trial, CA1, 37/44 field\n",
      "12/47 trial, CA1, 38/44 field\n",
      "12/47 trial, CA1, 39/44 field\n",
      "12/47 trial, CA1, 40/44 field\n",
      "12/47 trial, CA1, 41/44 field\n"
     ]
    },
    {
     "name": "stderr",
     "output_type": "stream",
     "text": [
      "/home/yiu/projects/hippocampus/common/comput_utils.py:1372: UserWarning: Shuffling window is smaller than the spike train! Using window size = range/5 instead.\n",
      "  warnings.warn(\"Shuffling window is smaller than the spike train! Using window size = range/5 instead.\")\n"
     ]
    },
    {
     "name": "stdout",
     "output_type": "stream",
     "text": [
      "12/47 trial, CA1, 42/44 field\n"
     ]
    },
    {
     "name": "stderr",
     "output_type": "stream",
     "text": [
      "/home/yiu/projects/hippocampus/common/comput_utils.py:1372: UserWarning: Shuffling window is smaller than the spike train! Using window size = range/5 instead.\n",
      "  warnings.warn(\"Shuffling window is smaller than the spike train! Using window size = range/5 instead.\")\n"
     ]
    },
    {
     "name": "stdout",
     "output_type": "stream",
     "text": [
      "12/47 trial, CA1, 43/44 field\n",
      "12/47 trial, CA3, 0/44 field\n",
      "12/47 trial, CA3, 1/44 field\n",
      "12/47 trial, CA3, 2/44 field\n",
      "12/47 trial, CA3, 3/44 field\n",
      "12/47 trial, CA3, 4/44 field\n",
      "12/47 trial, CA3, 5/44 field\n",
      "12/47 trial, CA3, 6/44 field\n",
      "12/47 trial, CA3, 7/44 field\n",
      "12/47 trial, CA3, 8/44 field\n",
      "12/47 trial, CA3, 9/44 field\n",
      "12/47 trial, CA3, 10/44 field\n"
     ]
    },
    {
     "name": "stderr",
     "output_type": "stream",
     "text": [
      "/home/yiu/projects/hippocampus/common/comput_utils.py:1217: RuntimeWarning: Mean of empty slice\n",
      "  errd = np.nanmean(directionality - dtmp_norm) ** 2\n",
      "/home/yiu/projects/hippocampus/common/comput_utils.py:1218: RuntimeWarning: Mean of empty slice\n",
      "  errp = np.nanmean(positionality - ptmp_norm) ** 2\n"
     ]
    },
    {
     "name": "stdout",
     "output_type": "stream",
     "text": [
      "12/47 trial, CA3, 11/44 field\n",
      "12/47 trial, CA3, 12/44 field\n",
      "12/47 trial, CA3, 13/44 field\n",
      "12/47 trial, CA3, 14/44 field\n",
      "12/47 trial, CA3, 15/44 field\n",
      "12/47 trial, CA3, 16/44 field\n",
      "12/47 trial, CA3, 17/44 field\n",
      "12/47 trial, CA3, 18/44 field\n",
      "12/47 trial, CA3, 19/44 field\n",
      "12/47 trial, CA3, 20/44 field\n",
      "12/47 trial, CA3, 21/44 field\n",
      "12/47 trial, CA3, 22/44 field\n",
      "12/47 trial, CA3, 23/44 field\n",
      "12/47 trial, CA3, 24/44 field\n",
      "12/47 trial, CA3, 25/44 field\n",
      "12/47 trial, CA3, 26/44 field\n",
      "12/47 trial, CA3, 27/44 field\n",
      "12/47 trial, CA3, 28/44 field\n",
      "12/47 trial, CA3, 29/44 field\n",
      "12/47 trial, CA3, 30/44 field\n"
     ]
    },
    {
     "name": "stderr",
     "output_type": "stream",
     "text": [
      "/home/yiu/projects/hippocampus/common/comput_utils.py:1372: UserWarning: Shuffling window is smaller than the spike train! Using window size = range/5 instead.\n",
      "  warnings.warn(\"Shuffling window is smaller than the spike train! Using window size = range/5 instead.\")\n"
     ]
    },
    {
     "name": "stdout",
     "output_type": "stream",
     "text": [
      "12/47 trial, CA3, 31/44 field\n",
      "12/47 trial, CA3, 32/44 field\n",
      "12/47 trial, CA3, 33/44 field\n",
      "12/47 trial, CA3, 34/44 field\n",
      "12/47 trial, CA3, 35/44 field\n",
      "12/47 trial, CA3, 36/44 field\n",
      "12/47 trial, CA3, 37/44 field\n",
      "12/47 trial, CA3, 38/44 field\n",
      "12/47 trial, CA3, 39/44 field\n",
      "12/47 trial, CA3, 40/44 field\n",
      "12/47 trial, CA3, 41/44 field\n"
     ]
    },
    {
     "name": "stderr",
     "output_type": "stream",
     "text": [
      "/home/yiu/projects/hippocampus/common/comput_utils.py:1372: UserWarning: Shuffling window is smaller than the spike train! Using window size = range/5 instead.\n",
      "  warnings.warn(\"Shuffling window is smaller than the spike train! Using window size = range/5 instead.\")\n"
     ]
    },
    {
     "name": "stdout",
     "output_type": "stream",
     "text": [
      "12/47 trial, CA3, 42/44 field\n"
     ]
    },
    {
     "name": "stderr",
     "output_type": "stream",
     "text": [
      "/home/yiu/projects/hippocampus/common/comput_utils.py:1372: UserWarning: Shuffling window is smaller than the spike train! Using window size = range/5 instead.\n",
      "  warnings.warn(\"Shuffling window is smaller than the spike train! Using window size = range/5 instead.\")\n"
     ]
    },
    {
     "name": "stdout",
     "output_type": "stream",
     "text": [
      "12/47 trial, CA3, 43/44 field\n",
      "13/47 trial, CA1, 0/28 field\n",
      "13/47 trial, CA1, 1/28 field\n",
      "13/47 trial, CA1, 2/28 field\n",
      "13/47 trial, CA1, 3/28 field\n",
      "13/47 trial, CA1, 4/28 field\n",
      "13/47 trial, CA1, 5/28 field\n",
      "13/47 trial, CA1, 6/28 field\n",
      "13/47 trial, CA1, 7/28 field\n",
      "13/47 trial, CA1, 8/28 field\n"
     ]
    },
    {
     "name": "stderr",
     "output_type": "stream",
     "text": [
      "/home/yiu/projects/hippocampus/common/comput_utils.py:1372: UserWarning: Shuffling window is smaller than the spike train! Using window size = range/5 instead.\n",
      "  warnings.warn(\"Shuffling window is smaller than the spike train! Using window size = range/5 instead.\")\n"
     ]
    },
    {
     "name": "stdout",
     "output_type": "stream",
     "text": [
      "13/47 trial, CA1, 9/28 field\n",
      "13/47 trial, CA1, 10/28 field\n",
      "13/47 trial, CA1, 11/28 field\n",
      "13/47 trial, CA1, 12/28 field\n",
      "13/47 trial, CA1, 13/28 field\n"
     ]
    },
    {
     "name": "stderr",
     "output_type": "stream",
     "text": [
      "/home/yiu/projects/hippocampus/common/comput_utils.py:1372: UserWarning: Shuffling window is smaller than the spike train! Using window size = range/5 instead.\n",
      "  warnings.warn(\"Shuffling window is smaller than the spike train! Using window size = range/5 instead.\")\n",
      "/home/yiu/projects/hippocampus/common/comput_utils.py:1217: RuntimeWarning: Mean of empty slice\n",
      "  errd = np.nanmean(directionality - dtmp_norm) ** 2\n",
      "/home/yiu/projects/hippocampus/common/comput_utils.py:1218: RuntimeWarning: Mean of empty slice\n",
      "  errp = np.nanmean(positionality - ptmp_norm) ** 2\n"
     ]
    },
    {
     "name": "stdout",
     "output_type": "stream",
     "text": [
      "13/47 trial, CA1, 14/28 field\n"
     ]
    },
    {
     "name": "stderr",
     "output_type": "stream",
     "text": [
      "/home/yiu/projects/hippocampus/common/comput_utils.py:1217: RuntimeWarning: Mean of empty slice\n",
      "  errd = np.nanmean(directionality - dtmp_norm) ** 2\n",
      "/home/yiu/projects/hippocampus/common/comput_utils.py:1218: RuntimeWarning: Mean of empty slice\n",
      "  errp = np.nanmean(positionality - ptmp_norm) ** 2\n"
     ]
    },
    {
     "name": "stdout",
     "output_type": "stream",
     "text": [
      "13/47 trial, CA1, 15/28 field\n",
      "13/47 trial, CA1, 16/28 field\n",
      "13/47 trial, CA1, 17/28 field\n",
      "13/47 trial, CA1, 18/28 field\n",
      "13/47 trial, CA1, 19/28 field\n",
      "13/47 trial, CA1, 20/28 field\n",
      "13/47 trial, CA1, 21/28 field\n",
      "13/47 trial, CA1, 22/28 field\n"
     ]
    },
    {
     "name": "stderr",
     "output_type": "stream",
     "text": [
      "/home/yiu/projects/hippocampus/common/comput_utils.py:1372: UserWarning: Shuffling window is smaller than the spike train! Using window size = range/5 instead.\n",
      "  warnings.warn(\"Shuffling window is smaller than the spike train! Using window size = range/5 instead.\")\n"
     ]
    },
    {
     "name": "stdout",
     "output_type": "stream",
     "text": [
      "13/47 trial, CA1, 23/28 field\n",
      "13/47 trial, CA1, 24/28 field\n",
      "13/47 trial, CA1, 25/28 field\n",
      "13/47 trial, CA1, 26/28 field\n",
      "13/47 trial, CA1, 27/28 field\n"
     ]
    },
    {
     "name": "stderr",
     "output_type": "stream",
     "text": [
      "/home/yiu/projects/hippocampus/common/comput_utils.py:1372: UserWarning: Shuffling window is smaller than the spike train! Using window size = range/5 instead.\n",
      "  warnings.warn(\"Shuffling window is smaller than the spike train! Using window size = range/5 instead.\")\n"
     ]
    },
    {
     "name": "stdout",
     "output_type": "stream",
     "text": [
      "14/47 trial, CA1, 0/80 field\n"
     ]
    },
    {
     "name": "stderr",
     "output_type": "stream",
     "text": [
      "/home/yiu/projects/hippocampus/common/comput_utils.py:1372: UserWarning: Shuffling window is smaller than the spike train! Using window size = range/5 instead.\n",
      "  warnings.warn(\"Shuffling window is smaller than the spike train! Using window size = range/5 instead.\")\n",
      "/home/yiu/projects/hippocampus/common/comput_utils.py:1217: RuntimeWarning: Mean of empty slice\n",
      "  errd = np.nanmean(directionality - dtmp_norm) ** 2\n"
     ]
    },
    {
     "name": "stdout",
     "output_type": "stream",
     "text": [
      "14/47 trial, CA1, 1/80 field\n",
      "14/47 trial, CA1, 2/80 field\n",
      "14/47 trial, CA1, 3/80 field\n",
      "14/47 trial, CA1, 4/80 field\n",
      "14/47 trial, CA1, 5/80 field\n",
      "14/47 trial, CA1, 6/80 field\n",
      "14/47 trial, CA1, 7/80 field\n",
      "14/47 trial, CA1, 8/80 field\n",
      "14/47 trial, CA1, 9/80 field\n",
      "14/47 trial, CA1, 10/80 field\n",
      "14/47 trial, CA1, 11/80 field\n",
      "14/47 trial, CA1, 12/80 field\n",
      "14/47 trial, CA1, 13/80 field\n",
      "14/47 trial, CA1, 14/80 field\n",
      "14/47 trial, CA1, 15/80 field\n",
      "14/47 trial, CA1, 16/80 field\n",
      "14/47 trial, CA1, 17/80 field\n",
      "14/47 trial, CA1, 18/80 field\n",
      "14/47 trial, CA1, 19/80 field\n",
      "14/47 trial, CA1, 20/80 field\n",
      "14/47 trial, CA1, 21/80 field\n",
      "14/47 trial, CA1, 22/80 field\n",
      "14/47 trial, CA1, 23/80 field\n",
      "14/47 trial, CA1, 24/80 field\n",
      "14/47 trial, CA1, 25/80 field\n",
      "14/47 trial, CA1, 26/80 field\n",
      "14/47 trial, CA1, 27/80 field\n",
      "14/47 trial, CA1, 28/80 field\n",
      "14/47 trial, CA1, 29/80 field\n"
     ]
    },
    {
     "name": "stderr",
     "output_type": "stream",
     "text": [
      "/home/yiu/projects/hippocampus/common/comput_utils.py:1372: UserWarning: Shuffling window is smaller than the spike train! Using window size = range/5 instead.\n",
      "  warnings.warn(\"Shuffling window is smaller than the spike train! Using window size = range/5 instead.\")\n"
     ]
    },
    {
     "name": "stdout",
     "output_type": "stream",
     "text": [
      "14/47 trial, CA1, 30/80 field\n",
      "14/47 trial, CA1, 31/80 field\n",
      "14/47 trial, CA1, 32/80 field\n",
      "14/47 trial, CA1, 33/80 field\n",
      "14/47 trial, CA1, 34/80 field\n",
      "14/47 trial, CA1, 35/80 field\n",
      "14/47 trial, CA1, 36/80 field\n",
      "14/47 trial, CA1, 37/80 field\n",
      "14/47 trial, CA1, 38/80 field\n",
      "14/47 trial, CA1, 39/80 field\n",
      "14/47 trial, CA1, 40/80 field\n",
      "14/47 trial, CA1, 41/80 field\n",
      "14/47 trial, CA1, 42/80 field\n",
      "14/47 trial, CA1, 43/80 field\n"
     ]
    },
    {
     "name": "stderr",
     "output_type": "stream",
     "text": [
      "/home/yiu/projects/hippocampus/common/comput_utils.py:1372: UserWarning: Shuffling window is smaller than the spike train! Using window size = range/5 instead.\n",
      "  warnings.warn(\"Shuffling window is smaller than the spike train! Using window size = range/5 instead.\")\n"
     ]
    },
    {
     "name": "stdout",
     "output_type": "stream",
     "text": [
      "14/47 trial, CA1, 44/80 field\n",
      "14/47 trial, CA1, 45/80 field\n",
      "14/47 trial, CA1, 46/80 field\n",
      "14/47 trial, CA1, 47/80 field\n",
      "14/47 trial, CA1, 48/80 field\n",
      "14/47 trial, CA1, 49/80 field\n",
      "14/47 trial, CA1, 50/80 field\n",
      "14/47 trial, CA1, 51/80 field\n",
      "14/47 trial, CA1, 52/80 field\n",
      "14/47 trial, CA1, 53/80 field\n",
      "14/47 trial, CA1, 54/80 field\n",
      "14/47 trial, CA1, 55/80 field\n",
      "14/47 trial, CA1, 56/80 field\n",
      "14/47 trial, CA1, 57/80 field\n",
      "14/47 trial, CA1, 58/80 field\n",
      "14/47 trial, CA1, 59/80 field\n",
      "14/47 trial, CA1, 60/80 field\n",
      "14/47 trial, CA1, 61/80 field\n",
      "14/47 trial, CA1, 62/80 field\n",
      "14/47 trial, CA1, 63/80 field\n",
      "14/47 trial, CA1, 64/80 field\n",
      "14/47 trial, CA1, 65/80 field\n",
      "14/47 trial, CA1, 66/80 field\n",
      "14/47 trial, CA1, 67/80 field\n",
      "14/47 trial, CA1, 68/80 field\n",
      "14/47 trial, CA1, 69/80 field\n",
      "14/47 trial, CA1, 70/80 field\n",
      "14/47 trial, CA1, 71/80 field\n",
      "14/47 trial, CA1, 72/80 field\n",
      "14/47 trial, CA1, 73/80 field\n",
      "14/47 trial, CA1, 74/80 field\n",
      "14/47 trial, CA1, 75/80 field\n",
      "14/47 trial, CA1, 76/80 field\n",
      "14/47 trial, CA1, 77/80 field\n",
      "14/47 trial, CA1, 78/80 field\n",
      "14/47 trial, CA1, 79/80 field\n",
      "14/47 trial, CA3, 0/80 field\n"
     ]
    },
    {
     "name": "stderr",
     "output_type": "stream",
     "text": [
      "/home/yiu/projects/hippocampus/common/comput_utils.py:1372: UserWarning: Shuffling window is smaller than the spike train! Using window size = range/5 instead.\n",
      "  warnings.warn(\"Shuffling window is smaller than the spike train! Using window size = range/5 instead.\")\n",
      "/home/yiu/projects/hippocampus/common/comput_utils.py:1217: RuntimeWarning: Mean of empty slice\n",
      "  errd = np.nanmean(directionality - dtmp_norm) ** 2\n"
     ]
    },
    {
     "name": "stdout",
     "output_type": "stream",
     "text": [
      "14/47 trial, CA3, 1/80 field\n",
      "14/47 trial, CA3, 2/80 field\n",
      "14/47 trial, CA3, 3/80 field\n",
      "14/47 trial, CA3, 4/80 field\n",
      "14/47 trial, CA3, 5/80 field\n",
      "14/47 trial, CA3, 6/80 field\n",
      "14/47 trial, CA3, 7/80 field\n",
      "14/47 trial, CA3, 8/80 field\n",
      "14/47 trial, CA3, 9/80 field\n",
      "14/47 trial, CA3, 10/80 field\n",
      "14/47 trial, CA3, 11/80 field\n",
      "14/47 trial, CA3, 12/80 field\n",
      "14/47 trial, CA3, 13/80 field\n",
      "14/47 trial, CA3, 14/80 field\n",
      "14/47 trial, CA3, 15/80 field\n",
      "14/47 trial, CA3, 16/80 field\n",
      "14/47 trial, CA3, 17/80 field\n",
      "14/47 trial, CA3, 18/80 field\n",
      "14/47 trial, CA3, 19/80 field\n",
      "14/47 trial, CA3, 20/80 field\n",
      "14/47 trial, CA3, 21/80 field\n",
      "14/47 trial, CA3, 22/80 field\n",
      "14/47 trial, CA3, 23/80 field\n",
      "14/47 trial, CA3, 24/80 field\n",
      "14/47 trial, CA3, 25/80 field\n",
      "14/47 trial, CA3, 26/80 field\n",
      "14/47 trial, CA3, 27/80 field\n",
      "14/47 trial, CA3, 28/80 field\n",
      "14/47 trial, CA3, 29/80 field\n"
     ]
    },
    {
     "name": "stderr",
     "output_type": "stream",
     "text": [
      "/home/yiu/projects/hippocampus/common/comput_utils.py:1372: UserWarning: Shuffling window is smaller than the spike train! Using window size = range/5 instead.\n",
      "  warnings.warn(\"Shuffling window is smaller than the spike train! Using window size = range/5 instead.\")\n"
     ]
    },
    {
     "name": "stdout",
     "output_type": "stream",
     "text": [
      "14/47 trial, CA3, 30/80 field\n",
      "14/47 trial, CA3, 31/80 field\n",
      "14/47 trial, CA3, 32/80 field\n",
      "14/47 trial, CA3, 33/80 field\n",
      "14/47 trial, CA3, 34/80 field\n",
      "14/47 trial, CA3, 35/80 field\n",
      "14/47 trial, CA3, 36/80 field\n",
      "14/47 trial, CA3, 37/80 field\n",
      "14/47 trial, CA3, 38/80 field\n",
      "14/47 trial, CA3, 39/80 field\n",
      "14/47 trial, CA3, 40/80 field\n",
      "14/47 trial, CA3, 41/80 field\n",
      "14/47 trial, CA3, 42/80 field\n",
      "14/47 trial, CA3, 43/80 field\n"
     ]
    },
    {
     "name": "stderr",
     "output_type": "stream",
     "text": [
      "/home/yiu/projects/hippocampus/common/comput_utils.py:1372: UserWarning: Shuffling window is smaller than the spike train! Using window size = range/5 instead.\n",
      "  warnings.warn(\"Shuffling window is smaller than the spike train! Using window size = range/5 instead.\")\n"
     ]
    },
    {
     "name": "stdout",
     "output_type": "stream",
     "text": [
      "14/47 trial, CA3, 44/80 field\n",
      "14/47 trial, CA3, 45/80 field\n",
      "14/47 trial, CA3, 46/80 field\n",
      "14/47 trial, CA3, 47/80 field\n",
      "14/47 trial, CA3, 48/80 field\n",
      "14/47 trial, CA3, 49/80 field\n",
      "14/47 trial, CA3, 50/80 field\n",
      "14/47 trial, CA3, 51/80 field\n",
      "14/47 trial, CA3, 52/80 field\n",
      "14/47 trial, CA3, 53/80 field\n",
      "14/47 trial, CA3, 54/80 field\n",
      "14/47 trial, CA3, 55/80 field\n",
      "14/47 trial, CA3, 56/80 field\n",
      "14/47 trial, CA3, 57/80 field\n",
      "14/47 trial, CA3, 58/80 field\n",
      "14/47 trial, CA3, 59/80 field\n",
      "14/47 trial, CA3, 60/80 field\n",
      "14/47 trial, CA3, 61/80 field\n",
      "14/47 trial, CA3, 62/80 field\n",
      "14/47 trial, CA3, 63/80 field\n",
      "14/47 trial, CA3, 64/80 field\n",
      "14/47 trial, CA3, 65/80 field\n",
      "14/47 trial, CA3, 66/80 field\n",
      "14/47 trial, CA3, 67/80 field\n",
      "14/47 trial, CA3, 68/80 field\n",
      "14/47 trial, CA3, 69/80 field\n",
      "14/47 trial, CA3, 70/80 field\n",
      "14/47 trial, CA3, 71/80 field\n",
      "14/47 trial, CA3, 72/80 field\n",
      "14/47 trial, CA3, 73/80 field\n",
      "14/47 trial, CA3, 74/80 field\n",
      "14/47 trial, CA3, 75/80 field\n",
      "14/47 trial, CA3, 76/80 field\n",
      "14/47 trial, CA3, 77/80 field\n",
      "14/47 trial, CA3, 78/80 field\n",
      "14/47 trial, CA3, 79/80 field\n",
      "15/47 trial, CA1, 0/21 field\n",
      "15/47 trial, CA1, 1/21 field\n",
      "15/47 trial, CA1, 2/21 field\n",
      "15/47 trial, CA1, 3/21 field\n",
      "15/47 trial, CA1, 4/21 field\n",
      "15/47 trial, CA1, 5/21 field\n",
      "15/47 trial, CA1, 6/21 field\n",
      "15/47 trial, CA1, 7/21 field\n",
      "15/47 trial, CA1, 8/21 field\n",
      "15/47 trial, CA1, 9/21 field\n",
      "15/47 trial, CA1, 10/21 field\n",
      "15/47 trial, CA1, 11/21 field\n",
      "15/47 trial, CA1, 12/21 field\n",
      "15/47 trial, CA1, 13/21 field\n",
      "15/47 trial, CA1, 14/21 field\n",
      "15/47 trial, CA1, 15/21 field\n",
      "15/47 trial, CA1, 16/21 field\n",
      "15/47 trial, CA1, 17/21 field\n"
     ]
    },
    {
     "name": "stderr",
     "output_type": "stream",
     "text": [
      "/home/yiu/projects/hippocampus/common/comput_utils.py:1372: UserWarning: Shuffling window is smaller than the spike train! Using window size = range/5 instead.\n",
      "  warnings.warn(\"Shuffling window is smaller than the spike train! Using window size = range/5 instead.\")\n"
     ]
    },
    {
     "name": "stdout",
     "output_type": "stream",
     "text": [
      "15/47 trial, CA1, 18/21 field\n",
      "15/47 trial, CA1, 19/21 field\n",
      "15/47 trial, CA1, 20/21 field\n",
      "15/47 trial, CA3, 0/21 field\n",
      "15/47 trial, CA3, 1/21 field\n",
      "15/47 trial, CA3, 2/21 field\n",
      "15/47 trial, CA3, 3/21 field\n",
      "15/47 trial, CA3, 4/21 field\n",
      "15/47 trial, CA3, 5/21 field\n",
      "15/47 trial, CA3, 6/21 field\n",
      "15/47 trial, CA3, 7/21 field\n",
      "15/47 trial, CA3, 8/21 field\n",
      "15/47 trial, CA3, 9/21 field\n",
      "15/47 trial, CA3, 10/21 field\n",
      "15/47 trial, CA3, 11/21 field\n",
      "15/47 trial, CA3, 12/21 field\n",
      "15/47 trial, CA3, 13/21 field\n",
      "15/47 trial, CA3, 14/21 field\n",
      "15/47 trial, CA3, 15/21 field\n",
      "15/47 trial, CA3, 16/21 field\n",
      "15/47 trial, CA3, 17/21 field\n"
     ]
    },
    {
     "name": "stderr",
     "output_type": "stream",
     "text": [
      "/home/yiu/projects/hippocampus/common/comput_utils.py:1372: UserWarning: Shuffling window is smaller than the spike train! Using window size = range/5 instead.\n",
      "  warnings.warn(\"Shuffling window is smaller than the spike train! Using window size = range/5 instead.\")\n"
     ]
    },
    {
     "name": "stdout",
     "output_type": "stream",
     "text": [
      "15/47 trial, CA3, 18/21 field\n",
      "15/47 trial, CA3, 19/21 field\n",
      "15/47 trial, CA3, 20/21 field\n",
      "16/47 trial, CA1, 0/120 field\n",
      "16/47 trial, CA1, 1/120 field\n",
      "16/47 trial, CA1, 2/120 field\n",
      "16/47 trial, CA1, 3/120 field\n",
      "16/47 trial, CA1, 4/120 field\n",
      "16/47 trial, CA1, 5/120 field\n",
      "16/47 trial, CA1, 6/120 field\n",
      "16/47 trial, CA1, 7/120 field\n",
      "16/47 trial, CA1, 8/120 field\n",
      "16/47 trial, CA1, 9/120 field\n",
      "16/47 trial, CA1, 10/120 field\n",
      "16/47 trial, CA1, 11/120 field\n",
      "16/47 trial, CA1, 12/120 field\n",
      "16/47 trial, CA1, 13/120 field\n",
      "16/47 trial, CA1, 14/120 field\n",
      "16/47 trial, CA1, 15/120 field\n",
      "16/47 trial, CA1, 16/120 field\n",
      "16/47 trial, CA1, 17/120 field\n",
      "16/47 trial, CA1, 18/120 field\n",
      "16/47 trial, CA1, 19/120 field\n",
      "16/47 trial, CA1, 20/120 field\n",
      "16/47 trial, CA1, 21/120 field\n",
      "16/47 trial, CA1, 22/120 field\n",
      "16/47 trial, CA1, 23/120 field\n",
      "16/47 trial, CA1, 24/120 field\n",
      "16/47 trial, CA1, 25/120 field\n"
     ]
    },
    {
     "name": "stderr",
     "output_type": "stream",
     "text": [
      "/home/yiu/projects/hippocampus/common/comput_utils.py:1372: UserWarning: Shuffling window is smaller than the spike train! Using window size = range/5 instead.\n",
      "  warnings.warn(\"Shuffling window is smaller than the spike train! Using window size = range/5 instead.\")\n"
     ]
    },
    {
     "name": "stdout",
     "output_type": "stream",
     "text": [
      "16/47 trial, CA1, 26/120 field\n"
     ]
    },
    {
     "name": "stderr",
     "output_type": "stream",
     "text": [
      "/home/yiu/projects/hippocampus/common/comput_utils.py:1372: UserWarning: Shuffling window is smaller than the spike train! Using window size = range/5 instead.\n",
      "  warnings.warn(\"Shuffling window is smaller than the spike train! Using window size = range/5 instead.\")\n"
     ]
    },
    {
     "name": "stdout",
     "output_type": "stream",
     "text": [
      "16/47 trial, CA1, 27/120 field\n",
      "16/47 trial, CA1, 28/120 field\n"
     ]
    },
    {
     "name": "stderr",
     "output_type": "stream",
     "text": [
      "/home/yiu/projects/hippocampus/common/comput_utils.py:1372: UserWarning: Shuffling window is smaller than the spike train! Using window size = range/5 instead.\n",
      "  warnings.warn(\"Shuffling window is smaller than the spike train! Using window size = range/5 instead.\")\n",
      "/home/yiu/projects/hippocampus/common/comput_utils.py:1217: RuntimeWarning: Mean of empty slice\n",
      "  errd = np.nanmean(directionality - dtmp_norm) ** 2\n"
     ]
    },
    {
     "name": "stdout",
     "output_type": "stream",
     "text": [
      "16/47 trial, CA1, 29/120 field\n",
      "16/47 trial, CA1, 30/120 field\n",
      "16/47 trial, CA1, 31/120 field\n",
      "16/47 trial, CA1, 32/120 field\n",
      "16/47 trial, CA1, 33/120 field\n",
      "16/47 trial, CA1, 34/120 field\n",
      "16/47 trial, CA1, 35/120 field\n",
      "16/47 trial, CA1, 36/120 field\n",
      "16/47 trial, CA1, 37/120 field\n",
      "16/47 trial, CA1, 38/120 field\n",
      "16/47 trial, CA1, 39/120 field\n",
      "16/47 trial, CA1, 40/120 field\n",
      "16/47 trial, CA1, 41/120 field\n",
      "16/47 trial, CA1, 42/120 field\n",
      "16/47 trial, CA1, 43/120 field\n",
      "16/47 trial, CA1, 44/120 field\n",
      "16/47 trial, CA1, 45/120 field\n",
      "16/47 trial, CA1, 46/120 field\n",
      "16/47 trial, CA1, 47/120 field\n",
      "16/47 trial, CA1, 48/120 field\n"
     ]
    },
    {
     "name": "stderr",
     "output_type": "stream",
     "text": [
      "/home/yiu/projects/hippocampus/common/comput_utils.py:1372: UserWarning: Shuffling window is smaller than the spike train! Using window size = range/5 instead.\n",
      "  warnings.warn(\"Shuffling window is smaller than the spike train! Using window size = range/5 instead.\")\n"
     ]
    },
    {
     "name": "stdout",
     "output_type": "stream",
     "text": [
      "16/47 trial, CA1, 49/120 field\n",
      "16/47 trial, CA1, 50/120 field\n",
      "16/47 trial, CA1, 51/120 field\n",
      "16/47 trial, CA1, 52/120 field\n",
      "16/47 trial, CA1, 53/120 field\n",
      "16/47 trial, CA1, 54/120 field\n",
      "16/47 trial, CA1, 55/120 field\n",
      "16/47 trial, CA1, 56/120 field\n",
      "16/47 trial, CA1, 57/120 field\n",
      "16/47 trial, CA1, 58/120 field\n",
      "16/47 trial, CA1, 59/120 field\n",
      "16/47 trial, CA1, 60/120 field\n",
      "16/47 trial, CA1, 61/120 field\n",
      "16/47 trial, CA1, 62/120 field\n",
      "16/47 trial, CA1, 63/120 field\n",
      "16/47 trial, CA1, 64/120 field\n",
      "16/47 trial, CA1, 65/120 field\n",
      "16/47 trial, CA1, 66/120 field\n",
      "16/47 trial, CA1, 67/120 field\n",
      "16/47 trial, CA1, 68/120 field\n",
      "16/47 trial, CA1, 69/120 field\n",
      "16/47 trial, CA1, 70/120 field\n",
      "16/47 trial, CA1, 71/120 field\n",
      "16/47 trial, CA1, 72/120 field\n",
      "16/47 trial, CA1, 73/120 field\n",
      "16/47 trial, CA1, 74/120 field\n",
      "16/47 trial, CA1, 75/120 field\n",
      "16/47 trial, CA1, 76/120 field\n",
      "16/47 trial, CA1, 77/120 field\n",
      "16/47 trial, CA1, 78/120 field\n",
      "16/47 trial, CA1, 79/120 field\n",
      "16/47 trial, CA1, 80/120 field\n",
      "16/47 trial, CA1, 81/120 field\n",
      "16/47 trial, CA1, 82/120 field\n",
      "16/47 trial, CA1, 83/120 field\n",
      "16/47 trial, CA1, 84/120 field\n",
      "16/47 trial, CA1, 85/120 field\n",
      "16/47 trial, CA1, 86/120 field\n",
      "16/47 trial, CA1, 87/120 field\n",
      "16/47 trial, CA1, 88/120 field\n",
      "16/47 trial, CA1, 89/120 field\n",
      "16/47 trial, CA1, 90/120 field\n",
      "16/47 trial, CA1, 91/120 field\n",
      "16/47 trial, CA1, 92/120 field\n",
      "16/47 trial, CA1, 93/120 field\n",
      "16/47 trial, CA1, 94/120 field\n",
      "16/47 trial, CA1, 95/120 field\n",
      "16/47 trial, CA1, 96/120 field\n",
      "16/47 trial, CA1, 97/120 field\n",
      "16/47 trial, CA1, 98/120 field\n",
      "16/47 trial, CA1, 99/120 field\n",
      "16/47 trial, CA1, 100/120 field\n",
      "16/47 trial, CA1, 101/120 field\n",
      "16/47 trial, CA1, 102/120 field\n",
      "16/47 trial, CA1, 103/120 field\n",
      "16/47 trial, CA1, 104/120 field\n",
      "16/47 trial, CA1, 105/120 field\n",
      "16/47 trial, CA1, 106/120 field\n",
      "16/47 trial, CA1, 107/120 field\n",
      "16/47 trial, CA1, 108/120 field\n",
      "16/47 trial, CA1, 109/120 field\n"
     ]
    },
    {
     "name": "stderr",
     "output_type": "stream",
     "text": [
      "/home/yiu/projects/hippocampus/common/comput_utils.py:1372: UserWarning: Shuffling window is smaller than the spike train! Using window size = range/5 instead.\n",
      "  warnings.warn(\"Shuffling window is smaller than the spike train! Using window size = range/5 instead.\")\n",
      "/home/yiu/projects/hippocampus/common/comput_utils.py:1217: RuntimeWarning: Mean of empty slice\n",
      "  errd = np.nanmean(directionality - dtmp_norm) ** 2\n",
      "/home/yiu/projects/hippocampus/common/comput_utils.py:1218: RuntimeWarning: Mean of empty slice\n",
      "  errp = np.nanmean(positionality - ptmp_norm) ** 2\n"
     ]
    },
    {
     "name": "stdout",
     "output_type": "stream",
     "text": [
      "16/47 trial, CA1, 110/120 field\n",
      "16/47 trial, CA1, 111/120 field\n",
      "16/47 trial, CA1, 112/120 field\n",
      "16/47 trial, CA1, 113/120 field\n",
      "16/47 trial, CA1, 114/120 field\n",
      "16/47 trial, CA1, 115/120 field\n",
      "16/47 trial, CA1, 116/120 field\n",
      "16/47 trial, CA1, 117/120 field\n",
      "16/47 trial, CA1, 118/120 field\n",
      "16/47 trial, CA1, 119/120 field\n",
      "16/47 trial, CA3, 0/120 field\n",
      "16/47 trial, CA3, 1/120 field\n",
      "16/47 trial, CA3, 2/120 field\n",
      "16/47 trial, CA3, 3/120 field\n",
      "16/47 trial, CA3, 4/120 field\n",
      "16/47 trial, CA3, 5/120 field\n",
      "16/47 trial, CA3, 6/120 field\n",
      "16/47 trial, CA3, 7/120 field\n",
      "16/47 trial, CA3, 8/120 field\n",
      "16/47 trial, CA3, 9/120 field\n",
      "16/47 trial, CA3, 10/120 field\n",
      "16/47 trial, CA3, 11/120 field\n",
      "16/47 trial, CA3, 12/120 field\n",
      "16/47 trial, CA3, 13/120 field\n",
      "16/47 trial, CA3, 14/120 field\n",
      "16/47 trial, CA3, 15/120 field\n",
      "16/47 trial, CA3, 16/120 field\n",
      "16/47 trial, CA3, 17/120 field\n",
      "16/47 trial, CA3, 18/120 field\n",
      "16/47 trial, CA3, 19/120 field\n",
      "16/47 trial, CA3, 20/120 field\n",
      "16/47 trial, CA3, 21/120 field\n",
      "16/47 trial, CA3, 22/120 field\n",
      "16/47 trial, CA3, 23/120 field\n",
      "16/47 trial, CA3, 24/120 field\n",
      "16/47 trial, CA3, 25/120 field\n"
     ]
    },
    {
     "name": "stderr",
     "output_type": "stream",
     "text": [
      "/home/yiu/projects/hippocampus/common/comput_utils.py:1372: UserWarning: Shuffling window is smaller than the spike train! Using window size = range/5 instead.\n",
      "  warnings.warn(\"Shuffling window is smaller than the spike train! Using window size = range/5 instead.\")\n"
     ]
    },
    {
     "name": "stdout",
     "output_type": "stream",
     "text": [
      "16/47 trial, CA3, 26/120 field\n"
     ]
    },
    {
     "name": "stderr",
     "output_type": "stream",
     "text": [
      "/home/yiu/projects/hippocampus/common/comput_utils.py:1372: UserWarning: Shuffling window is smaller than the spike train! Using window size = range/5 instead.\n",
      "  warnings.warn(\"Shuffling window is smaller than the spike train! Using window size = range/5 instead.\")\n"
     ]
    },
    {
     "name": "stdout",
     "output_type": "stream",
     "text": [
      "16/47 trial, CA3, 27/120 field\n",
      "16/47 trial, CA3, 28/120 field\n"
     ]
    },
    {
     "name": "stderr",
     "output_type": "stream",
     "text": [
      "/home/yiu/projects/hippocampus/common/comput_utils.py:1372: UserWarning: Shuffling window is smaller than the spike train! Using window size = range/5 instead.\n",
      "  warnings.warn(\"Shuffling window is smaller than the spike train! Using window size = range/5 instead.\")\n",
      "/home/yiu/projects/hippocampus/common/comput_utils.py:1217: RuntimeWarning: Mean of empty slice\n",
      "  errd = np.nanmean(directionality - dtmp_norm) ** 2\n"
     ]
    },
    {
     "name": "stdout",
     "output_type": "stream",
     "text": [
      "16/47 trial, CA3, 29/120 field\n",
      "16/47 trial, CA3, 30/120 field\n",
      "16/47 trial, CA3, 31/120 field\n",
      "16/47 trial, CA3, 32/120 field\n",
      "16/47 trial, CA3, 33/120 field\n",
      "16/47 trial, CA3, 34/120 field\n",
      "16/47 trial, CA3, 35/120 field\n",
      "16/47 trial, CA3, 36/120 field\n",
      "16/47 trial, CA3, 37/120 field\n",
      "16/47 trial, CA3, 38/120 field\n",
      "16/47 trial, CA3, 39/120 field\n",
      "16/47 trial, CA3, 40/120 field\n",
      "16/47 trial, CA3, 41/120 field\n",
      "16/47 trial, CA3, 42/120 field\n",
      "16/47 trial, CA3, 43/120 field\n",
      "16/47 trial, CA3, 44/120 field\n",
      "16/47 trial, CA3, 45/120 field\n",
      "16/47 trial, CA3, 46/120 field\n",
      "16/47 trial, CA3, 47/120 field\n",
      "16/47 trial, CA3, 48/120 field\n"
     ]
    },
    {
     "name": "stderr",
     "output_type": "stream",
     "text": [
      "/home/yiu/projects/hippocampus/common/comput_utils.py:1372: UserWarning: Shuffling window is smaller than the spike train! Using window size = range/5 instead.\n",
      "  warnings.warn(\"Shuffling window is smaller than the spike train! Using window size = range/5 instead.\")\n"
     ]
    },
    {
     "name": "stdout",
     "output_type": "stream",
     "text": [
      "16/47 trial, CA3, 49/120 field\n",
      "16/47 trial, CA3, 50/120 field\n",
      "16/47 trial, CA3, 51/120 field\n",
      "16/47 trial, CA3, 52/120 field\n",
      "16/47 trial, CA3, 53/120 field\n",
      "16/47 trial, CA3, 54/120 field\n",
      "16/47 trial, CA3, 55/120 field\n",
      "16/47 trial, CA3, 56/120 field\n",
      "16/47 trial, CA3, 57/120 field\n",
      "16/47 trial, CA3, 58/120 field\n",
      "16/47 trial, CA3, 59/120 field\n",
      "16/47 trial, CA3, 60/120 field\n",
      "16/47 trial, CA3, 61/120 field\n",
      "16/47 trial, CA3, 62/120 field\n",
      "16/47 trial, CA3, 63/120 field\n",
      "16/47 trial, CA3, 64/120 field\n",
      "16/47 trial, CA3, 65/120 field\n",
      "16/47 trial, CA3, 66/120 field\n",
      "16/47 trial, CA3, 67/120 field\n",
      "16/47 trial, CA3, 68/120 field\n",
      "16/47 trial, CA3, 69/120 field\n",
      "16/47 trial, CA3, 70/120 field\n",
      "16/47 trial, CA3, 71/120 field\n",
      "16/47 trial, CA3, 72/120 field\n",
      "16/47 trial, CA3, 73/120 field\n",
      "16/47 trial, CA3, 74/120 field\n",
      "16/47 trial, CA3, 75/120 field\n",
      "16/47 trial, CA3, 76/120 field\n",
      "16/47 trial, CA3, 77/120 field\n",
      "16/47 trial, CA3, 78/120 field\n",
      "16/47 trial, CA3, 79/120 field\n",
      "16/47 trial, CA3, 80/120 field\n",
      "16/47 trial, CA3, 81/120 field\n",
      "16/47 trial, CA3, 82/120 field\n",
      "16/47 trial, CA3, 83/120 field\n",
      "16/47 trial, CA3, 84/120 field\n",
      "16/47 trial, CA3, 85/120 field\n",
      "16/47 trial, CA3, 86/120 field\n",
      "16/47 trial, CA3, 87/120 field\n",
      "16/47 trial, CA3, 88/120 field\n",
      "16/47 trial, CA3, 89/120 field\n",
      "16/47 trial, CA3, 90/120 field\n",
      "16/47 trial, CA3, 91/120 field\n",
      "16/47 trial, CA3, 92/120 field\n",
      "16/47 trial, CA3, 93/120 field\n",
      "16/47 trial, CA3, 94/120 field\n",
      "16/47 trial, CA3, 95/120 field\n",
      "16/47 trial, CA3, 96/120 field\n",
      "16/47 trial, CA3, 97/120 field\n",
      "16/47 trial, CA3, 98/120 field\n",
      "16/47 trial, CA3, 99/120 field\n",
      "16/47 trial, CA3, 100/120 field\n",
      "16/47 trial, CA3, 101/120 field\n",
      "16/47 trial, CA3, 102/120 field\n",
      "16/47 trial, CA3, 103/120 field\n",
      "16/47 trial, CA3, 104/120 field\n",
      "16/47 trial, CA3, 105/120 field\n",
      "16/47 trial, CA3, 106/120 field\n",
      "16/47 trial, CA3, 107/120 field\n",
      "16/47 trial, CA3, 108/120 field\n",
      "16/47 trial, CA3, 109/120 field\n"
     ]
    },
    {
     "name": "stderr",
     "output_type": "stream",
     "text": [
      "/home/yiu/projects/hippocampus/common/comput_utils.py:1372: UserWarning: Shuffling window is smaller than the spike train! Using window size = range/5 instead.\n",
      "  warnings.warn(\"Shuffling window is smaller than the spike train! Using window size = range/5 instead.\")\n",
      "/home/yiu/projects/hippocampus/common/comput_utils.py:1217: RuntimeWarning: Mean of empty slice\n",
      "  errd = np.nanmean(directionality - dtmp_norm) ** 2\n",
      "/home/yiu/projects/hippocampus/common/comput_utils.py:1218: RuntimeWarning: Mean of empty slice\n",
      "  errp = np.nanmean(positionality - ptmp_norm) ** 2\n"
     ]
    },
    {
     "name": "stdout",
     "output_type": "stream",
     "text": [
      "16/47 trial, CA3, 110/120 field\n",
      "16/47 trial, CA3, 111/120 field\n",
      "16/47 trial, CA3, 112/120 field\n",
      "16/47 trial, CA3, 113/120 field\n",
      "16/47 trial, CA3, 114/120 field\n",
      "16/47 trial, CA3, 115/120 field\n",
      "16/47 trial, CA3, 116/120 field\n",
      "16/47 trial, CA3, 117/120 field\n",
      "16/47 trial, CA3, 118/120 field\n",
      "16/47 trial, CA3, 119/120 field\n",
      "17/47 trial, CA1, 0/90 field\n",
      "17/47 trial, CA1, 1/90 field\n",
      "17/47 trial, CA1, 2/90 field\n",
      "17/47 trial, CA1, 3/90 field\n",
      "17/47 trial, CA1, 4/90 field\n",
      "17/47 trial, CA1, 5/90 field\n",
      "17/47 trial, CA1, 6/90 field\n",
      "17/47 trial, CA1, 7/90 field\n",
      "17/47 trial, CA1, 8/90 field\n",
      "17/47 trial, CA1, 9/90 field\n",
      "17/47 trial, CA1, 10/90 field\n",
      "17/47 trial, CA1, 11/90 field\n",
      "17/47 trial, CA1, 12/90 field\n",
      "17/47 trial, CA1, 13/90 field\n",
      "17/47 trial, CA1, 14/90 field\n",
      "17/47 trial, CA1, 15/90 field\n",
      "17/47 trial, CA1, 16/90 field\n",
      "17/47 trial, CA1, 17/90 field\n",
      "17/47 trial, CA1, 18/90 field\n",
      "17/47 trial, CA1, 19/90 field\n",
      "17/47 trial, CA1, 20/90 field\n",
      "17/47 trial, CA1, 21/90 field\n",
      "17/47 trial, CA1, 22/90 field\n",
      "17/47 trial, CA1, 23/90 field\n"
     ]
    },
    {
     "name": "stderr",
     "output_type": "stream",
     "text": [
      "/home/yiu/projects/hippocampus/common/comput_utils.py:1372: UserWarning: Shuffling window is smaller than the spike train! Using window size = range/5 instead.\n",
      "  warnings.warn(\"Shuffling window is smaller than the spike train! Using window size = range/5 instead.\")\n"
     ]
    },
    {
     "name": "stdout",
     "output_type": "stream",
     "text": [
      "17/47 trial, CA1, 24/90 field\n",
      "17/47 trial, CA1, 25/90 field\n",
      "17/47 trial, CA1, 26/90 field\n",
      "17/47 trial, CA1, 27/90 field\n",
      "17/47 trial, CA1, 28/90 field\n",
      "17/47 trial, CA1, 29/90 field\n",
      "17/47 trial, CA1, 30/90 field\n",
      "17/47 trial, CA1, 31/90 field\n",
      "17/47 trial, CA1, 32/90 field\n",
      "17/47 trial, CA1, 33/90 field\n",
      "17/47 trial, CA1, 34/90 field\n",
      "17/47 trial, CA1, 35/90 field\n",
      "17/47 trial, CA1, 36/90 field\n",
      "17/47 trial, CA1, 37/90 field\n",
      "17/47 trial, CA1, 38/90 field\n",
      "17/47 trial, CA1, 39/90 field\n",
      "17/47 trial, CA1, 40/90 field\n",
      "17/47 trial, CA1, 41/90 field\n",
      "17/47 trial, CA1, 42/90 field\n",
      "17/47 trial, CA1, 43/90 field\n",
      "17/47 trial, CA1, 44/90 field\n",
      "17/47 trial, CA1, 45/90 field\n",
      "17/47 trial, CA1, 46/90 field\n",
      "17/47 trial, CA1, 47/90 field\n",
      "17/47 trial, CA1, 48/90 field\n",
      "17/47 trial, CA1, 49/90 field\n",
      "17/47 trial, CA1, 50/90 field\n",
      "17/47 trial, CA1, 51/90 field\n",
      "17/47 trial, CA1, 52/90 field\n",
      "17/47 trial, CA1, 53/90 field\n"
     ]
    },
    {
     "name": "stderr",
     "output_type": "stream",
     "text": [
      "/home/yiu/projects/hippocampus/common/comput_utils.py:1372: UserWarning: Shuffling window is smaller than the spike train! Using window size = range/5 instead.\n",
      "  warnings.warn(\"Shuffling window is smaller than the spike train! Using window size = range/5 instead.\")\n"
     ]
    },
    {
     "name": "stdout",
     "output_type": "stream",
     "text": [
      "17/47 trial, CA1, 54/90 field\n",
      "17/47 trial, CA1, 55/90 field\n",
      "17/47 trial, CA1, 56/90 field\n",
      "17/47 trial, CA1, 57/90 field\n",
      "17/47 trial, CA1, 58/90 field\n",
      "17/47 trial, CA1, 59/90 field\n",
      "17/47 trial, CA1, 60/90 field\n",
      "17/47 trial, CA1, 61/90 field\n",
      "17/47 trial, CA1, 62/90 field\n",
      "17/47 trial, CA1, 63/90 field\n",
      "17/47 trial, CA1, 64/90 field\n",
      "17/47 trial, CA1, 65/90 field\n",
      "17/47 trial, CA1, 66/90 field\n",
      "17/47 trial, CA1, 67/90 field\n",
      "17/47 trial, CA1, 68/90 field\n",
      "17/47 trial, CA1, 69/90 field\n",
      "17/47 trial, CA1, 70/90 field\n",
      "17/47 trial, CA1, 71/90 field\n",
      "17/47 trial, CA1, 72/90 field\n",
      "17/47 trial, CA1, 73/90 field\n",
      "17/47 trial, CA1, 74/90 field\n"
     ]
    },
    {
     "name": "stderr",
     "output_type": "stream",
     "text": [
      "/home/yiu/projects/hippocampus/common/comput_utils.py:1372: UserWarning: Shuffling window is smaller than the spike train! Using window size = range/5 instead.\n",
      "  warnings.warn(\"Shuffling window is smaller than the spike train! Using window size = range/5 instead.\")\n"
     ]
    },
    {
     "name": "stdout",
     "output_type": "stream",
     "text": [
      "17/47 trial, CA1, 75/90 field\n",
      "17/47 trial, CA1, 76/90 field\n",
      "17/47 trial, CA1, 77/90 field\n",
      "17/47 trial, CA1, 78/90 field\n",
      "17/47 trial, CA1, 79/90 field\n"
     ]
    },
    {
     "name": "stderr",
     "output_type": "stream",
     "text": [
      "/home/yiu/projects/hippocampus/common/comput_utils.py:1372: UserWarning: Shuffling window is smaller than the spike train! Using window size = range/5 instead.\n",
      "  warnings.warn(\"Shuffling window is smaller than the spike train! Using window size = range/5 instead.\")\n"
     ]
    },
    {
     "name": "stdout",
     "output_type": "stream",
     "text": [
      "17/47 trial, CA1, 80/90 field\n",
      "17/47 trial, CA1, 81/90 field\n",
      "17/47 trial, CA1, 82/90 field\n",
      "17/47 trial, CA1, 83/90 field\n",
      "17/47 trial, CA1, 84/90 field\n",
      "17/47 trial, CA1, 85/90 field\n",
      "17/47 trial, CA1, 86/90 field\n",
      "17/47 trial, CA1, 87/90 field\n",
      "17/47 trial, CA1, 88/90 field\n",
      "17/47 trial, CA1, 89/90 field\n",
      "17/47 trial, CA3, 0/90 field\n",
      "17/47 trial, CA3, 1/90 field\n",
      "17/47 trial, CA3, 2/90 field\n",
      "17/47 trial, CA3, 3/90 field\n",
      "17/47 trial, CA3, 4/90 field\n",
      "17/47 trial, CA3, 5/90 field\n",
      "17/47 trial, CA3, 6/90 field\n",
      "17/47 trial, CA3, 7/90 field\n",
      "17/47 trial, CA3, 8/90 field\n",
      "17/47 trial, CA3, 9/90 field\n",
      "17/47 trial, CA3, 10/90 field\n",
      "17/47 trial, CA3, 11/90 field\n",
      "17/47 trial, CA3, 12/90 field\n",
      "17/47 trial, CA3, 13/90 field\n",
      "17/47 trial, CA3, 14/90 field\n",
      "17/47 trial, CA3, 15/90 field\n",
      "17/47 trial, CA3, 16/90 field\n",
      "17/47 trial, CA3, 17/90 field\n",
      "17/47 trial, CA3, 18/90 field\n",
      "17/47 trial, CA3, 19/90 field\n",
      "17/47 trial, CA3, 20/90 field\n",
      "17/47 trial, CA3, 21/90 field\n",
      "17/47 trial, CA3, 22/90 field\n",
      "17/47 trial, CA3, 23/90 field\n"
     ]
    },
    {
     "name": "stderr",
     "output_type": "stream",
     "text": [
      "/home/yiu/projects/hippocampus/common/comput_utils.py:1372: UserWarning: Shuffling window is smaller than the spike train! Using window size = range/5 instead.\n",
      "  warnings.warn(\"Shuffling window is smaller than the spike train! Using window size = range/5 instead.\")\n"
     ]
    },
    {
     "name": "stdout",
     "output_type": "stream",
     "text": [
      "17/47 trial, CA3, 24/90 field\n",
      "17/47 trial, CA3, 25/90 field\n",
      "17/47 trial, CA3, 26/90 field\n",
      "17/47 trial, CA3, 27/90 field\n",
      "17/47 trial, CA3, 28/90 field\n",
      "17/47 trial, CA3, 29/90 field\n",
      "17/47 trial, CA3, 30/90 field\n",
      "17/47 trial, CA3, 31/90 field\n",
      "17/47 trial, CA3, 32/90 field\n",
      "17/47 trial, CA3, 33/90 field\n",
      "17/47 trial, CA3, 34/90 field\n",
      "17/47 trial, CA3, 35/90 field\n",
      "17/47 trial, CA3, 36/90 field\n",
      "17/47 trial, CA3, 37/90 field\n",
      "17/47 trial, CA3, 38/90 field\n",
      "17/47 trial, CA3, 39/90 field\n",
      "17/47 trial, CA3, 40/90 field\n",
      "17/47 trial, CA3, 41/90 field\n",
      "17/47 trial, CA3, 42/90 field\n",
      "17/47 trial, CA3, 43/90 field\n",
      "17/47 trial, CA3, 44/90 field\n",
      "17/47 trial, CA3, 45/90 field\n",
      "17/47 trial, CA3, 46/90 field\n",
      "17/47 trial, CA3, 47/90 field\n",
      "17/47 trial, CA3, 48/90 field\n",
      "17/47 trial, CA3, 49/90 field\n",
      "17/47 trial, CA3, 50/90 field\n",
      "17/47 trial, CA3, 51/90 field\n",
      "17/47 trial, CA3, 52/90 field\n",
      "17/47 trial, CA3, 53/90 field\n"
     ]
    },
    {
     "name": "stderr",
     "output_type": "stream",
     "text": [
      "/home/yiu/projects/hippocampus/common/comput_utils.py:1372: UserWarning: Shuffling window is smaller than the spike train! Using window size = range/5 instead.\n",
      "  warnings.warn(\"Shuffling window is smaller than the spike train! Using window size = range/5 instead.\")\n"
     ]
    },
    {
     "name": "stdout",
     "output_type": "stream",
     "text": [
      "17/47 trial, CA3, 54/90 field\n",
      "17/47 trial, CA3, 55/90 field\n",
      "17/47 trial, CA3, 56/90 field\n",
      "17/47 trial, CA3, 57/90 field\n",
      "17/47 trial, CA3, 58/90 field\n",
      "17/47 trial, CA3, 59/90 field\n",
      "17/47 trial, CA3, 60/90 field\n",
      "17/47 trial, CA3, 61/90 field\n",
      "17/47 trial, CA3, 62/90 field\n",
      "17/47 trial, CA3, 63/90 field\n",
      "17/47 trial, CA3, 64/90 field\n",
      "17/47 trial, CA3, 65/90 field\n",
      "17/47 trial, CA3, 66/90 field\n",
      "17/47 trial, CA3, 67/90 field\n",
      "17/47 trial, CA3, 68/90 field\n",
      "17/47 trial, CA3, 69/90 field\n",
      "17/47 trial, CA3, 70/90 field\n",
      "17/47 trial, CA3, 71/90 field\n",
      "17/47 trial, CA3, 72/90 field\n",
      "17/47 trial, CA3, 73/90 field\n",
      "17/47 trial, CA3, 74/90 field\n"
     ]
    },
    {
     "name": "stderr",
     "output_type": "stream",
     "text": [
      "/home/yiu/projects/hippocampus/common/comput_utils.py:1372: UserWarning: Shuffling window is smaller than the spike train! Using window size = range/5 instead.\n",
      "  warnings.warn(\"Shuffling window is smaller than the spike train! Using window size = range/5 instead.\")\n"
     ]
    },
    {
     "name": "stdout",
     "output_type": "stream",
     "text": [
      "17/47 trial, CA3, 75/90 field\n",
      "17/47 trial, CA3, 76/90 field\n",
      "17/47 trial, CA3, 77/90 field\n",
      "17/47 trial, CA3, 78/90 field\n",
      "17/47 trial, CA3, 79/90 field\n"
     ]
    },
    {
     "name": "stderr",
     "output_type": "stream",
     "text": [
      "/home/yiu/projects/hippocampus/common/comput_utils.py:1372: UserWarning: Shuffling window is smaller than the spike train! Using window size = range/5 instead.\n",
      "  warnings.warn(\"Shuffling window is smaller than the spike train! Using window size = range/5 instead.\")\n"
     ]
    },
    {
     "name": "stdout",
     "output_type": "stream",
     "text": [
      "17/47 trial, CA3, 80/90 field\n",
      "17/47 trial, CA3, 81/90 field\n",
      "17/47 trial, CA3, 82/90 field\n",
      "17/47 trial, CA3, 83/90 field\n",
      "17/47 trial, CA3, 84/90 field\n",
      "17/47 trial, CA3, 85/90 field\n",
      "17/47 trial, CA3, 86/90 field\n",
      "17/47 trial, CA3, 87/90 field\n",
      "17/47 trial, CA3, 88/90 field\n",
      "17/47 trial, CA3, 89/90 field\n",
      "18/47 trial, CA1, 0/42 field\n",
      "18/47 trial, CA1, 1/42 field\n",
      "18/47 trial, CA1, 2/42 field\n",
      "18/47 trial, CA1, 3/42 field\n",
      "18/47 trial, CA1, 4/42 field\n",
      "18/47 trial, CA1, 5/42 field\n",
      "18/47 trial, CA1, 6/42 field\n",
      "18/47 trial, CA1, 7/42 field\n",
      "18/47 trial, CA1, 8/42 field\n"
     ]
    },
    {
     "name": "stderr",
     "output_type": "stream",
     "text": [
      "/home/yiu/projects/hippocampus/common/comput_utils.py:1372: UserWarning: Shuffling window is smaller than the spike train! Using window size = range/5 instead.\n",
      "  warnings.warn(\"Shuffling window is smaller than the spike train! Using window size = range/5 instead.\")\n",
      "/home/yiu/projects/hippocampus/common/comput_utils.py:1217: RuntimeWarning: Mean of empty slice\n",
      "  errd = np.nanmean(directionality - dtmp_norm) ** 2\n",
      "/home/yiu/projects/hippocampus/common/comput_utils.py:1218: RuntimeWarning: Mean of empty slice\n",
      "  errp = np.nanmean(positionality - ptmp_norm) ** 2\n"
     ]
    },
    {
     "name": "stdout",
     "output_type": "stream",
     "text": [
      "18/47 trial, CA1, 9/42 field\n"
     ]
    },
    {
     "name": "stderr",
     "output_type": "stream",
     "text": [
      "/home/yiu/projects/hippocampus/common/comput_utils.py:1372: UserWarning: Shuffling window is smaller than the spike train! Using window size = range/5 instead.\n",
      "  warnings.warn(\"Shuffling window is smaller than the spike train! Using window size = range/5 instead.\")\n"
     ]
    },
    {
     "name": "stdout",
     "output_type": "stream",
     "text": [
      "18/47 trial, CA1, 10/42 field\n",
      "18/47 trial, CA1, 11/42 field\n",
      "18/47 trial, CA1, 12/42 field\n",
      "18/47 trial, CA1, 13/42 field\n",
      "18/47 trial, CA1, 14/42 field\n",
      "18/47 trial, CA1, 15/42 field\n",
      "18/47 trial, CA1, 16/42 field\n",
      "18/47 trial, CA1, 17/42 field\n",
      "18/47 trial, CA1, 18/42 field\n",
      "18/47 trial, CA1, 19/42 field\n",
      "18/47 trial, CA1, 20/42 field\n",
      "18/47 trial, CA1, 21/42 field\n",
      "18/47 trial, CA1, 22/42 field\n",
      "18/47 trial, CA1, 23/42 field\n",
      "18/47 trial, CA1, 24/42 field\n",
      "18/47 trial, CA1, 25/42 field\n",
      "18/47 trial, CA1, 26/42 field\n",
      "18/47 trial, CA1, 27/42 field\n",
      "18/47 trial, CA1, 28/42 field\n",
      "18/47 trial, CA1, 29/42 field\n",
      "18/47 trial, CA1, 30/42 field\n",
      "18/47 trial, CA1, 31/42 field\n",
      "18/47 trial, CA1, 32/42 field\n",
      "18/47 trial, CA1, 33/42 field\n",
      "18/47 trial, CA1, 34/42 field\n",
      "18/47 trial, CA1, 35/42 field\n",
      "18/47 trial, CA1, 36/42 field\n",
      "18/47 trial, CA1, 37/42 field\n",
      "18/47 trial, CA1, 38/42 field\n",
      "18/47 trial, CA1, 39/42 field\n",
      "18/47 trial, CA1, 40/42 field\n",
      "18/47 trial, CA1, 41/42 field\n",
      "19/47 trial, CA1, 0/16 field\n",
      "19/47 trial, CA1, 1/16 field\n",
      "19/47 trial, CA1, 2/16 field\n",
      "19/47 trial, CA1, 3/16 field\n",
      "19/47 trial, CA1, 4/16 field\n",
      "19/47 trial, CA1, 5/16 field\n",
      "19/47 trial, CA1, 6/16 field\n",
      "19/47 trial, CA1, 7/16 field\n",
      "19/47 trial, CA1, 8/16 field\n",
      "19/47 trial, CA1, 9/16 field\n",
      "19/47 trial, CA1, 10/16 field\n"
     ]
    },
    {
     "name": "stderr",
     "output_type": "stream",
     "text": [
      "/home/yiu/projects/hippocampus/common/comput_utils.py:1372: UserWarning: Shuffling window is smaller than the spike train! Using window size = range/5 instead.\n",
      "  warnings.warn(\"Shuffling window is smaller than the spike train! Using window size = range/5 instead.\")\n"
     ]
    },
    {
     "name": "stdout",
     "output_type": "stream",
     "text": [
      "19/47 trial, CA1, 11/16 field\n",
      "19/47 trial, CA1, 12/16 field\n",
      "19/47 trial, CA1, 13/16 field\n",
      "19/47 trial, CA1, 14/16 field\n",
      "19/47 trial, CA1, 15/16 field\n",
      "20/47 trial, CA1, 0/20 field\n",
      "20/47 trial, CA1, 1/20 field\n",
      "20/47 trial, CA1, 2/20 field\n",
      "20/47 trial, CA1, 3/20 field\n",
      "20/47 trial, CA1, 4/20 field\n",
      "20/47 trial, CA1, 5/20 field\n",
      "20/47 trial, CA1, 6/20 field\n",
      "20/47 trial, CA1, 7/20 field\n",
      "20/47 trial, CA1, 8/20 field\n",
      "20/47 trial, CA1, 9/20 field\n",
      "20/47 trial, CA1, 10/20 field\n",
      "20/47 trial, CA1, 11/20 field\n",
      "20/47 trial, CA1, 12/20 field\n",
      "20/47 trial, CA1, 13/20 field\n",
      "20/47 trial, CA1, 14/20 field\n",
      "20/47 trial, CA1, 15/20 field\n",
      "20/47 trial, CA1, 16/20 field\n",
      "20/47 trial, CA1, 17/20 field\n",
      "20/47 trial, CA1, 18/20 field\n"
     ]
    },
    {
     "name": "stderr",
     "output_type": "stream",
     "text": [
      "/home/yiu/projects/hippocampus/common/comput_utils.py:1372: UserWarning: Shuffling window is smaller than the spike train! Using window size = range/5 instead.\n",
      "  warnings.warn(\"Shuffling window is smaller than the spike train! Using window size = range/5 instead.\")\n",
      "/home/yiu/projects/hippocampus/common/comput_utils.py:1217: RuntimeWarning: Mean of empty slice\n",
      "  errd = np.nanmean(directionality - dtmp_norm) ** 2\n",
      "/home/yiu/projects/hippocampus/common/comput_utils.py:1218: RuntimeWarning: Mean of empty slice\n",
      "  errp = np.nanmean(positionality - ptmp_norm) ** 2\n"
     ]
    },
    {
     "name": "stdout",
     "output_type": "stream",
     "text": [
      "20/47 trial, CA1, 19/20 field\n",
      "21/47 trial, CA1, 0/18 field\n",
      "21/47 trial, CA1, 1/18 field\n",
      "21/47 trial, CA1, 2/18 field\n",
      "21/47 trial, CA1, 3/18 field\n",
      "21/47 trial, CA1, 4/18 field\n",
      "21/47 trial, CA1, 5/18 field\n",
      "21/47 trial, CA1, 6/18 field\n",
      "21/47 trial, CA1, 7/18 field\n",
      "21/47 trial, CA1, 8/18 field\n",
      "21/47 trial, CA1, 9/18 field\n",
      "21/47 trial, CA1, 10/18 field\n",
      "21/47 trial, CA1, 11/18 field\n",
      "21/47 trial, CA1, 12/18 field\n",
      "21/47 trial, CA1, 13/18 field\n",
      "21/47 trial, CA1, 14/18 field\n",
      "21/47 trial, CA1, 15/18 field\n",
      "21/47 trial, CA1, 16/18 field\n",
      "21/47 trial, CA1, 17/18 field\n",
      "21/47 trial, CA3, 0/20 field\n",
      "21/47 trial, CA3, 1/20 field\n",
      "21/47 trial, CA3, 2/20 field\n",
      "21/47 trial, CA3, 3/20 field\n",
      "21/47 trial, CA3, 4/20 field\n",
      "21/47 trial, CA3, 5/20 field\n",
      "21/47 trial, CA3, 6/20 field\n",
      "21/47 trial, CA3, 7/20 field\n",
      "21/47 trial, CA3, 8/20 field\n",
      "21/47 trial, CA3, 9/20 field\n",
      "21/47 trial, CA3, 10/20 field\n",
      "21/47 trial, CA3, 11/20 field\n",
      "21/47 trial, CA3, 12/20 field\n",
      "21/47 trial, CA3, 13/20 field\n",
      "21/47 trial, CA3, 14/20 field\n",
      "21/47 trial, CA3, 15/20 field\n",
      "21/47 trial, CA3, 16/20 field\n",
      "21/47 trial, CA3, 17/20 field\n",
      "21/47 trial, CA3, 18/20 field\n",
      "21/47 trial, CA3, 19/20 field\n",
      "23/47 trial, CA3, 0/11 field\n",
      "23/47 trial, CA3, 1/11 field\n"
     ]
    },
    {
     "name": "stderr",
     "output_type": "stream",
     "text": [
      "/home/yiu/projects/hippocampus/common/comput_utils.py:1372: UserWarning: Shuffling window is smaller than the spike train! Using window size = range/5 instead.\n",
      "  warnings.warn(\"Shuffling window is smaller than the spike train! Using window size = range/5 instead.\")\n"
     ]
    },
    {
     "name": "stdout",
     "output_type": "stream",
     "text": [
      "23/47 trial, CA3, 2/11 field\n",
      "23/47 trial, CA3, 3/11 field\n",
      "23/47 trial, CA3, 4/11 field\n"
     ]
    },
    {
     "name": "stderr",
     "output_type": "stream",
     "text": [
      "/home/yiu/projects/hippocampus/common/comput_utils.py:1372: UserWarning: Shuffling window is smaller than the spike train! Using window size = range/5 instead.\n",
      "  warnings.warn(\"Shuffling window is smaller than the spike train! Using window size = range/5 instead.\")\n"
     ]
    },
    {
     "name": "stdout",
     "output_type": "stream",
     "text": [
      "23/47 trial, CA3, 5/11 field\n",
      "23/47 trial, CA3, 6/11 field\n",
      "23/47 trial, CA3, 7/11 field\n",
      "23/47 trial, CA3, 8/11 field\n",
      "23/47 trial, CA3, 9/11 field\n",
      "23/47 trial, CA3, 10/11 field\n",
      "25/47 trial, CA3, 0/29 field\n",
      "25/47 trial, CA3, 1/29 field\n",
      "25/47 trial, CA3, 2/29 field\n",
      "25/47 trial, CA3, 3/29 field\n",
      "25/47 trial, CA3, 4/29 field\n",
      "25/47 trial, CA3, 5/29 field\n",
      "25/47 trial, CA3, 6/29 field\n",
      "25/47 trial, CA3, 7/29 field\n",
      "25/47 trial, CA3, 8/29 field\n"
     ]
    },
    {
     "name": "stderr",
     "output_type": "stream",
     "text": [
      "/home/yiu/projects/hippocampus/common/comput_utils.py:1372: UserWarning: Shuffling window is smaller than the spike train! Using window size = range/5 instead.\n",
      "  warnings.warn(\"Shuffling window is smaller than the spike train! Using window size = range/5 instead.\")\n"
     ]
    },
    {
     "name": "stdout",
     "output_type": "stream",
     "text": [
      "25/47 trial, CA3, 9/29 field\n",
      "25/47 trial, CA3, 10/29 field\n",
      "25/47 trial, CA3, 11/29 field\n",
      "25/47 trial, CA3, 12/29 field\n"
     ]
    },
    {
     "name": "stderr",
     "output_type": "stream",
     "text": [
      "/home/yiu/projects/hippocampus/common/comput_utils.py:1372: UserWarning: Shuffling window is smaller than the spike train! Using window size = range/5 instead.\n",
      "  warnings.warn(\"Shuffling window is smaller than the spike train! Using window size = range/5 instead.\")\n"
     ]
    },
    {
     "name": "stdout",
     "output_type": "stream",
     "text": [
      "25/47 trial, CA3, 13/29 field\n",
      "25/47 trial, CA3, 14/29 field\n",
      "25/47 trial, CA3, 15/29 field\n",
      "25/47 trial, CA3, 16/29 field\n",
      "25/47 trial, CA3, 17/29 field\n",
      "25/47 trial, CA3, 18/29 field\n",
      "25/47 trial, CA3, 19/29 field\n",
      "25/47 trial, CA3, 20/29 field\n",
      "25/47 trial, CA3, 21/29 field\n",
      "25/47 trial, CA3, 22/29 field\n",
      "25/47 trial, CA3, 23/29 field\n",
      "25/47 trial, CA3, 24/29 field\n",
      "25/47 trial, CA3, 25/29 field\n"
     ]
    },
    {
     "name": "stderr",
     "output_type": "stream",
     "text": [
      "/home/yiu/projects/hippocampus/common/comput_utils.py:1372: UserWarning: Shuffling window is smaller than the spike train! Using window size = range/5 instead.\n",
      "  warnings.warn(\"Shuffling window is smaller than the spike train! Using window size = range/5 instead.\")\n",
      "/home/yiu/projects/hippocampus/common/comput_utils.py:1217: RuntimeWarning: Mean of empty slice\n",
      "  errd = np.nanmean(directionality - dtmp_norm) ** 2\n",
      "/home/yiu/projects/hippocampus/common/comput_utils.py:1218: RuntimeWarning: Mean of empty slice\n",
      "  errp = np.nanmean(positionality - ptmp_norm) ** 2\n"
     ]
    },
    {
     "name": "stdout",
     "output_type": "stream",
     "text": [
      "25/47 trial, CA3, 26/29 field\n",
      "25/47 trial, CA3, 27/29 field\n"
     ]
    },
    {
     "name": "stderr",
     "output_type": "stream",
     "text": [
      "/home/yiu/projects/hippocampus/common/comput_utils.py:1372: UserWarning: Shuffling window is smaller than the spike train! Using window size = range/5 instead.\n",
      "  warnings.warn(\"Shuffling window is smaller than the spike train! Using window size = range/5 instead.\")\n"
     ]
    },
    {
     "name": "stdout",
     "output_type": "stream",
     "text": [
      "25/47 trial, CA3, 28/29 field\n",
      "26/47 trial, CA1, 0/123 field\n",
      "26/47 trial, CA1, 1/123 field\n",
      "26/47 trial, CA1, 2/123 field\n",
      "26/47 trial, CA1, 3/123 field\n",
      "26/47 trial, CA1, 4/123 field\n",
      "26/47 trial, CA1, 5/123 field\n",
      "26/47 trial, CA1, 6/123 field\n",
      "26/47 trial, CA1, 7/123 field\n",
      "26/47 trial, CA1, 8/123 field\n",
      "26/47 trial, CA1, 9/123 field\n",
      "26/47 trial, CA1, 10/123 field\n",
      "26/47 trial, CA1, 11/123 field\n",
      "26/47 trial, CA1, 12/123 field\n",
      "26/47 trial, CA1, 13/123 field\n",
      "26/47 trial, CA1, 14/123 field\n",
      "26/47 trial, CA1, 15/123 field\n",
      "26/47 trial, CA1, 16/123 field\n",
      "26/47 trial, CA1, 17/123 field\n",
      "26/47 trial, CA1, 18/123 field\n",
      "26/47 trial, CA1, 19/123 field\n",
      "26/47 trial, CA1, 20/123 field\n"
     ]
    },
    {
     "name": "stderr",
     "output_type": "stream",
     "text": [
      "/home/yiu/projects/hippocampus/common/comput_utils.py:1372: UserWarning: Shuffling window is smaller than the spike train! Using window size = range/5 instead.\n",
      "  warnings.warn(\"Shuffling window is smaller than the spike train! Using window size = range/5 instead.\")\n",
      "/home/yiu/projects/hippocampus/common/comput_utils.py:1217: RuntimeWarning: Mean of empty slice\n",
      "  errd = np.nanmean(directionality - dtmp_norm) ** 2\n",
      "/home/yiu/projects/hippocampus/common/comput_utils.py:1218: RuntimeWarning: Mean of empty slice\n",
      "  errp = np.nanmean(positionality - ptmp_norm) ** 2\n"
     ]
    },
    {
     "name": "stdout",
     "output_type": "stream",
     "text": [
      "26/47 trial, CA1, 21/123 field\n",
      "26/47 trial, CA1, 22/123 field\n",
      "26/47 trial, CA1, 23/123 field\n",
      "26/47 trial, CA1, 24/123 field\n",
      "26/47 trial, CA1, 25/123 field\n",
      "26/47 trial, CA1, 26/123 field\n",
      "26/47 trial, CA1, 27/123 field\n",
      "26/47 trial, CA1, 28/123 field\n",
      "26/47 trial, CA1, 29/123 field\n",
      "26/47 trial, CA1, 30/123 field\n",
      "26/47 trial, CA1, 31/123 field\n",
      "26/47 trial, CA1, 32/123 field\n",
      "26/47 trial, CA1, 33/123 field\n",
      "26/47 trial, CA1, 34/123 field\n",
      "26/47 trial, CA1, 35/123 field\n",
      "26/47 trial, CA1, 36/123 field\n",
      "26/47 trial, CA1, 37/123 field\n",
      "26/47 trial, CA1, 38/123 field\n",
      "26/47 trial, CA1, 39/123 field\n",
      "26/47 trial, CA1, 40/123 field\n",
      "26/47 trial, CA1, 41/123 field\n",
      "26/47 trial, CA1, 42/123 field\n",
      "26/47 trial, CA1, 43/123 field\n",
      "26/47 trial, CA1, 44/123 field\n",
      "26/47 trial, CA1, 45/123 field\n",
      "26/47 trial, CA1, 46/123 field\n",
      "26/47 trial, CA1, 47/123 field\n",
      "26/47 trial, CA1, 48/123 field\n",
      "26/47 trial, CA1, 49/123 field\n",
      "26/47 trial, CA1, 50/123 field\n",
      "26/47 trial, CA1, 51/123 field\n",
      "26/47 trial, CA1, 52/123 field\n",
      "26/47 trial, CA1, 53/123 field\n",
      "26/47 trial, CA1, 54/123 field\n",
      "26/47 trial, CA1, 55/123 field\n",
      "26/47 trial, CA1, 56/123 field\n",
      "26/47 trial, CA1, 57/123 field\n",
      "26/47 trial, CA1, 58/123 field\n",
      "26/47 trial, CA1, 59/123 field\n",
      "26/47 trial, CA1, 60/123 field\n",
      "26/47 trial, CA1, 61/123 field\n",
      "26/47 trial, CA1, 62/123 field\n",
      "26/47 trial, CA1, 63/123 field\n",
      "26/47 trial, CA1, 64/123 field\n",
      "26/47 trial, CA1, 65/123 field\n",
      "26/47 trial, CA1, 66/123 field\n",
      "26/47 trial, CA1, 67/123 field\n",
      "26/47 trial, CA1, 68/123 field\n",
      "26/47 trial, CA1, 69/123 field\n",
      "26/47 trial, CA1, 70/123 field\n",
      "26/47 trial, CA1, 71/123 field\n",
      "26/47 trial, CA1, 72/123 field\n",
      "26/47 trial, CA1, 73/123 field\n",
      "26/47 trial, CA1, 74/123 field\n",
      "26/47 trial, CA1, 75/123 field\n",
      "26/47 trial, CA1, 76/123 field\n",
      "26/47 trial, CA1, 77/123 field\n",
      "26/47 trial, CA1, 78/123 field\n",
      "26/47 trial, CA1, 79/123 field\n",
      "26/47 trial, CA1, 80/123 field\n",
      "26/47 trial, CA1, 81/123 field\n",
      "26/47 trial, CA1, 82/123 field\n",
      "26/47 trial, CA1, 83/123 field\n",
      "26/47 trial, CA1, 84/123 field\n",
      "26/47 trial, CA1, 85/123 field\n",
      "26/47 trial, CA1, 86/123 field\n",
      "26/47 trial, CA1, 87/123 field\n",
      "26/47 trial, CA1, 88/123 field\n",
      "26/47 trial, CA1, 89/123 field\n",
      "26/47 trial, CA1, 90/123 field\n",
      "26/47 trial, CA1, 91/123 field\n",
      "26/47 trial, CA1, 92/123 field\n",
      "26/47 trial, CA1, 93/123 field\n",
      "26/47 trial, CA1, 94/123 field\n",
      "26/47 trial, CA1, 95/123 field\n",
      "26/47 trial, CA1, 96/123 field\n"
     ]
    },
    {
     "name": "stderr",
     "output_type": "stream",
     "text": [
      "/home/yiu/projects/hippocampus/common/comput_utils.py:1372: UserWarning: Shuffling window is smaller than the spike train! Using window size = range/5 instead.\n",
      "  warnings.warn(\"Shuffling window is smaller than the spike train! Using window size = range/5 instead.\")\n"
     ]
    },
    {
     "name": "stdout",
     "output_type": "stream",
     "text": [
      "26/47 trial, CA1, 97/123 field\n",
      "26/47 trial, CA1, 98/123 field\n"
     ]
    },
    {
     "name": "stderr",
     "output_type": "stream",
     "text": [
      "/home/yiu/projects/hippocampus/common/comput_utils.py:1372: UserWarning: Shuffling window is smaller than the spike train! Using window size = range/5 instead.\n",
      "  warnings.warn(\"Shuffling window is smaller than the spike train! Using window size = range/5 instead.\")\n",
      "/home/yiu/projects/hippocampus/common/comput_utils.py:1217: RuntimeWarning: Mean of empty slice\n",
      "  errd = np.nanmean(directionality - dtmp_norm) ** 2\n"
     ]
    },
    {
     "name": "stdout",
     "output_type": "stream",
     "text": [
      "26/47 trial, CA1, 99/123 field\n",
      "26/47 trial, CA1, 100/123 field\n",
      "26/47 trial, CA1, 101/123 field\n",
      "26/47 trial, CA1, 102/123 field\n",
      "26/47 trial, CA1, 103/123 field\n",
      "26/47 trial, CA1, 104/123 field\n",
      "26/47 trial, CA1, 105/123 field\n",
      "26/47 trial, CA1, 106/123 field\n",
      "26/47 trial, CA1, 107/123 field\n",
      "26/47 trial, CA1, 108/123 field\n",
      "26/47 trial, CA1, 109/123 field\n",
      "26/47 trial, CA1, 110/123 field\n",
      "26/47 trial, CA1, 111/123 field\n",
      "26/47 trial, CA1, 112/123 field\n",
      "26/47 trial, CA1, 113/123 field\n",
      "26/47 trial, CA1, 114/123 field\n",
      "26/47 trial, CA1, 115/123 field\n",
      "26/47 trial, CA1, 116/123 field\n"
     ]
    },
    {
     "name": "stderr",
     "output_type": "stream",
     "text": [
      "/home/yiu/projects/hippocampus/common/comput_utils.py:1372: UserWarning: Shuffling window is smaller than the spike train! Using window size = range/5 instead.\n",
      "  warnings.warn(\"Shuffling window is smaller than the spike train! Using window size = range/5 instead.\")\n",
      "/home/yiu/projects/hippocampus/common/comput_utils.py:1217: RuntimeWarning: Mean of empty slice\n",
      "  errd = np.nanmean(directionality - dtmp_norm) ** 2\n",
      "/home/yiu/projects/hippocampus/common/comput_utils.py:1218: RuntimeWarning: Mean of empty slice\n",
      "  errp = np.nanmean(positionality - ptmp_norm) ** 2\n"
     ]
    },
    {
     "name": "stdout",
     "output_type": "stream",
     "text": [
      "26/47 trial, CA1, 117/123 field\n",
      "26/47 trial, CA1, 118/123 field\n",
      "26/47 trial, CA1, 119/123 field\n",
      "26/47 trial, CA1, 120/123 field\n"
     ]
    },
    {
     "name": "stderr",
     "output_type": "stream",
     "text": [
      "/home/yiu/projects/hippocampus/common/comput_utils.py:1372: UserWarning: Shuffling window is smaller than the spike train! Using window size = range/5 instead.\n",
      "  warnings.warn(\"Shuffling window is smaller than the spike train! Using window size = range/5 instead.\")\n"
     ]
    },
    {
     "name": "stdout",
     "output_type": "stream",
     "text": [
      "26/47 trial, CA1, 121/123 field\n",
      "26/47 trial, CA1, 122/123 field\n",
      "27/47 trial, CA1, 0/82 field\n",
      "27/47 trial, CA1, 1/82 field\n",
      "27/47 trial, CA1, 2/82 field\n",
      "27/47 trial, CA1, 3/82 field\n",
      "27/47 trial, CA1, 4/82 field\n",
      "27/47 trial, CA1, 5/82 field\n",
      "27/47 trial, CA1, 6/82 field\n",
      "27/47 trial, CA1, 7/82 field\n",
      "27/47 trial, CA1, 8/82 field\n",
      "27/47 trial, CA1, 9/82 field\n",
      "27/47 trial, CA1, 10/82 field\n",
      "27/47 trial, CA1, 11/82 field\n",
      "27/47 trial, CA1, 12/82 field\n",
      "27/47 trial, CA1, 13/82 field\n",
      "27/47 trial, CA1, 14/82 field\n"
     ]
    },
    {
     "name": "stderr",
     "output_type": "stream",
     "text": [
      "/home/yiu/projects/hippocampus/common/comput_utils.py:1372: UserWarning: Shuffling window is smaller than the spike train! Using window size = range/5 instead.\n",
      "  warnings.warn(\"Shuffling window is smaller than the spike train! Using window size = range/5 instead.\")\n"
     ]
    },
    {
     "name": "stdout",
     "output_type": "stream",
     "text": [
      "27/47 trial, CA1, 15/82 field\n",
      "27/47 trial, CA1, 16/82 field\n",
      "27/47 trial, CA1, 17/82 field\n",
      "27/47 trial, CA1, 18/82 field\n",
      "27/47 trial, CA1, 19/82 field\n",
      "27/47 trial, CA1, 20/82 field\n",
      "27/47 trial, CA1, 21/82 field\n",
      "27/47 trial, CA1, 22/82 field\n"
     ]
    },
    {
     "name": "stderr",
     "output_type": "stream",
     "text": [
      "/home/yiu/projects/hippocampus/common/comput_utils.py:1372: UserWarning: Shuffling window is smaller than the spike train! Using window size = range/5 instead.\n",
      "  warnings.warn(\"Shuffling window is smaller than the spike train! Using window size = range/5 instead.\")\n"
     ]
    },
    {
     "name": "stdout",
     "output_type": "stream",
     "text": [
      "27/47 trial, CA1, 23/82 field\n",
      "27/47 trial, CA1, 24/82 field\n",
      "27/47 trial, CA1, 25/82 field\n",
      "27/47 trial, CA1, 26/82 field\n",
      "27/47 trial, CA1, 27/82 field\n",
      "27/47 trial, CA1, 28/82 field\n",
      "27/47 trial, CA1, 29/82 field\n",
      "27/47 trial, CA1, 30/82 field\n",
      "27/47 trial, CA1, 31/82 field\n",
      "27/47 trial, CA1, 32/82 field\n",
      "27/47 trial, CA1, 33/82 field\n",
      "27/47 trial, CA1, 34/82 field\n",
      "27/47 trial, CA1, 35/82 field\n",
      "27/47 trial, CA1, 36/82 field\n",
      "27/47 trial, CA1, 37/82 field\n",
      "27/47 trial, CA1, 38/82 field\n"
     ]
    },
    {
     "name": "stderr",
     "output_type": "stream",
     "text": [
      "/home/yiu/projects/hippocampus/common/comput_utils.py:1372: UserWarning: Shuffling window is smaller than the spike train! Using window size = range/5 instead.\n",
      "  warnings.warn(\"Shuffling window is smaller than the spike train! Using window size = range/5 instead.\")\n"
     ]
    },
    {
     "name": "stdout",
     "output_type": "stream",
     "text": [
      "27/47 trial, CA1, 39/82 field\n",
      "27/47 trial, CA1, 40/82 field\n",
      "27/47 trial, CA1, 41/82 field\n",
      "27/47 trial, CA1, 42/82 field\n",
      "27/47 trial, CA1, 43/82 field\n",
      "27/47 trial, CA1, 44/82 field\n",
      "27/47 trial, CA1, 45/82 field\n",
      "27/47 trial, CA1, 46/82 field\n",
      "27/47 trial, CA1, 47/82 field\n",
      "27/47 trial, CA1, 48/82 field\n",
      "27/47 trial, CA1, 49/82 field\n",
      "27/47 trial, CA1, 50/82 field\n",
      "27/47 trial, CA1, 51/82 field\n",
      "27/47 trial, CA1, 52/82 field\n",
      "27/47 trial, CA1, 53/82 field\n",
      "27/47 trial, CA1, 54/82 field\n",
      "27/47 trial, CA1, 55/82 field\n",
      "27/47 trial, CA1, 56/82 field\n",
      "27/47 trial, CA1, 57/82 field\n",
      "27/47 trial, CA1, 58/82 field\n",
      "27/47 trial, CA1, 59/82 field\n"
     ]
    },
    {
     "name": "stderr",
     "output_type": "stream",
     "text": [
      "/home/yiu/projects/hippocampus/common/comput_utils.py:1372: UserWarning: Shuffling window is smaller than the spike train! Using window size = range/5 instead.\n",
      "  warnings.warn(\"Shuffling window is smaller than the spike train! Using window size = range/5 instead.\")\n"
     ]
    },
    {
     "name": "stdout",
     "output_type": "stream",
     "text": [
      "27/47 trial, CA1, 60/82 field\n",
      "27/47 trial, CA1, 61/82 field\n",
      "27/47 trial, CA1, 62/82 field\n",
      "27/47 trial, CA1, 63/82 field\n",
      "27/47 trial, CA1, 64/82 field\n",
      "27/47 trial, CA1, 65/82 field\n",
      "27/47 trial, CA1, 66/82 field\n",
      "27/47 trial, CA1, 67/82 field\n",
      "27/47 trial, CA1, 68/82 field\n",
      "27/47 trial, CA1, 69/82 field\n",
      "27/47 trial, CA1, 70/82 field\n",
      "27/47 trial, CA1, 71/82 field\n",
      "27/47 trial, CA1, 72/82 field\n",
      "27/47 trial, CA1, 73/82 field\n",
      "27/47 trial, CA1, 74/82 field\n",
      "27/47 trial, CA1, 75/82 field\n",
      "27/47 trial, CA1, 76/82 field\n",
      "27/47 trial, CA1, 77/82 field\n",
      "27/47 trial, CA1, 78/82 field\n",
      "27/47 trial, CA1, 79/82 field\n",
      "27/47 trial, CA1, 80/82 field\n",
      "27/47 trial, CA1, 81/82 field\n",
      "28/47 trial, CA1, 0/120 field\n",
      "28/47 trial, CA1, 1/120 field\n",
      "28/47 trial, CA1, 2/120 field\n",
      "28/47 trial, CA1, 3/120 field\n",
      "28/47 trial, CA1, 4/120 field\n",
      "28/47 trial, CA1, 5/120 field\n",
      "28/47 trial, CA1, 6/120 field\n",
      "28/47 trial, CA1, 7/120 field\n",
      "28/47 trial, CA1, 8/120 field\n",
      "28/47 trial, CA1, 9/120 field\n",
      "28/47 trial, CA1, 10/120 field\n",
      "28/47 trial, CA1, 11/120 field\n",
      "28/47 trial, CA1, 12/120 field\n",
      "28/47 trial, CA1, 13/120 field\n",
      "28/47 trial, CA1, 14/120 field\n",
      "28/47 trial, CA1, 15/120 field\n",
      "28/47 trial, CA1, 16/120 field\n",
      "28/47 trial, CA1, 17/120 field\n",
      "28/47 trial, CA1, 18/120 field\n",
      "28/47 trial, CA1, 19/120 field\n",
      "28/47 trial, CA1, 20/120 field\n",
      "28/47 trial, CA1, 21/120 field\n",
      "28/47 trial, CA1, 22/120 field\n",
      "28/47 trial, CA1, 23/120 field\n",
      "28/47 trial, CA1, 24/120 field\n",
      "28/47 trial, CA1, 25/120 field\n",
      "28/47 trial, CA1, 26/120 field\n",
      "28/47 trial, CA1, 27/120 field\n",
      "28/47 trial, CA1, 28/120 field\n",
      "28/47 trial, CA1, 29/120 field\n",
      "28/47 trial, CA1, 30/120 field\n",
      "28/47 trial, CA1, 31/120 field\n",
      "28/47 trial, CA1, 32/120 field\n",
      "28/47 trial, CA1, 33/120 field\n",
      "28/47 trial, CA1, 34/120 field\n",
      "28/47 trial, CA1, 35/120 field\n",
      "28/47 trial, CA1, 36/120 field\n",
      "28/47 trial, CA1, 37/120 field\n",
      "28/47 trial, CA1, 38/120 field\n",
      "28/47 trial, CA1, 39/120 field\n",
      "28/47 trial, CA1, 40/120 field\n",
      "28/47 trial, CA1, 41/120 field\n",
      "28/47 trial, CA1, 42/120 field\n",
      "28/47 trial, CA1, 43/120 field\n",
      "28/47 trial, CA1, 44/120 field\n",
      "28/47 trial, CA1, 45/120 field\n",
      "28/47 trial, CA1, 46/120 field\n",
      "28/47 trial, CA1, 47/120 field\n",
      "28/47 trial, CA1, 48/120 field\n",
      "28/47 trial, CA1, 49/120 field\n",
      "28/47 trial, CA1, 50/120 field\n",
      "28/47 trial, CA1, 51/120 field\n",
      "28/47 trial, CA1, 52/120 field\n",
      "28/47 trial, CA1, 53/120 field\n"
     ]
    },
    {
     "name": "stderr",
     "output_type": "stream",
     "text": [
      "/home/yiu/projects/hippocampus/common/comput_utils.py:1372: UserWarning: Shuffling window is smaller than the spike train! Using window size = range/5 instead.\n",
      "  warnings.warn(\"Shuffling window is smaller than the spike train! Using window size = range/5 instead.\")\n"
     ]
    },
    {
     "name": "stdout",
     "output_type": "stream",
     "text": [
      "28/47 trial, CA1, 54/120 field\n",
      "28/47 trial, CA1, 55/120 field\n",
      "28/47 trial, CA1, 56/120 field\n",
      "28/47 trial, CA1, 57/120 field\n",
      "28/47 trial, CA1, 58/120 field\n",
      "28/47 trial, CA1, 59/120 field\n",
      "28/47 trial, CA1, 60/120 field\n"
     ]
    },
    {
     "name": "stderr",
     "output_type": "stream",
     "text": [
      "/home/yiu/projects/hippocampus/common/comput_utils.py:1372: UserWarning: Shuffling window is smaller than the spike train! Using window size = range/5 instead.\n",
      "  warnings.warn(\"Shuffling window is smaller than the spike train! Using window size = range/5 instead.\")\n"
     ]
    },
    {
     "name": "stdout",
     "output_type": "stream",
     "text": [
      "28/47 trial, CA1, 61/120 field\n",
      "28/47 trial, CA1, 62/120 field\n",
      "28/47 trial, CA1, 63/120 field\n",
      "28/47 trial, CA1, 64/120 field\n",
      "28/47 trial, CA1, 65/120 field\n",
      "28/47 trial, CA1, 66/120 field\n",
      "28/47 trial, CA1, 67/120 field\n",
      "28/47 trial, CA1, 68/120 field\n",
      "28/47 trial, CA1, 69/120 field\n",
      "28/47 trial, CA1, 70/120 field\n",
      "28/47 trial, CA1, 71/120 field\n",
      "28/47 trial, CA1, 72/120 field\n",
      "28/47 trial, CA1, 73/120 field\n",
      "28/47 trial, CA1, 74/120 field\n",
      "28/47 trial, CA1, 75/120 field\n",
      "28/47 trial, CA1, 76/120 field\n",
      "28/47 trial, CA1, 77/120 field\n",
      "28/47 trial, CA1, 78/120 field\n",
      "28/47 trial, CA1, 79/120 field\n",
      "28/47 trial, CA1, 80/120 field\n",
      "28/47 trial, CA1, 81/120 field\n",
      "28/47 trial, CA1, 82/120 field\n",
      "28/47 trial, CA1, 83/120 field\n",
      "28/47 trial, CA1, 84/120 field\n",
      "28/47 trial, CA1, 85/120 field\n",
      "28/47 trial, CA1, 86/120 field\n",
      "28/47 trial, CA1, 87/120 field\n",
      "28/47 trial, CA1, 88/120 field\n",
      "28/47 trial, CA1, 89/120 field\n",
      "28/47 trial, CA1, 90/120 field\n",
      "28/47 trial, CA1, 91/120 field\n",
      "28/47 trial, CA1, 92/120 field\n",
      "28/47 trial, CA1, 93/120 field\n",
      "28/47 trial, CA1, 94/120 field\n",
      "28/47 trial, CA1, 95/120 field\n",
      "28/47 trial, CA1, 96/120 field\n",
      "28/47 trial, CA1, 97/120 field\n",
      "28/47 trial, CA1, 98/120 field\n",
      "28/47 trial, CA1, 99/120 field\n",
      "28/47 trial, CA1, 100/120 field\n",
      "28/47 trial, CA1, 101/120 field\n",
      "28/47 trial, CA1, 102/120 field\n",
      "28/47 trial, CA1, 103/120 field\n",
      "28/47 trial, CA1, 104/120 field\n",
      "28/47 trial, CA1, 105/120 field\n",
      "28/47 trial, CA1, 106/120 field\n",
      "28/47 trial, CA1, 107/120 field\n"
     ]
    },
    {
     "name": "stderr",
     "output_type": "stream",
     "text": [
      "/home/yiu/projects/hippocampus/common/comput_utils.py:1372: UserWarning: Shuffling window is smaller than the spike train! Using window size = range/5 instead.\n",
      "  warnings.warn(\"Shuffling window is smaller than the spike train! Using window size = range/5 instead.\")\n"
     ]
    },
    {
     "name": "stdout",
     "output_type": "stream",
     "text": [
      "28/47 trial, CA1, 108/120 field\n",
      "28/47 trial, CA1, 109/120 field\n",
      "28/47 trial, CA1, 110/120 field\n",
      "28/47 trial, CA1, 111/120 field\n",
      "28/47 trial, CA1, 112/120 field\n",
      "28/47 trial, CA1, 113/120 field\n",
      "28/47 trial, CA1, 114/120 field\n",
      "28/47 trial, CA1, 115/120 field\n",
      "28/47 trial, CA1, 116/120 field\n",
      "28/47 trial, CA1, 117/120 field\n",
      "28/47 trial, CA1, 118/120 field\n",
      "28/47 trial, CA1, 119/120 field\n",
      "29/47 trial, CA1, 0/77 field\n",
      "29/47 trial, CA1, 1/77 field\n",
      "29/47 trial, CA1, 2/77 field\n",
      "29/47 trial, CA1, 3/77 field\n",
      "29/47 trial, CA1, 4/77 field\n",
      "29/47 trial, CA1, 5/77 field\n",
      "29/47 trial, CA1, 6/77 field\n",
      "29/47 trial, CA1, 7/77 field\n",
      "29/47 trial, CA1, 8/77 field\n",
      "29/47 trial, CA1, 9/77 field\n",
      "29/47 trial, CA1, 10/77 field\n",
      "29/47 trial, CA1, 11/77 field\n",
      "29/47 trial, CA1, 12/77 field\n",
      "29/47 trial, CA1, 13/77 field\n",
      "29/47 trial, CA1, 14/77 field\n",
      "29/47 trial, CA1, 15/77 field\n",
      "29/47 trial, CA1, 16/77 field\n",
      "29/47 trial, CA1, 17/77 field\n",
      "29/47 trial, CA1, 18/77 field\n",
      "29/47 trial, CA1, 19/77 field\n",
      "29/47 trial, CA1, 20/77 field\n",
      "29/47 trial, CA1, 21/77 field\n",
      "29/47 trial, CA1, 22/77 field\n",
      "29/47 trial, CA1, 23/77 field\n"
     ]
    },
    {
     "name": "stderr",
     "output_type": "stream",
     "text": [
      "/home/yiu/projects/hippocampus/common/comput_utils.py:1372: UserWarning: Shuffling window is smaller than the spike train! Using window size = range/5 instead.\n",
      "  warnings.warn(\"Shuffling window is smaller than the spike train! Using window size = range/5 instead.\")\n",
      "/home/yiu/projects/hippocampus/common/comput_utils.py:1217: RuntimeWarning: Mean of empty slice\n",
      "  errd = np.nanmean(directionality - dtmp_norm) ** 2\n"
     ]
    },
    {
     "name": "stdout",
     "output_type": "stream",
     "text": [
      "29/47 trial, CA1, 24/77 field\n",
      "29/47 trial, CA1, 25/77 field\n",
      "29/47 trial, CA1, 26/77 field\n",
      "29/47 trial, CA1, 27/77 field\n",
      "29/47 trial, CA1, 28/77 field\n",
      "29/47 trial, CA1, 29/77 field\n",
      "29/47 trial, CA1, 30/77 field\n",
      "29/47 trial, CA1, 31/77 field\n",
      "29/47 trial, CA1, 32/77 field\n",
      "29/47 trial, CA1, 33/77 field\n",
      "29/47 trial, CA1, 34/77 field\n",
      "29/47 trial, CA1, 35/77 field\n",
      "29/47 trial, CA1, 36/77 field\n",
      "29/47 trial, CA1, 37/77 field\n",
      "29/47 trial, CA1, 38/77 field\n",
      "29/47 trial, CA1, 39/77 field\n",
      "29/47 trial, CA1, 40/77 field\n",
      "29/47 trial, CA1, 41/77 field\n"
     ]
    },
    {
     "name": "stderr",
     "output_type": "stream",
     "text": [
      "/home/yiu/projects/hippocampus/common/comput_utils.py:1372: UserWarning: Shuffling window is smaller than the spike train! Using window size = range/5 instead.\n",
      "  warnings.warn(\"Shuffling window is smaller than the spike train! Using window size = range/5 instead.\")\n",
      "/home/yiu/projects/hippocampus/common/comput_utils.py:1217: RuntimeWarning: Mean of empty slice\n",
      "  errd = np.nanmean(directionality - dtmp_norm) ** 2\n"
     ]
    },
    {
     "name": "stdout",
     "output_type": "stream",
     "text": [
      "29/47 trial, CA1, 42/77 field\n",
      "29/47 trial, CA1, 43/77 field\n",
      "29/47 trial, CA1, 44/77 field\n",
      "29/47 trial, CA1, 45/77 field\n",
      "29/47 trial, CA1, 46/77 field\n",
      "29/47 trial, CA1, 47/77 field\n",
      "29/47 trial, CA1, 48/77 field\n",
      "29/47 trial, CA1, 49/77 field\n",
      "29/47 trial, CA1, 50/77 field\n",
      "29/47 trial, CA1, 51/77 field\n",
      "29/47 trial, CA1, 52/77 field\n",
      "29/47 trial, CA1, 53/77 field\n",
      "29/47 trial, CA1, 54/77 field\n",
      "29/47 trial, CA1, 55/77 field\n",
      "29/47 trial, CA1, 56/77 field\n",
      "29/47 trial, CA1, 57/77 field\n",
      "29/47 trial, CA1, 58/77 field\n",
      "29/47 trial, CA1, 59/77 field\n",
      "29/47 trial, CA1, 60/77 field\n",
      "29/47 trial, CA1, 61/77 field\n",
      "29/47 trial, CA1, 62/77 field\n",
      "29/47 trial, CA1, 63/77 field\n",
      "29/47 trial, CA1, 64/77 field\n",
      "29/47 trial, CA1, 65/77 field\n",
      "29/47 trial, CA1, 66/77 field\n",
      "29/47 trial, CA1, 67/77 field\n",
      "29/47 trial, CA1, 68/77 field\n",
      "29/47 trial, CA1, 69/77 field\n",
      "29/47 trial, CA1, 70/77 field\n",
      "29/47 trial, CA1, 71/77 field\n",
      "29/47 trial, CA1, 72/77 field\n",
      "29/47 trial, CA1, 73/77 field\n",
      "29/47 trial, CA1, 74/77 field\n",
      "29/47 trial, CA1, 75/77 field\n",
      "29/47 trial, CA1, 76/77 field\n"
     ]
    },
    {
     "name": "stderr",
     "output_type": "stream",
     "text": [
      "/home/yiu/projects/hippocampus/common/comput_utils.py:1372: UserWarning: Shuffling window is smaller than the spike train! Using window size = range/5 instead.\n",
      "  warnings.warn(\"Shuffling window is smaller than the spike train! Using window size = range/5 instead.\")\n"
     ]
    },
    {
     "name": "stdout",
     "output_type": "stream",
     "text": [
      "30/47 trial, CA1, 0/32 field\n",
      "30/47 trial, CA1, 1/32 field\n",
      "30/47 trial, CA1, 2/32 field\n",
      "30/47 trial, CA1, 3/32 field\n",
      "30/47 trial, CA1, 4/32 field\n",
      "30/47 trial, CA1, 5/32 field\n",
      "30/47 trial, CA1, 6/32 field\n",
      "30/47 trial, CA1, 7/32 field\n",
      "30/47 trial, CA1, 8/32 field\n",
      "30/47 trial, CA1, 9/32 field\n",
      "30/47 trial, CA1, 10/32 field\n",
      "30/47 trial, CA1, 11/32 field\n",
      "30/47 trial, CA1, 12/32 field\n",
      "30/47 trial, CA1, 13/32 field\n",
      "30/47 trial, CA1, 14/32 field\n",
      "30/47 trial, CA1, 15/32 field\n",
      "30/47 trial, CA1, 16/32 field\n",
      "30/47 trial, CA1, 17/32 field\n",
      "30/47 trial, CA1, 18/32 field\n",
      "30/47 trial, CA1, 19/32 field\n",
      "30/47 trial, CA1, 20/32 field\n"
     ]
    },
    {
     "name": "stderr",
     "output_type": "stream",
     "text": [
      "/home/yiu/projects/hippocampus/common/comput_utils.py:1372: UserWarning: Shuffling window is smaller than the spike train! Using window size = range/5 instead.\n",
      "  warnings.warn(\"Shuffling window is smaller than the spike train! Using window size = range/5 instead.\")\n",
      "/home/yiu/projects/hippocampus/common/comput_utils.py:1217: RuntimeWarning: Mean of empty slice\n",
      "  errd = np.nanmean(directionality - dtmp_norm) ** 2\n"
     ]
    },
    {
     "name": "stdout",
     "output_type": "stream",
     "text": [
      "30/47 trial, CA1, 21/32 field\n",
      "30/47 trial, CA1, 22/32 field\n",
      "30/47 trial, CA1, 23/32 field\n",
      "30/47 trial, CA1, 24/32 field\n",
      "30/47 trial, CA1, 25/32 field\n",
      "30/47 trial, CA1, 26/32 field\n",
      "30/47 trial, CA1, 27/32 field\n",
      "30/47 trial, CA1, 28/32 field\n",
      "30/47 trial, CA1, 29/32 field\n",
      "30/47 trial, CA1, 30/32 field\n",
      "30/47 trial, CA1, 31/32 field\n",
      "30/47 trial, CA3, 0/32 field\n",
      "30/47 trial, CA3, 1/32 field\n",
      "30/47 trial, CA3, 2/32 field\n",
      "30/47 trial, CA3, 3/32 field\n",
      "30/47 trial, CA3, 4/32 field\n",
      "30/47 trial, CA3, 5/32 field\n",
      "30/47 trial, CA3, 6/32 field\n",
      "30/47 trial, CA3, 7/32 field\n",
      "30/47 trial, CA3, 8/32 field\n",
      "30/47 trial, CA3, 9/32 field\n",
      "30/47 trial, CA3, 10/32 field\n",
      "30/47 trial, CA3, 11/32 field\n",
      "30/47 trial, CA3, 12/32 field\n",
      "30/47 trial, CA3, 13/32 field\n",
      "30/47 trial, CA3, 14/32 field\n",
      "30/47 trial, CA3, 15/32 field\n",
      "30/47 trial, CA3, 16/32 field\n",
      "30/47 trial, CA3, 17/32 field\n",
      "30/47 trial, CA3, 18/32 field\n",
      "30/47 trial, CA3, 19/32 field\n",
      "30/47 trial, CA3, 20/32 field\n"
     ]
    },
    {
     "name": "stderr",
     "output_type": "stream",
     "text": [
      "/home/yiu/projects/hippocampus/common/comput_utils.py:1372: UserWarning: Shuffling window is smaller than the spike train! Using window size = range/5 instead.\n",
      "  warnings.warn(\"Shuffling window is smaller than the spike train! Using window size = range/5 instead.\")\n",
      "/home/yiu/projects/hippocampus/common/comput_utils.py:1217: RuntimeWarning: Mean of empty slice\n",
      "  errd = np.nanmean(directionality - dtmp_norm) ** 2\n"
     ]
    },
    {
     "name": "stdout",
     "output_type": "stream",
     "text": [
      "30/47 trial, CA3, 21/32 field\n",
      "30/47 trial, CA3, 22/32 field\n",
      "30/47 trial, CA3, 23/32 field\n",
      "30/47 trial, CA3, 24/32 field\n",
      "30/47 trial, CA3, 25/32 field\n",
      "30/47 trial, CA3, 26/32 field\n",
      "30/47 trial, CA3, 27/32 field\n",
      "30/47 trial, CA3, 28/32 field\n",
      "30/47 trial, CA3, 29/32 field\n",
      "30/47 trial, CA3, 30/32 field\n",
      "30/47 trial, CA3, 31/32 field\n",
      "31/47 trial, CA1, 0/18 field\n",
      "31/47 trial, CA1, 1/18 field\n",
      "31/47 trial, CA1, 2/18 field\n",
      "31/47 trial, CA1, 3/18 field\n",
      "31/47 trial, CA1, 4/18 field\n",
      "31/47 trial, CA1, 5/18 field\n",
      "31/47 trial, CA1, 6/18 field\n",
      "31/47 trial, CA1, 7/18 field\n"
     ]
    },
    {
     "name": "stderr",
     "output_type": "stream",
     "text": [
      "/home/yiu/projects/hippocampus/common/comput_utils.py:1372: UserWarning: Shuffling window is smaller than the spike train! Using window size = range/5 instead.\n",
      "  warnings.warn(\"Shuffling window is smaller than the spike train! Using window size = range/5 instead.\")\n"
     ]
    },
    {
     "name": "stdout",
     "output_type": "stream",
     "text": [
      "31/47 trial, CA1, 8/18 field\n",
      "31/47 trial, CA1, 9/18 field\n",
      "31/47 trial, CA1, 10/18 field\n",
      "31/47 trial, CA1, 11/18 field\n",
      "31/47 trial, CA1, 12/18 field\n",
      "31/47 trial, CA1, 13/18 field\n",
      "31/47 trial, CA1, 14/18 field\n",
      "31/47 trial, CA1, 15/18 field\n",
      "31/47 trial, CA1, 16/18 field\n",
      "31/47 trial, CA1, 17/18 field\n",
      "31/47 trial, CA3, 0/18 field\n",
      "31/47 trial, CA3, 1/18 field\n",
      "31/47 trial, CA3, 2/18 field\n",
      "31/47 trial, CA3, 3/18 field\n",
      "31/47 trial, CA3, 4/18 field\n",
      "31/47 trial, CA3, 5/18 field\n",
      "31/47 trial, CA3, 6/18 field\n",
      "31/47 trial, CA3, 7/18 field\n"
     ]
    },
    {
     "name": "stderr",
     "output_type": "stream",
     "text": [
      "/home/yiu/projects/hippocampus/common/comput_utils.py:1372: UserWarning: Shuffling window is smaller than the spike train! Using window size = range/5 instead.\n",
      "  warnings.warn(\"Shuffling window is smaller than the spike train! Using window size = range/5 instead.\")\n"
     ]
    },
    {
     "name": "stdout",
     "output_type": "stream",
     "text": [
      "31/47 trial, CA3, 8/18 field\n",
      "31/47 trial, CA3, 9/18 field\n",
      "31/47 trial, CA3, 10/18 field\n",
      "31/47 trial, CA3, 11/18 field\n",
      "31/47 trial, CA3, 12/18 field\n",
      "31/47 trial, CA3, 13/18 field\n",
      "31/47 trial, CA3, 14/18 field\n",
      "31/47 trial, CA3, 15/18 field\n",
      "31/47 trial, CA3, 16/18 field\n",
      "31/47 trial, CA3, 17/18 field\n",
      "32/47 trial, CA1, 0/32 field\n",
      "32/47 trial, CA1, 1/32 field\n",
      "32/47 trial, CA1, 2/32 field\n",
      "32/47 trial, CA1, 3/32 field\n",
      "32/47 trial, CA1, 4/32 field\n",
      "32/47 trial, CA1, 5/32 field\n",
      "32/47 trial, CA1, 6/32 field\n",
      "32/47 trial, CA1, 7/32 field\n",
      "32/47 trial, CA1, 8/32 field\n",
      "32/47 trial, CA1, 9/32 field\n",
      "32/47 trial, CA1, 10/32 field\n",
      "32/47 trial, CA1, 11/32 field\n",
      "32/47 trial, CA1, 12/32 field\n",
      "32/47 trial, CA1, 13/32 field\n",
      "32/47 trial, CA1, 14/32 field\n",
      "32/47 trial, CA1, 15/32 field\n",
      "32/47 trial, CA1, 16/32 field\n",
      "32/47 trial, CA1, 17/32 field\n",
      "32/47 trial, CA1, 18/32 field\n",
      "32/47 trial, CA1, 19/32 field\n",
      "32/47 trial, CA1, 20/32 field\n",
      "32/47 trial, CA1, 21/32 field\n",
      "32/47 trial, CA1, 22/32 field\n",
      "32/47 trial, CA1, 23/32 field\n",
      "32/47 trial, CA1, 24/32 field\n",
      "32/47 trial, CA1, 25/32 field\n",
      "32/47 trial, CA1, 26/32 field\n",
      "32/47 trial, CA1, 27/32 field\n",
      "32/47 trial, CA1, 28/32 field\n",
      "32/47 trial, CA1, 29/32 field\n",
      "32/47 trial, CA1, 30/32 field\n",
      "32/47 trial, CA1, 31/32 field\n",
      "32/47 trial, CA3, 0/32 field\n",
      "32/47 trial, CA3, 1/32 field\n",
      "32/47 trial, CA3, 2/32 field\n",
      "32/47 trial, CA3, 3/32 field\n",
      "32/47 trial, CA3, 4/32 field\n",
      "32/47 trial, CA3, 5/32 field\n",
      "32/47 trial, CA3, 6/32 field\n",
      "32/47 trial, CA3, 7/32 field\n",
      "32/47 trial, CA3, 8/32 field\n",
      "32/47 trial, CA3, 9/32 field\n",
      "32/47 trial, CA3, 10/32 field\n",
      "32/47 trial, CA3, 11/32 field\n",
      "32/47 trial, CA3, 12/32 field\n",
      "32/47 trial, CA3, 13/32 field\n",
      "32/47 trial, CA3, 14/32 field\n",
      "32/47 trial, CA3, 15/32 field\n",
      "32/47 trial, CA3, 16/32 field\n",
      "32/47 trial, CA3, 17/32 field\n",
      "32/47 trial, CA3, 18/32 field\n",
      "32/47 trial, CA3, 19/32 field\n",
      "32/47 trial, CA3, 20/32 field\n",
      "32/47 trial, CA3, 21/32 field\n",
      "32/47 trial, CA3, 22/32 field\n",
      "32/47 trial, CA3, 23/32 field\n",
      "32/47 trial, CA3, 24/32 field\n",
      "32/47 trial, CA3, 25/32 field\n",
      "32/47 trial, CA3, 26/32 field\n",
      "32/47 trial, CA3, 27/32 field\n",
      "32/47 trial, CA3, 28/32 field\n",
      "32/47 trial, CA3, 29/32 field\n",
      "32/47 trial, CA3, 30/32 field\n",
      "32/47 trial, CA3, 31/32 field\n",
      "33/47 trial, CA1, 0/73 field\n",
      "33/47 trial, CA1, 1/73 field\n",
      "33/47 trial, CA1, 2/73 field\n",
      "33/47 trial, CA1, 3/73 field\n",
      "33/47 trial, CA1, 4/73 field\n",
      "33/47 trial, CA1, 5/73 field\n",
      "33/47 trial, CA1, 6/73 field\n",
      "33/47 trial, CA1, 7/73 field\n",
      "33/47 trial, CA1, 8/73 field\n"
     ]
    },
    {
     "name": "stderr",
     "output_type": "stream",
     "text": [
      "/home/yiu/projects/hippocampus/common/comput_utils.py:1372: UserWarning: Shuffling window is smaller than the spike train! Using window size = range/5 instead.\n",
      "  warnings.warn(\"Shuffling window is smaller than the spike train! Using window size = range/5 instead.\")\n"
     ]
    },
    {
     "name": "stdout",
     "output_type": "stream",
     "text": [
      "33/47 trial, CA1, 9/73 field\n",
      "33/47 trial, CA1, 10/73 field\n",
      "33/47 trial, CA1, 11/73 field\n"
     ]
    },
    {
     "name": "stderr",
     "output_type": "stream",
     "text": [
      "/home/yiu/projects/hippocampus/common/comput_utils.py:1372: UserWarning: Shuffling window is smaller than the spike train! Using window size = range/5 instead.\n",
      "  warnings.warn(\"Shuffling window is smaller than the spike train! Using window size = range/5 instead.\")\n"
     ]
    },
    {
     "name": "stdout",
     "output_type": "stream",
     "text": [
      "33/47 trial, CA1, 12/73 field\n"
     ]
    },
    {
     "name": "stderr",
     "output_type": "stream",
     "text": [
      "/home/yiu/projects/hippocampus/common/comput_utils.py:1372: UserWarning: Shuffling window is smaller than the spike train! Using window size = range/5 instead.\n",
      "  warnings.warn(\"Shuffling window is smaller than the spike train! Using window size = range/5 instead.\")\n"
     ]
    },
    {
     "name": "stdout",
     "output_type": "stream",
     "text": [
      "33/47 trial, CA1, 13/73 field\n",
      "33/47 trial, CA1, 14/73 field\n",
      "33/47 trial, CA1, 15/73 field\n",
      "33/47 trial, CA1, 16/73 field\n",
      "33/47 trial, CA1, 17/73 field\n",
      "33/47 trial, CA1, 18/73 field\n",
      "33/47 trial, CA1, 19/73 field\n",
      "33/47 trial, CA1, 20/73 field\n",
      "33/47 trial, CA1, 21/73 field\n",
      "33/47 trial, CA1, 22/73 field\n",
      "33/47 trial, CA1, 23/73 field\n",
      "33/47 trial, CA1, 24/73 field\n",
      "33/47 trial, CA1, 25/73 field\n",
      "33/47 trial, CA1, 26/73 field\n",
      "33/47 trial, CA1, 27/73 field\n",
      "33/47 trial, CA1, 28/73 field\n",
      "33/47 trial, CA1, 29/73 field\n",
      "33/47 trial, CA1, 30/73 field\n",
      "33/47 trial, CA1, 31/73 field\n",
      "33/47 trial, CA1, 32/73 field\n",
      "33/47 trial, CA1, 33/73 field\n",
      "33/47 trial, CA1, 34/73 field\n",
      "33/47 trial, CA1, 35/73 field\n",
      "33/47 trial, CA1, 36/73 field\n",
      "33/47 trial, CA1, 37/73 field\n",
      "33/47 trial, CA1, 38/73 field\n"
     ]
    },
    {
     "name": "stderr",
     "output_type": "stream",
     "text": [
      "/home/yiu/projects/hippocampus/common/comput_utils.py:1372: UserWarning: Shuffling window is smaller than the spike train! Using window size = range/5 instead.\n",
      "  warnings.warn(\"Shuffling window is smaller than the spike train! Using window size = range/5 instead.\")\n"
     ]
    },
    {
     "name": "stdout",
     "output_type": "stream",
     "text": [
      "33/47 trial, CA1, 39/73 field\n",
      "33/47 trial, CA1, 40/73 field\n",
      "33/47 trial, CA1, 41/73 field\n",
      "33/47 trial, CA1, 42/73 field\n",
      "33/47 trial, CA1, 43/73 field\n",
      "33/47 trial, CA1, 44/73 field\n",
      "33/47 trial, CA1, 45/73 field\n",
      "33/47 trial, CA1, 46/73 field\n",
      "33/47 trial, CA1, 47/73 field\n",
      "33/47 trial, CA1, 48/73 field\n"
     ]
    },
    {
     "name": "stderr",
     "output_type": "stream",
     "text": [
      "/home/yiu/projects/hippocampus/common/comput_utils.py:1372: UserWarning: Shuffling window is smaller than the spike train! Using window size = range/5 instead.\n",
      "  warnings.warn(\"Shuffling window is smaller than the spike train! Using window size = range/5 instead.\")\n"
     ]
    },
    {
     "name": "stdout",
     "output_type": "stream",
     "text": [
      "33/47 trial, CA1, 49/73 field\n",
      "33/47 trial, CA1, 50/73 field\n",
      "33/47 trial, CA1, 51/73 field\n",
      "33/47 trial, CA1, 52/73 field\n",
      "33/47 trial, CA1, 53/73 field\n",
      "33/47 trial, CA1, 54/73 field\n",
      "33/47 trial, CA1, 55/73 field\n",
      "33/47 trial, CA1, 56/73 field\n",
      "33/47 trial, CA1, 57/73 field\n",
      "33/47 trial, CA1, 58/73 field\n",
      "33/47 trial, CA1, 59/73 field\n"
     ]
    },
    {
     "name": "stderr",
     "output_type": "stream",
     "text": [
      "/home/yiu/projects/hippocampus/common/comput_utils.py:1372: UserWarning: Shuffling window is smaller than the spike train! Using window size = range/5 instead.\n",
      "  warnings.warn(\"Shuffling window is smaller than the spike train! Using window size = range/5 instead.\")\n"
     ]
    },
    {
     "name": "stdout",
     "output_type": "stream",
     "text": [
      "33/47 trial, CA1, 60/73 field\n",
      "33/47 trial, CA1, 61/73 field\n",
      "33/47 trial, CA1, 62/73 field\n",
      "33/47 trial, CA1, 63/73 field\n",
      "33/47 trial, CA1, 64/73 field\n",
      "33/47 trial, CA1, 65/73 field\n",
      "33/47 trial, CA1, 66/73 field\n",
      "33/47 trial, CA1, 67/73 field\n",
      "33/47 trial, CA1, 68/73 field\n",
      "33/47 trial, CA1, 69/73 field\n",
      "33/47 trial, CA1, 70/73 field\n",
      "33/47 trial, CA1, 71/73 field\n",
      "33/47 trial, CA1, 72/73 field\n",
      "33/47 trial, CA3, 0/73 field\n",
      "33/47 trial, CA3, 1/73 field\n",
      "33/47 trial, CA3, 2/73 field\n",
      "33/47 trial, CA3, 3/73 field\n",
      "33/47 trial, CA3, 4/73 field\n",
      "33/47 trial, CA3, 5/73 field\n",
      "33/47 trial, CA3, 6/73 field\n",
      "33/47 trial, CA3, 7/73 field\n",
      "33/47 trial, CA3, 8/73 field\n"
     ]
    },
    {
     "name": "stderr",
     "output_type": "stream",
     "text": [
      "/home/yiu/projects/hippocampus/common/comput_utils.py:1372: UserWarning: Shuffling window is smaller than the spike train! Using window size = range/5 instead.\n",
      "  warnings.warn(\"Shuffling window is smaller than the spike train! Using window size = range/5 instead.\")\n"
     ]
    },
    {
     "name": "stdout",
     "output_type": "stream",
     "text": [
      "33/47 trial, CA3, 9/73 field\n",
      "33/47 trial, CA3, 10/73 field\n",
      "33/47 trial, CA3, 11/73 field\n"
     ]
    },
    {
     "name": "stderr",
     "output_type": "stream",
     "text": [
      "/home/yiu/projects/hippocampus/common/comput_utils.py:1372: UserWarning: Shuffling window is smaller than the spike train! Using window size = range/5 instead.\n",
      "  warnings.warn(\"Shuffling window is smaller than the spike train! Using window size = range/5 instead.\")\n"
     ]
    },
    {
     "name": "stdout",
     "output_type": "stream",
     "text": [
      "33/47 trial, CA3, 12/73 field\n"
     ]
    },
    {
     "name": "stderr",
     "output_type": "stream",
     "text": [
      "/home/yiu/projects/hippocampus/common/comput_utils.py:1372: UserWarning: Shuffling window is smaller than the spike train! Using window size = range/5 instead.\n",
      "  warnings.warn(\"Shuffling window is smaller than the spike train! Using window size = range/5 instead.\")\n"
     ]
    },
    {
     "name": "stdout",
     "output_type": "stream",
     "text": [
      "33/47 trial, CA3, 13/73 field\n",
      "33/47 trial, CA3, 14/73 field\n",
      "33/47 trial, CA3, 15/73 field\n",
      "33/47 trial, CA3, 16/73 field\n",
      "33/47 trial, CA3, 17/73 field\n",
      "33/47 trial, CA3, 18/73 field\n",
      "33/47 trial, CA3, 19/73 field\n",
      "33/47 trial, CA3, 20/73 field\n",
      "33/47 trial, CA3, 21/73 field\n",
      "33/47 trial, CA3, 22/73 field\n",
      "33/47 trial, CA3, 23/73 field\n",
      "33/47 trial, CA3, 24/73 field\n",
      "33/47 trial, CA3, 25/73 field\n",
      "33/47 trial, CA3, 26/73 field\n",
      "33/47 trial, CA3, 27/73 field\n",
      "33/47 trial, CA3, 28/73 field\n",
      "33/47 trial, CA3, 29/73 field\n",
      "33/47 trial, CA3, 30/73 field\n",
      "33/47 trial, CA3, 31/73 field\n",
      "33/47 trial, CA3, 32/73 field\n",
      "33/47 trial, CA3, 33/73 field\n",
      "33/47 trial, CA3, 34/73 field\n",
      "33/47 trial, CA3, 35/73 field\n",
      "33/47 trial, CA3, 36/73 field\n",
      "33/47 trial, CA3, 37/73 field\n",
      "33/47 trial, CA3, 38/73 field\n"
     ]
    },
    {
     "name": "stderr",
     "output_type": "stream",
     "text": [
      "/home/yiu/projects/hippocampus/common/comput_utils.py:1372: UserWarning: Shuffling window is smaller than the spike train! Using window size = range/5 instead.\n",
      "  warnings.warn(\"Shuffling window is smaller than the spike train! Using window size = range/5 instead.\")\n"
     ]
    },
    {
     "name": "stdout",
     "output_type": "stream",
     "text": [
      "33/47 trial, CA3, 39/73 field\n",
      "33/47 trial, CA3, 40/73 field\n",
      "33/47 trial, CA3, 41/73 field\n",
      "33/47 trial, CA3, 42/73 field\n",
      "33/47 trial, CA3, 43/73 field\n",
      "33/47 trial, CA3, 44/73 field\n",
      "33/47 trial, CA3, 45/73 field\n",
      "33/47 trial, CA3, 46/73 field\n",
      "33/47 trial, CA3, 47/73 field\n",
      "33/47 trial, CA3, 48/73 field\n"
     ]
    },
    {
     "name": "stderr",
     "output_type": "stream",
     "text": [
      "/home/yiu/projects/hippocampus/common/comput_utils.py:1372: UserWarning: Shuffling window is smaller than the spike train! Using window size = range/5 instead.\n",
      "  warnings.warn(\"Shuffling window is smaller than the spike train! Using window size = range/5 instead.\")\n"
     ]
    },
    {
     "name": "stdout",
     "output_type": "stream",
     "text": [
      "33/47 trial, CA3, 49/73 field\n",
      "33/47 trial, CA3, 50/73 field\n",
      "33/47 trial, CA3, 51/73 field\n",
      "33/47 trial, CA3, 52/73 field\n",
      "33/47 trial, CA3, 53/73 field\n",
      "33/47 trial, CA3, 54/73 field\n",
      "33/47 trial, CA3, 55/73 field\n",
      "33/47 trial, CA3, 56/73 field\n",
      "33/47 trial, CA3, 57/73 field\n",
      "33/47 trial, CA3, 58/73 field\n",
      "33/47 trial, CA3, 59/73 field\n"
     ]
    },
    {
     "name": "stderr",
     "output_type": "stream",
     "text": [
      "/home/yiu/projects/hippocampus/common/comput_utils.py:1372: UserWarning: Shuffling window is smaller than the spike train! Using window size = range/5 instead.\n",
      "  warnings.warn(\"Shuffling window is smaller than the spike train! Using window size = range/5 instead.\")\n"
     ]
    },
    {
     "name": "stdout",
     "output_type": "stream",
     "text": [
      "33/47 trial, CA3, 60/73 field\n",
      "33/47 trial, CA3, 61/73 field\n",
      "33/47 trial, CA3, 62/73 field\n",
      "33/47 trial, CA3, 63/73 field\n",
      "33/47 trial, CA3, 64/73 field\n",
      "33/47 trial, CA3, 65/73 field\n",
      "33/47 trial, CA3, 66/73 field\n",
      "33/47 trial, CA3, 67/73 field\n",
      "33/47 trial, CA3, 68/73 field\n",
      "33/47 trial, CA3, 69/73 field\n",
      "33/47 trial, CA3, 70/73 field\n",
      "33/47 trial, CA3, 71/73 field\n",
      "33/47 trial, CA3, 72/73 field\n",
      "34/47 trial, CA1, 0/26 field\n",
      "34/47 trial, CA1, 1/26 field\n",
      "34/47 trial, CA1, 2/26 field\n",
      "34/47 trial, CA1, 3/26 field\n",
      "34/47 trial, CA1, 4/26 field\n",
      "34/47 trial, CA1, 5/26 field\n",
      "34/47 trial, CA1, 6/26 field\n",
      "34/47 trial, CA1, 7/26 field\n",
      "34/47 trial, CA1, 8/26 field\n"
     ]
    },
    {
     "name": "stderr",
     "output_type": "stream",
     "text": [
      "/home/yiu/projects/hippocampus/common/comput_utils.py:1372: UserWarning: Shuffling window is smaller than the spike train! Using window size = range/5 instead.\n",
      "  warnings.warn(\"Shuffling window is smaller than the spike train! Using window size = range/5 instead.\")\n",
      "/home/yiu/projects/hippocampus/common/comput_utils.py:1217: RuntimeWarning: Mean of empty slice\n",
      "  errd = np.nanmean(directionality - dtmp_norm) ** 2\n",
      "/home/yiu/projects/hippocampus/common/comput_utils.py:1218: RuntimeWarning: Mean of empty slice\n",
      "  errp = np.nanmean(positionality - ptmp_norm) ** 2\n"
     ]
    },
    {
     "name": "stdout",
     "output_type": "stream",
     "text": [
      "34/47 trial, CA1, 9/26 field\n",
      "34/47 trial, CA1, 10/26 field\n",
      "34/47 trial, CA1, 11/26 field\n",
      "34/47 trial, CA1, 12/26 field\n",
      "34/47 trial, CA1, 13/26 field\n",
      "34/47 trial, CA1, 14/26 field\n"
     ]
    },
    {
     "name": "stderr",
     "output_type": "stream",
     "text": [
      "/home/yiu/projects/hippocampus/common/comput_utils.py:1217: RuntimeWarning: Mean of empty slice\n",
      "  errd = np.nanmean(directionality - dtmp_norm) ** 2\n",
      "/home/yiu/projects/hippocampus/common/comput_utils.py:1218: RuntimeWarning: Mean of empty slice\n",
      "  errp = np.nanmean(positionality - ptmp_norm) ** 2\n"
     ]
    },
    {
     "name": "stdout",
     "output_type": "stream",
     "text": [
      "34/47 trial, CA1, 15/26 field\n",
      "34/47 trial, CA1, 16/26 field\n",
      "34/47 trial, CA1, 17/26 field\n",
      "34/47 trial, CA1, 18/26 field\n"
     ]
    },
    {
     "name": "stderr",
     "output_type": "stream",
     "text": [
      "/home/yiu/projects/hippocampus/common/comput_utils.py:1372: UserWarning: Shuffling window is smaller than the spike train! Using window size = range/5 instead.\n",
      "  warnings.warn(\"Shuffling window is smaller than the spike train! Using window size = range/5 instead.\")\n"
     ]
    },
    {
     "name": "stdout",
     "output_type": "stream",
     "text": [
      "34/47 trial, CA1, 19/26 field\n",
      "34/47 trial, CA1, 20/26 field\n",
      "34/47 trial, CA1, 21/26 field\n",
      "34/47 trial, CA1, 22/26 field\n",
      "34/47 trial, CA1, 23/26 field\n",
      "34/47 trial, CA1, 24/26 field\n",
      "34/47 trial, CA1, 25/26 field\n",
      "35/47 trial, CA1, 0/24 field\n",
      "35/47 trial, CA1, 1/24 field\n",
      "35/47 trial, CA1, 2/24 field\n",
      "35/47 trial, CA1, 3/24 field\n",
      "35/47 trial, CA1, 4/24 field\n",
      "35/47 trial, CA1, 5/24 field\n",
      "35/47 trial, CA1, 6/24 field\n",
      "35/47 trial, CA1, 7/24 field\n",
      "35/47 trial, CA1, 8/24 field\n",
      "35/47 trial, CA1, 9/24 field\n",
      "35/47 trial, CA1, 10/24 field\n",
      "35/47 trial, CA1, 11/24 field\n",
      "35/47 trial, CA1, 12/24 field\n",
      "35/47 trial, CA1, 13/24 field\n",
      "35/47 trial, CA1, 14/24 field\n",
      "35/47 trial, CA1, 15/24 field\n",
      "35/47 trial, CA1, 16/24 field\n",
      "35/47 trial, CA1, 17/24 field\n",
      "35/47 trial, CA1, 18/24 field\n",
      "35/47 trial, CA1, 19/24 field\n",
      "35/47 trial, CA1, 20/24 field\n",
      "35/47 trial, CA1, 21/24 field\n",
      "35/47 trial, CA1, 22/24 field\n",
      "35/47 trial, CA1, 23/24 field\n",
      "36/47 trial, CA1, 0/40 field\n",
      "36/47 trial, CA1, 1/40 field\n",
      "36/47 trial, CA1, 2/40 field\n",
      "36/47 trial, CA1, 3/40 field\n",
      "36/47 trial, CA1, 4/40 field\n",
      "36/47 trial, CA1, 5/40 field\n",
      "36/47 trial, CA1, 6/40 field\n",
      "36/47 trial, CA1, 7/40 field\n",
      "36/47 trial, CA1, 8/40 field\n",
      "36/47 trial, CA1, 9/40 field\n",
      "36/47 trial, CA1, 10/40 field\n",
      "36/47 trial, CA1, 11/40 field\n",
      "36/47 trial, CA1, 12/40 field\n",
      "36/47 trial, CA1, 13/40 field\n",
      "36/47 trial, CA1, 14/40 field\n",
      "36/47 trial, CA1, 15/40 field\n",
      "36/47 trial, CA1, 16/40 field\n",
      "36/47 trial, CA1, 17/40 field\n",
      "36/47 trial, CA1, 18/40 field\n",
      "36/47 trial, CA1, 19/40 field\n",
      "36/47 trial, CA1, 20/40 field\n",
      "36/47 trial, CA1, 21/40 field\n",
      "36/47 trial, CA1, 22/40 field\n",
      "36/47 trial, CA1, 23/40 field\n",
      "36/47 trial, CA1, 24/40 field\n",
      "36/47 trial, CA1, 25/40 field\n",
      "36/47 trial, CA1, 26/40 field\n",
      "36/47 trial, CA1, 27/40 field\n",
      "36/47 trial, CA1, 28/40 field\n",
      "36/47 trial, CA1, 29/40 field\n"
     ]
    },
    {
     "name": "stderr",
     "output_type": "stream",
     "text": [
      "/home/yiu/projects/hippocampus/common/comput_utils.py:1372: UserWarning: Shuffling window is smaller than the spike train! Using window size = range/5 instead.\n",
      "  warnings.warn(\"Shuffling window is smaller than the spike train! Using window size = range/5 instead.\")\n"
     ]
    },
    {
     "name": "stdout",
     "output_type": "stream",
     "text": [
      "36/47 trial, CA1, 30/40 field\n",
      "36/47 trial, CA1, 31/40 field\n",
      "36/47 trial, CA1, 32/40 field\n",
      "36/47 trial, CA1, 33/40 field\n",
      "36/47 trial, CA1, 34/40 field\n",
      "36/47 trial, CA1, 35/40 field\n",
      "36/47 trial, CA1, 36/40 field\n",
      "36/47 trial, CA1, 37/40 field\n",
      "36/47 trial, CA1, 38/40 field\n",
      "36/47 trial, CA1, 39/40 field\n",
      "37/47 trial, CA1, 0/114 field\n",
      "37/47 trial, CA1, 1/114 field\n",
      "37/47 trial, CA1, 2/114 field\n",
      "37/47 trial, CA1, 3/114 field\n",
      "37/47 trial, CA1, 4/114 field\n",
      "37/47 trial, CA1, 5/114 field\n",
      "37/47 trial, CA1, 6/114 field\n",
      "37/47 trial, CA1, 7/114 field\n",
      "37/47 trial, CA1, 8/114 field\n",
      "37/47 trial, CA1, 9/114 field\n",
      "37/47 trial, CA1, 10/114 field\n",
      "37/47 trial, CA1, 11/114 field\n",
      "37/47 trial, CA1, 12/114 field\n",
      "37/47 trial, CA1, 13/114 field\n",
      "37/47 trial, CA1, 14/114 field\n",
      "37/47 trial, CA1, 15/114 field\n",
      "37/47 trial, CA1, 16/114 field\n",
      "37/47 trial, CA1, 17/114 field\n",
      "37/47 trial, CA1, 18/114 field\n",
      "37/47 trial, CA1, 19/114 field\n",
      "37/47 trial, CA1, 20/114 field\n",
      "37/47 trial, CA1, 21/114 field\n",
      "37/47 trial, CA1, 22/114 field\n",
      "37/47 trial, CA1, 23/114 field\n",
      "37/47 trial, CA1, 24/114 field\n",
      "37/47 trial, CA1, 25/114 field\n",
      "37/47 trial, CA1, 26/114 field\n",
      "37/47 trial, CA1, 27/114 field\n",
      "37/47 trial, CA1, 28/114 field\n",
      "37/47 trial, CA1, 29/114 field\n",
      "37/47 trial, CA1, 30/114 field\n",
      "37/47 trial, CA1, 31/114 field\n",
      "37/47 trial, CA1, 32/114 field\n",
      "37/47 trial, CA1, 33/114 field\n",
      "37/47 trial, CA1, 34/114 field\n",
      "37/47 trial, CA1, 35/114 field\n",
      "37/47 trial, CA1, 36/114 field\n",
      "37/47 trial, CA1, 37/114 field\n",
      "37/47 trial, CA1, 38/114 field\n",
      "37/47 trial, CA1, 39/114 field\n",
      "37/47 trial, CA1, 40/114 field\n",
      "37/47 trial, CA1, 41/114 field\n",
      "37/47 trial, CA1, 42/114 field\n",
      "37/47 trial, CA1, 43/114 field\n",
      "37/47 trial, CA1, 44/114 field\n",
      "37/47 trial, CA1, 45/114 field\n",
      "37/47 trial, CA1, 46/114 field\n",
      "37/47 trial, CA1, 47/114 field\n",
      "37/47 trial, CA1, 48/114 field\n",
      "37/47 trial, CA1, 49/114 field\n",
      "37/47 trial, CA1, 50/114 field\n",
      "37/47 trial, CA1, 51/114 field\n",
      "37/47 trial, CA1, 52/114 field\n",
      "37/47 trial, CA1, 53/114 field\n",
      "37/47 trial, CA1, 54/114 field\n",
      "37/47 trial, CA1, 55/114 field\n",
      "37/47 trial, CA1, 56/114 field\n",
      "37/47 trial, CA1, 57/114 field\n",
      "37/47 trial, CA1, 58/114 field\n",
      "37/47 trial, CA1, 59/114 field\n",
      "37/47 trial, CA1, 60/114 field\n",
      "37/47 trial, CA1, 61/114 field\n",
      "37/47 trial, CA1, 62/114 field\n",
      "37/47 trial, CA1, 63/114 field\n",
      "37/47 trial, CA1, 64/114 field\n",
      "37/47 trial, CA1, 65/114 field\n",
      "37/47 trial, CA1, 66/114 field\n"
     ]
    },
    {
     "name": "stderr",
     "output_type": "stream",
     "text": [
      "/home/yiu/projects/hippocampus/common/comput_utils.py:1372: UserWarning: Shuffling window is smaller than the spike train! Using window size = range/5 instead.\n",
      "  warnings.warn(\"Shuffling window is smaller than the spike train! Using window size = range/5 instead.\")\n"
     ]
    },
    {
     "name": "stdout",
     "output_type": "stream",
     "text": [
      "37/47 trial, CA1, 67/114 field\n",
      "37/47 trial, CA1, 68/114 field\n",
      "37/47 trial, CA1, 69/114 field\n",
      "37/47 trial, CA1, 70/114 field\n",
      "37/47 trial, CA1, 71/114 field\n",
      "37/47 trial, CA1, 72/114 field\n",
      "37/47 trial, CA1, 73/114 field\n",
      "37/47 trial, CA1, 74/114 field\n",
      "37/47 trial, CA1, 75/114 field\n",
      "37/47 trial, CA1, 76/114 field\n",
      "37/47 trial, CA1, 77/114 field\n",
      "37/47 trial, CA1, 78/114 field\n",
      "37/47 trial, CA1, 79/114 field\n",
      "37/47 trial, CA1, 80/114 field\n",
      "37/47 trial, CA1, 81/114 field\n",
      "37/47 trial, CA1, 82/114 field\n",
      "37/47 trial, CA1, 83/114 field\n",
      "37/47 trial, CA1, 84/114 field\n",
      "37/47 trial, CA1, 85/114 field\n",
      "37/47 trial, CA1, 86/114 field\n",
      "37/47 trial, CA1, 87/114 field\n",
      "37/47 trial, CA1, 88/114 field\n",
      "37/47 trial, CA1, 89/114 field\n"
     ]
    },
    {
     "name": "stderr",
     "output_type": "stream",
     "text": [
      "/home/yiu/projects/hippocampus/common/comput_utils.py:1372: UserWarning: Shuffling window is smaller than the spike train! Using window size = range/5 instead.\n",
      "  warnings.warn(\"Shuffling window is smaller than the spike train! Using window size = range/5 instead.\")\n",
      "/home/yiu/projects/hippocampus/common/comput_utils.py:1217: RuntimeWarning: Mean of empty slice\n",
      "  errd = np.nanmean(directionality - dtmp_norm) ** 2\n"
     ]
    },
    {
     "name": "stdout",
     "output_type": "stream",
     "text": [
      "37/47 trial, CA1, 90/114 field\n",
      "37/47 trial, CA1, 91/114 field\n",
      "37/47 trial, CA1, 92/114 field\n",
      "37/47 trial, CA1, 93/114 field\n",
      "37/47 trial, CA1, 94/114 field\n",
      "37/47 trial, CA1, 95/114 field\n",
      "37/47 trial, CA1, 96/114 field\n",
      "37/47 trial, CA1, 97/114 field\n",
      "37/47 trial, CA1, 98/114 field\n",
      "37/47 trial, CA1, 99/114 field\n",
      "37/47 trial, CA1, 100/114 field\n",
      "37/47 trial, CA1, 101/114 field\n",
      "37/47 trial, CA1, 102/114 field\n",
      "37/47 trial, CA1, 103/114 field\n",
      "37/47 trial, CA1, 104/114 field\n"
     ]
    },
    {
     "name": "stderr",
     "output_type": "stream",
     "text": [
      "/home/yiu/projects/hippocampus/common/comput_utils.py:1372: UserWarning: Shuffling window is smaller than the spike train! Using window size = range/5 instead.\n",
      "  warnings.warn(\"Shuffling window is smaller than the spike train! Using window size = range/5 instead.\")\n"
     ]
    },
    {
     "name": "stdout",
     "output_type": "stream",
     "text": [
      "37/47 trial, CA1, 105/114 field\n",
      "37/47 trial, CA1, 106/114 field\n",
      "37/47 trial, CA1, 107/114 field\n",
      "37/47 trial, CA1, 108/114 field\n",
      "37/47 trial, CA1, 109/114 field\n",
      "37/47 trial, CA1, 110/114 field\n",
      "37/47 trial, CA1, 111/114 field\n",
      "37/47 trial, CA1, 112/114 field\n",
      "37/47 trial, CA1, 113/114 field\n",
      "38/47 trial, CA3, 0/7 field\n",
      "38/47 trial, CA3, 1/7 field\n",
      "38/47 trial, CA3, 2/7 field\n",
      "38/47 trial, CA3, 3/7 field\n",
      "38/47 trial, CA3, 4/7 field\n",
      "38/47 trial, CA3, 5/7 field\n",
      "38/47 trial, CA3, 6/7 field\n",
      "41/47 trial, CA3, 0/15 field\n",
      "41/47 trial, CA3, 1/15 field\n",
      "41/47 trial, CA3, 2/15 field\n"
     ]
    },
    {
     "name": "stderr",
     "output_type": "stream",
     "text": [
      "/home/yiu/projects/hippocampus/common/comput_utils.py:1372: UserWarning: Shuffling window is smaller than the spike train! Using window size = range/5 instead.\n",
      "  warnings.warn(\"Shuffling window is smaller than the spike train! Using window size = range/5 instead.\")\n",
      "/home/yiu/projects/hippocampus/common/comput_utils.py:1217: RuntimeWarning: Mean of empty slice\n",
      "  errd = np.nanmean(directionality - dtmp_norm) ** 2\n"
     ]
    },
    {
     "name": "stdout",
     "output_type": "stream",
     "text": [
      "41/47 trial, CA3, 3/15 field\n",
      "41/47 trial, CA3, 4/15 field\n",
      "41/47 trial, CA3, 5/15 field\n",
      "41/47 trial, CA3, 6/15 field\n",
      "41/47 trial, CA3, 7/15 field\n",
      "41/47 trial, CA3, 8/15 field\n",
      "41/47 trial, CA3, 9/15 field\n",
      "41/47 trial, CA3, 10/15 field\n",
      "41/47 trial, CA3, 11/15 field\n",
      "41/47 trial, CA3, 12/15 field\n",
      "41/47 trial, CA3, 13/15 field\n",
      "41/47 trial, CA3, 14/15 field\n",
      "42/47 trial, CA3, 0/30 field\n",
      "42/47 trial, CA3, 1/30 field\n",
      "42/47 trial, CA3, 2/30 field\n",
      "42/47 trial, CA3, 3/30 field\n",
      "42/47 trial, CA3, 4/30 field\n",
      "42/47 trial, CA3, 5/30 field\n",
      "42/47 trial, CA3, 6/30 field\n",
      "42/47 trial, CA3, 7/30 field\n",
      "42/47 trial, CA3, 8/30 field\n",
      "42/47 trial, CA3, 9/30 field\n"
     ]
    },
    {
     "name": "stderr",
     "output_type": "stream",
     "text": [
      "/home/yiu/projects/hippocampus/common/comput_utils.py:1372: UserWarning: Shuffling window is smaller than the spike train! Using window size = range/5 instead.\n",
      "  warnings.warn(\"Shuffling window is smaller than the spike train! Using window size = range/5 instead.\")\n"
     ]
    },
    {
     "name": "stdout",
     "output_type": "stream",
     "text": [
      "42/47 trial, CA3, 10/30 field\n",
      "42/47 trial, CA3, 11/30 field\n",
      "42/47 trial, CA3, 12/30 field\n",
      "42/47 trial, CA3, 13/30 field\n",
      "42/47 trial, CA3, 14/30 field\n",
      "42/47 trial, CA3, 15/30 field\n",
      "42/47 trial, CA3, 16/30 field\n",
      "42/47 trial, CA3, 17/30 field\n",
      "42/47 trial, CA3, 18/30 field\n",
      "42/47 trial, CA3, 19/30 field\n",
      "42/47 trial, CA3, 20/30 field\n",
      "42/47 trial, CA3, 21/30 field\n",
      "42/47 trial, CA3, 22/30 field\n",
      "42/47 trial, CA3, 23/30 field\n",
      "42/47 trial, CA3, 24/30 field\n",
      "42/47 trial, CA3, 25/30 field\n",
      "42/47 trial, CA3, 26/30 field\n",
      "42/47 trial, CA3, 27/30 field\n",
      "42/47 trial, CA3, 28/30 field\n",
      "42/47 trial, CA3, 29/30 field\n",
      "44/47 trial, CA3, 0/32 field\n",
      "44/47 trial, CA3, 1/32 field\n",
      "44/47 trial, CA3, 2/32 field\n"
     ]
    },
    {
     "name": "stderr",
     "output_type": "stream",
     "text": [
      "/home/yiu/projects/hippocampus/common/comput_utils.py:1372: UserWarning: Shuffling window is smaller than the spike train! Using window size = range/5 instead.\n",
      "  warnings.warn(\"Shuffling window is smaller than the spike train! Using window size = range/5 instead.\")\n"
     ]
    },
    {
     "name": "stdout",
     "output_type": "stream",
     "text": [
      "44/47 trial, CA3, 3/32 field\n",
      "44/47 trial, CA3, 4/32 field\n"
     ]
    },
    {
     "name": "stderr",
     "output_type": "stream",
     "text": [
      "/home/yiu/projects/hippocampus/common/comput_utils.py:1372: UserWarning: Shuffling window is smaller than the spike train! Using window size = range/5 instead.\n",
      "  warnings.warn(\"Shuffling window is smaller than the spike train! Using window size = range/5 instead.\")\n",
      "/home/yiu/projects/hippocampus/common/comput_utils.py:1217: RuntimeWarning: Mean of empty slice\n",
      "  errd = np.nanmean(directionality - dtmp_norm) ** 2\n",
      "/home/yiu/projects/hippocampus/common/comput_utils.py:1218: RuntimeWarning: Mean of empty slice\n",
      "  errp = np.nanmean(positionality - ptmp_norm) ** 2\n"
     ]
    },
    {
     "name": "stdout",
     "output_type": "stream",
     "text": [
      "44/47 trial, CA3, 5/32 field\n",
      "44/47 trial, CA3, 6/32 field\n",
      "44/47 trial, CA3, 7/32 field\n",
      "44/47 trial, CA3, 8/32 field\n",
      "44/47 trial, CA3, 9/32 field\n",
      "44/47 trial, CA3, 10/32 field\n",
      "44/47 trial, CA3, 11/32 field\n",
      "44/47 trial, CA3, 12/32 field\n",
      "44/47 trial, CA3, 13/32 field\n",
      "44/47 trial, CA3, 14/32 field\n",
      "44/47 trial, CA3, 15/32 field\n",
      "44/47 trial, CA3, 16/32 field\n",
      "44/47 trial, CA3, 17/32 field\n",
      "44/47 trial, CA3, 18/32 field\n"
     ]
    },
    {
     "name": "stderr",
     "output_type": "stream",
     "text": [
      "/home/yiu/projects/hippocampus/common/comput_utils.py:1372: UserWarning: Shuffling window is smaller than the spike train! Using window size = range/5 instead.\n",
      "  warnings.warn(\"Shuffling window is smaller than the spike train! Using window size = range/5 instead.\")\n",
      "/home/yiu/projects/hippocampus/common/comput_utils.py:1217: RuntimeWarning: Mean of empty slice\n",
      "  errd = np.nanmean(directionality - dtmp_norm) ** 2\n",
      "/home/yiu/projects/hippocampus/common/comput_utils.py:1218: RuntimeWarning: Mean of empty slice\n",
      "  errp = np.nanmean(positionality - ptmp_norm) ** 2\n"
     ]
    },
    {
     "name": "stdout",
     "output_type": "stream",
     "text": [
      "44/47 trial, CA3, 19/32 field\n",
      "44/47 trial, CA3, 20/32 field\n",
      "44/47 trial, CA3, 21/32 field\n",
      "44/47 trial, CA3, 22/32 field\n",
      "44/47 trial, CA3, 23/32 field\n",
      "44/47 trial, CA3, 24/32 field\n",
      "44/47 trial, CA3, 25/32 field\n",
      "44/47 trial, CA3, 26/32 field\n"
     ]
    },
    {
     "name": "stderr",
     "output_type": "stream",
     "text": [
      "/home/yiu/projects/hippocampus/common/comput_utils.py:1372: UserWarning: Shuffling window is smaller than the spike train! Using window size = range/5 instead.\n",
      "  warnings.warn(\"Shuffling window is smaller than the spike train! Using window size = range/5 instead.\")\n"
     ]
    },
    {
     "name": "stdout",
     "output_type": "stream",
     "text": [
      "44/47 trial, CA3, 27/32 field\n",
      "44/47 trial, CA3, 28/32 field\n",
      "44/47 trial, CA3, 29/32 field\n",
      "44/47 trial, CA3, 30/32 field\n",
      "44/47 trial, CA3, 31/32 field\n",
      "46/47 trial, CA3, 0/28 field\n",
      "46/47 trial, CA3, 1/28 field\n",
      "46/47 trial, CA3, 2/28 field\n",
      "46/47 trial, CA3, 3/28 field\n",
      "46/47 trial, CA3, 4/28 field\n",
      "46/47 trial, CA3, 5/28 field\n",
      "46/47 trial, CA3, 6/28 field\n",
      "46/47 trial, CA3, 7/28 field\n",
      "46/47 trial, CA3, 8/28 field\n",
      "46/47 trial, CA3, 9/28 field\n",
      "46/47 trial, CA3, 10/28 field\n",
      "46/47 trial, CA3, 11/28 field\n",
      "46/47 trial, CA3, 12/28 field\n",
      "46/47 trial, CA3, 13/28 field\n",
      "46/47 trial, CA3, 14/28 field\n",
      "46/47 trial, CA3, 15/28 field\n",
      "46/47 trial, CA3, 16/28 field\n",
      "46/47 trial, CA3, 17/28 field\n",
      "46/47 trial, CA3, 18/28 field\n",
      "46/47 trial, CA3, 19/28 field\n",
      "46/47 trial, CA3, 20/28 field\n",
      "46/47 trial, CA3, 21/28 field\n",
      "46/47 trial, CA3, 22/28 field\n",
      "46/47 trial, CA3, 23/28 field\n",
      "46/47 trial, CA3, 24/28 field\n",
      "46/47 trial, CA3, 25/28 field\n",
      "46/47 trial, CA3, 26/28 field\n",
      "46/47 trial, CA3, 27/28 field\n"
     ]
    }
   ],
   "source": [
    "import time\n",
    "import numpy as np\n",
    "import pandas as pd\n",
    "import matplotlib.pyplot as plt\n",
    "import os\n",
    "from os.path import join\n",
    "from scipy.interpolate import interp1d\n",
    "from pycircstat.descriptive import resultant_vector_length, cdiff\n",
    "from pycircstat.descriptive import mean as circmean\n",
    "import warnings\n",
    "\n",
    "from common.utils import load_pickle\n",
    "from common.comput_utils import check_border, IndataProcessor, midedges, segment_passes, \\\n",
    "    check_border_sim, append_info_from_passes, \\\n",
    "    DirectionerBining, DirectionerMLM, timeshift_shuffle_exp_wrapper, circular_density_1d, get_numpass_at_angle, \\\n",
    "    PassShuffler\n",
    "\n",
    "from common.visualization import color_wheel, directionality_polar_plot, customlegend\n",
    "\n",
    "from common.script_wrappers import DirectionalityStatsByThresh, PrecessionProcesser, PrecessionFilter, \\\n",
    "    construct_passdf_sim, get_single_precessdf, compute_precessangle\n",
    "from common.shared_vars import fontsize, ticksize, legendsize, titlesize, ca_c, dpi, total_figw\n",
    "\n",
    "vthresh = 5\n",
    "sthresh = 3\n",
    "NShuffles = 200\n",
    "\n",
    "fielddf_dict = dict(ca=[], num_spikes=[], border=[], aver_rate=[], peak_rate=[],\n",
    "                    rate_angle=[], rate_R=[], rate_R_pval=[], field_area=[], field_bound=[],\n",
    "                    precess_df=[], precess_angle=[], precess_angle_low=[], precess_R=[], precess_R_pval=[],\n",
    "                    numpass_at_precess=[], numpass_at_precess_low=[])\n",
    "\n",
    "num_sess = df.shape[0]\n",
    "\n",
    "aedges = np.linspace(-np.pi, np.pi, 36)\n",
    "abind = aedges[1] - aedges[0]\n",
    "sp_binwidth = 5\n",
    "\n",
    "aedges_precess = np.linspace(-np.pi, np.pi, 6)\n",
    "kappa_precess = 1\n",
    "precess_filter = PrecessionFilter()\n",
    "nspikes_stats = {'CA1': 6, 'CA3': 7}  # 25% quantile for 0.4t\n",
    "for nsess in range(num_sess):\n",
    "\n",
    "    posdf = df.loc[nsess, 'posdf']\n",
    "    occ_dict = df.loc[nsess, 'occ_dict']\n",
    "    xx, yy = occ_dict['xx'], occ_dict['yy']\n",
    "    x_ax, y_ax = xx[0, :], yy[:, 0]\n",
    "    tunner = IndataProcessor(posdf, vthresh=vthresh, sthresh=sthresh, minpasstime=0.4)\n",
    "    trange = (tunner.t.max(), tunner.t.min())\n",
    "    dt = tunner.t[1] - tunner.t[0]\n",
    "    interpolater_angle = interp1d(tunner.t, tunner.angle)\n",
    "    interpolater_x = interp1d(tunner.t, tunner.x)\n",
    "    interpolater_y = interp1d(tunner.t, tunner.y)\n",
    "\n",
    "    wave = df.loc[nsess, 'wave']\n",
    "    wave = {col:np.array(wave[col]) for col in wave.columns}\n",
    "    precesser = PrecessionProcesser(wave=wave)\n",
    "    precesser.set_trange(trange)\n",
    "\n",
    "    for ca in ['CA1', 'CA3']:\n",
    "\n",
    "        # Get data\n",
    "        field_df, spdf = df.loc[nsess, ['%sfields' % (ca), '%s_spdf' % (ca)]]\n",
    "        num_fields = field_df.shape[0]\n",
    "\n",
    "        for nfield in range(num_fields):\n",
    "            print('%d/%d trial, %s, %d/%d field' % (nsess, num_sess, ca, nfield, num_fields))\n",
    "            cellid, mask, xyval = field_df.loc[nfield, ['cellid', 'mask', 'xyval']]\n",
    "            tsp, pf = spdf.loc[cellid, ['tsp', 'pf']]\n",
    "\n",
    "            # Get field info\n",
    "            field_area = np.sum(mask)\n",
    "            field_d = np.sqrt(field_area / np.pi) * 2\n",
    "            border = check_border(mask, margin=2)\n",
    "\n",
    "            # Construct passes (segment & chunk)\n",
    "            tok, idin = tunner.get_idin(mask.T, x_ax, y_ax)\n",
    "            passdf = tunner.construct_singlefield_passdf(tok, tsp, interpolater_x, interpolater_y,\n",
    "                                                         interpolater_angle)\n",
    "\n",
    "            allchunk_df = passdf[(~passdf['rejected']) & (passdf['chunked'] < 2)].reset_index(drop=True)\n",
    "\n",
    "            # Get info from passdf and interpolate\n",
    "            if allchunk_df.shape[0] < 1:\n",
    "                continue\n",
    "            all_x_list, all_y_list = allchunk_df['x'].to_list(), allchunk_df['y'].to_list()\n",
    "            all_t_list, all_passangles_list = allchunk_df['t'].to_list(), allchunk_df['angle'].to_list()\n",
    "            all_tsp_list, all_chunked_list = allchunk_df['tsp'].to_list(), allchunk_df['chunked'].to_list()\n",
    "            all_x = np.concatenate(all_x_list)\n",
    "            all_y = np.concatenate(all_y_list)\n",
    "            all_passangles = np.concatenate(all_passangles_list)\n",
    "            all_tsp = np.concatenate(all_tsp_list)\n",
    "            all_anglesp = np.concatenate(allchunk_df['spikeangle'].to_list())\n",
    "            xsp, ysp = np.concatenate(allchunk_df['spikex'].to_list()), np.concatenate(\n",
    "                allchunk_df['spikey'].to_list())\n",
    "            pos = np.stack([all_x, all_y]).T\n",
    "            possp = np.stack([xsp, ysp]).T\n",
    "\n",
    "            # Average firing rate\n",
    "            aver_rate = all_tsp.shape[0] / (all_x.shape[0] * dt)\n",
    "            peak_rate = np.max(pf['rate'] * mask)\n",
    "\n",
    "            # Field's directionality - need angle, anglesp, pos\n",
    "            num_spikes = all_tsp.shape[0]\n",
    "            occ_bins, _ = np.histogram(all_passangles, bins=aedges)\n",
    "            mlmer = DirectionerMLM(pos, all_passangles, dt, sp_binwidth=sp_binwidth, a_binwidth=abind)\n",
    "            rate_angle, rate_R, norm_prob_mlm = mlmer.get_directionality(possp, all_anglesp)\n",
    "\n",
    "            # Time shift shuffling for rate directionality\n",
    "            rate_R_pval = timeshift_shuffle_exp_wrapper(all_tsp_list, all_t_list, rate_R,\n",
    "                                                        NShuffles, mlmer, interpolater_x,\n",
    "                                                        interpolater_y, interpolater_angle, trange)\n",
    "\n",
    "            # Precession per pass\n",
    "            neuro_keys_dict = dict(tsp='tsp', spikev='spikev', spikex='spikex', spikey='spikey',\n",
    "                                   spikeangle='spikeangle')\n",
    "            accept_mask = (~passdf['rejected']) & (passdf['chunked'] < 2)\n",
    "            passdf['excluded_for_precess'] = ~accept_mask\n",
    "            precessdf, precess_angle, precess_R, _ = get_single_precessdf(passdf, precesser, precess_filter,\n",
    "                                                                          neuro_keys_dict,\n",
    "                                                                          field_d=field_d, kappa=kappa_precess,\n",
    "                                                                          bins=None)\n",
    "            fitted_precessdf = precessdf[precessdf['fitted']].reset_index(drop=True)\n",
    "            # Proceed only if precession exists\n",
    "            if (precess_angle is not None) and (fitted_precessdf['precess_exist'].sum() > 0):\n",
    "\n",
    "                # Post-hoc precession exclusion\n",
    "                _, binR, postdoc_dens = compute_precessangle(\n",
    "                    pass_angles=fitted_precessdf['mean_anglesp'].to_numpy(),\n",
    "                    pass_nspikes=fitted_precessdf['pass_nspikes'].to_numpy(),\n",
    "                    precess_mask=fitted_precessdf['precess_exist'].to_numpy(),\n",
    "                    kappa=None, bins=aedges_precess)\n",
    "                (_, passbins_p, passbins_np, _) = postdoc_dens\n",
    "                all_passbins = passbins_p + passbins_np\n",
    "                numpass_at_precess = get_numpass_at_angle(target_angle=precess_angle, aedge=aedges_precess,\n",
    "                                                          all_passbins=all_passbins)\n",
    "\n",
    "                # Precession - low-spike passes\n",
    "                ldf = fitted_precessdf[fitted_precessdf['pass_nspikes'] < nspikes_stats[ca]]  # 25% quantile\n",
    "                if (ldf.shape[0] > 0) and (ldf['precess_exist'].sum() > 0):\n",
    "                    precess_angle_low, _, _ = compute_precessangle(pass_angles=ldf['mean_anglesp'].to_numpy(),\n",
    "                                                                   pass_nspikes=ldf['pass_nspikes'].to_numpy(),\n",
    "                                                                   precess_mask=ldf['precess_exist'].to_numpy(),\n",
    "                                                                   kappa=kappa_precess, bins=None)\n",
    "                    _, _, postdoc_dens_low = compute_precessangle(pass_angles=ldf['mean_anglesp'].to_numpy(),\n",
    "                                                                  pass_nspikes=ldf['pass_nspikes'].to_numpy(),\n",
    "                                                                  precess_mask=ldf['precess_exist'].to_numpy(),\n",
    "                                                                  kappa=None, bins=aedges_precess)\n",
    "                    (_, passbins_p_low, passbins_np_low, _) = postdoc_dens_low\n",
    "                    all_passbins_low = passbins_p_low + passbins_np_low\n",
    "                    numpass_at_precess_low = get_numpass_at_angle(target_angle=precess_angle_low,\n",
    "                                                                  aedge=aedges_precess,\n",
    "                                                                  all_passbins=all_passbins_low)\n",
    "                else:\n",
    "                    precess_angle_low = None\n",
    "                    numpass_at_precess_low = None\n",
    "\n",
    "                precess_R_pval = 1\n",
    "\n",
    "\n",
    "            else:\n",
    "                numpass_at_precess = None\n",
    "                precess_angle_low = None\n",
    "                numpass_at_precess_low = None\n",
    "                precess_R_pval = None\n",
    "\n",
    "            fielddf_dict['ca'].append(ca)\n",
    "            fielddf_dict['num_spikes'].append(num_spikes)\n",
    "            fielddf_dict['field_area'].append(field_area)\n",
    "            fielddf_dict['field_bound'].append(xyval)\n",
    "            fielddf_dict['border'].append(border)\n",
    "            fielddf_dict['aver_rate'].append(aver_rate)\n",
    "            fielddf_dict['peak_rate'].append(peak_rate)\n",
    "            fielddf_dict['rate_angle'].append(rate_angle)\n",
    "            fielddf_dict['rate_R'].append(rate_R)\n",
    "            fielddf_dict['rate_R_pval'].append(rate_R_pval)\n",
    "            fielddf_dict['precess_df'].append(fitted_precessdf)\n",
    "            fielddf_dict['precess_angle'].append(precess_angle)\n",
    "            fielddf_dict['precess_angle_low'].append(precess_angle_low)\n",
    "            fielddf_dict['precess_R'].append(precess_R)\n",
    "            fielddf_dict['precess_R_pval'].append(precess_R_pval)\n",
    "            fielddf_dict['numpass_at_precess'].append(numpass_at_precess)\n",
    "            fielddf_dict['numpass_at_precess_low'].append(numpass_at_precess_low)\n",
    "\n",
    "\n",
    "fielddf_raw = pd.DataFrame(fielddf_dict)\n",
    "\n",
    "# Assign field ids within ca\n",
    "fielddf_raw['fieldid_ca'] = 0\n",
    "for ca, cadf in fielddf_raw.groupby('ca'):\n",
    "    fieldidca = np.arange(cadf.shape[0]) + 1\n",
    "    index_ca = cadf.index\n",
    "    fielddf_raw.loc[index_ca, 'fieldid_ca'] = fieldidca\n",
    "\n",
    "# fielddf_raw.to_pickle(save_pth)"
   ]
  },
  {
   "cell_type": "code",
   "execution_count": 57,
   "metadata": {},
   "outputs": [],
   "source": [
    "fielddf_raw.to_pickle('data/crcns-hc-3/hc3processed_combinedSessions.pickle')"
   ]
  },
  {
   "cell_type": "code",
   "execution_count": null,
   "metadata": {},
   "outputs": [],
   "source": []
  }
 ],
 "metadata": {
  "kernelspec": {
   "display_name": "Python 3",
   "language": "python",
   "name": "python3"
  },
  "language_info": {
   "codemirror_mode": {
    "name": "ipython",
    "version": 3
   },
   "file_extension": ".py",
   "mimetype": "text/x-python",
   "name": "python",
   "nbconvert_exporter": "python",
   "pygments_lexer": "ipython3",
   "version": "3.7.9"
  },
  "pycharm": {
   "stem_cell": {
    "cell_type": "raw",
    "metadata": {
     "collapsed": false
    },
    "source": []
   }
  }
 },
 "nbformat": 4,
 "nbformat_minor": 4
}
